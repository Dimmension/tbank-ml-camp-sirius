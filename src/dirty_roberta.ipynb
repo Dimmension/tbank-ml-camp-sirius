{
  "metadata": {
    "kernelspec": {
      "name": "python3",
      "display_name": "Python 3"
    },
    "language_info": {
      "name": "python",
      "version": "3.10.14",
      "mimetype": "text/x-python",
      "codemirror_mode": {
        "name": "ipython",
        "version": 3
      },
      "pygments_lexer": "ipython3",
      "nbconvert_exporter": "python",
      "file_extension": ".py"
    },
    "colab": {
      "provenance": [],
      "gpuType": "T4"
    },
    "accelerator": "GPU",
    "widgets": {
      "application/vnd.jupyter.widget-state+json": {
        "80b58219c8c445c1add95c372aad1fb3": {
          "model_module": "@jupyter-widgets/controls",
          "model_name": "HBoxModel",
          "model_module_version": "1.5.0",
          "state": {
            "_dom_classes": [],
            "_model_module": "@jupyter-widgets/controls",
            "_model_module_version": "1.5.0",
            "_model_name": "HBoxModel",
            "_view_count": null,
            "_view_module": "@jupyter-widgets/controls",
            "_view_module_version": "1.5.0",
            "_view_name": "HBoxView",
            "box_style": "",
            "children": [
              "IPY_MODEL_349db9a5eb1442ce9b05ac08a6bccae4",
              "IPY_MODEL_565ca839edfc4ab3b6b9fdc8f333ff44",
              "IPY_MODEL_0cb67f8e197646729deac80bb144e536"
            ],
            "layout": "IPY_MODEL_d4c537042d2143f38812a2796c1658cf"
          }
        },
        "349db9a5eb1442ce9b05ac08a6bccae4": {
          "model_module": "@jupyter-widgets/controls",
          "model_name": "HTMLModel",
          "model_module_version": "1.5.0",
          "state": {
            "_dom_classes": [],
            "_model_module": "@jupyter-widgets/controls",
            "_model_module_version": "1.5.0",
            "_model_name": "HTMLModel",
            "_view_count": null,
            "_view_module": "@jupyter-widgets/controls",
            "_view_module_version": "1.5.0",
            "_view_name": "HTMLView",
            "description": "",
            "description_tooltip": null,
            "layout": "IPY_MODEL_dff07efecc284872a94394256af69a85",
            "placeholder": "​",
            "style": "IPY_MODEL_f6aa83565f97418895582c4b04377b72",
            "value": "tokenizer_config.json: 100%"
          }
        },
        "565ca839edfc4ab3b6b9fdc8f333ff44": {
          "model_module": "@jupyter-widgets/controls",
          "model_name": "FloatProgressModel",
          "model_module_version": "1.5.0",
          "state": {
            "_dom_classes": [],
            "_model_module": "@jupyter-widgets/controls",
            "_model_module_version": "1.5.0",
            "_model_name": "FloatProgressModel",
            "_view_count": null,
            "_view_module": "@jupyter-widgets/controls",
            "_view_module_version": "1.5.0",
            "_view_name": "ProgressView",
            "bar_style": "success",
            "description": "",
            "description_tooltip": null,
            "layout": "IPY_MODEL_19861323d305489598ee6c041d9cb479",
            "max": 25,
            "min": 0,
            "orientation": "horizontal",
            "style": "IPY_MODEL_3e50b6f19d7a4b188df60153fea4b4b2",
            "value": 25
          }
        },
        "0cb67f8e197646729deac80bb144e536": {
          "model_module": "@jupyter-widgets/controls",
          "model_name": "HTMLModel",
          "model_module_version": "1.5.0",
          "state": {
            "_dom_classes": [],
            "_model_module": "@jupyter-widgets/controls",
            "_model_module_version": "1.5.0",
            "_model_name": "HTMLModel",
            "_view_count": null,
            "_view_module": "@jupyter-widgets/controls",
            "_view_module_version": "1.5.0",
            "_view_name": "HTMLView",
            "description": "",
            "description_tooltip": null,
            "layout": "IPY_MODEL_76aafd7e8e82442798d36047ee4b4715",
            "placeholder": "​",
            "style": "IPY_MODEL_15f7d452fc4b4a73a533021fb9b0310f",
            "value": " 25.0/25.0 [00:00&lt;00:00, 448B/s]"
          }
        },
        "d4c537042d2143f38812a2796c1658cf": {
          "model_module": "@jupyter-widgets/base",
          "model_name": "LayoutModel",
          "model_module_version": "1.2.0",
          "state": {
            "_model_module": "@jupyter-widgets/base",
            "_model_module_version": "1.2.0",
            "_model_name": "LayoutModel",
            "_view_count": null,
            "_view_module": "@jupyter-widgets/base",
            "_view_module_version": "1.2.0",
            "_view_name": "LayoutView",
            "align_content": null,
            "align_items": null,
            "align_self": null,
            "border": null,
            "bottom": null,
            "display": null,
            "flex": null,
            "flex_flow": null,
            "grid_area": null,
            "grid_auto_columns": null,
            "grid_auto_flow": null,
            "grid_auto_rows": null,
            "grid_column": null,
            "grid_gap": null,
            "grid_row": null,
            "grid_template_areas": null,
            "grid_template_columns": null,
            "grid_template_rows": null,
            "height": null,
            "justify_content": null,
            "justify_items": null,
            "left": null,
            "margin": null,
            "max_height": null,
            "max_width": null,
            "min_height": null,
            "min_width": null,
            "object_fit": null,
            "object_position": null,
            "order": null,
            "overflow": null,
            "overflow_x": null,
            "overflow_y": null,
            "padding": null,
            "right": null,
            "top": null,
            "visibility": null,
            "width": null
          }
        },
        "dff07efecc284872a94394256af69a85": {
          "model_module": "@jupyter-widgets/base",
          "model_name": "LayoutModel",
          "model_module_version": "1.2.0",
          "state": {
            "_model_module": "@jupyter-widgets/base",
            "_model_module_version": "1.2.0",
            "_model_name": "LayoutModel",
            "_view_count": null,
            "_view_module": "@jupyter-widgets/base",
            "_view_module_version": "1.2.0",
            "_view_name": "LayoutView",
            "align_content": null,
            "align_items": null,
            "align_self": null,
            "border": null,
            "bottom": null,
            "display": null,
            "flex": null,
            "flex_flow": null,
            "grid_area": null,
            "grid_auto_columns": null,
            "grid_auto_flow": null,
            "grid_auto_rows": null,
            "grid_column": null,
            "grid_gap": null,
            "grid_row": null,
            "grid_template_areas": null,
            "grid_template_columns": null,
            "grid_template_rows": null,
            "height": null,
            "justify_content": null,
            "justify_items": null,
            "left": null,
            "margin": null,
            "max_height": null,
            "max_width": null,
            "min_height": null,
            "min_width": null,
            "object_fit": null,
            "object_position": null,
            "order": null,
            "overflow": null,
            "overflow_x": null,
            "overflow_y": null,
            "padding": null,
            "right": null,
            "top": null,
            "visibility": null,
            "width": null
          }
        },
        "f6aa83565f97418895582c4b04377b72": {
          "model_module": "@jupyter-widgets/controls",
          "model_name": "DescriptionStyleModel",
          "model_module_version": "1.5.0",
          "state": {
            "_model_module": "@jupyter-widgets/controls",
            "_model_module_version": "1.5.0",
            "_model_name": "DescriptionStyleModel",
            "_view_count": null,
            "_view_module": "@jupyter-widgets/base",
            "_view_module_version": "1.2.0",
            "_view_name": "StyleView",
            "description_width": ""
          }
        },
        "19861323d305489598ee6c041d9cb479": {
          "model_module": "@jupyter-widgets/base",
          "model_name": "LayoutModel",
          "model_module_version": "1.2.0",
          "state": {
            "_model_module": "@jupyter-widgets/base",
            "_model_module_version": "1.2.0",
            "_model_name": "LayoutModel",
            "_view_count": null,
            "_view_module": "@jupyter-widgets/base",
            "_view_module_version": "1.2.0",
            "_view_name": "LayoutView",
            "align_content": null,
            "align_items": null,
            "align_self": null,
            "border": null,
            "bottom": null,
            "display": null,
            "flex": null,
            "flex_flow": null,
            "grid_area": null,
            "grid_auto_columns": null,
            "grid_auto_flow": null,
            "grid_auto_rows": null,
            "grid_column": null,
            "grid_gap": null,
            "grid_row": null,
            "grid_template_areas": null,
            "grid_template_columns": null,
            "grid_template_rows": null,
            "height": null,
            "justify_content": null,
            "justify_items": null,
            "left": null,
            "margin": null,
            "max_height": null,
            "max_width": null,
            "min_height": null,
            "min_width": null,
            "object_fit": null,
            "object_position": null,
            "order": null,
            "overflow": null,
            "overflow_x": null,
            "overflow_y": null,
            "padding": null,
            "right": null,
            "top": null,
            "visibility": null,
            "width": null
          }
        },
        "3e50b6f19d7a4b188df60153fea4b4b2": {
          "model_module": "@jupyter-widgets/controls",
          "model_name": "ProgressStyleModel",
          "model_module_version": "1.5.0",
          "state": {
            "_model_module": "@jupyter-widgets/controls",
            "_model_module_version": "1.5.0",
            "_model_name": "ProgressStyleModel",
            "_view_count": null,
            "_view_module": "@jupyter-widgets/base",
            "_view_module_version": "1.2.0",
            "_view_name": "StyleView",
            "bar_color": null,
            "description_width": ""
          }
        },
        "76aafd7e8e82442798d36047ee4b4715": {
          "model_module": "@jupyter-widgets/base",
          "model_name": "LayoutModel",
          "model_module_version": "1.2.0",
          "state": {
            "_model_module": "@jupyter-widgets/base",
            "_model_module_version": "1.2.0",
            "_model_name": "LayoutModel",
            "_view_count": null,
            "_view_module": "@jupyter-widgets/base",
            "_view_module_version": "1.2.0",
            "_view_name": "LayoutView",
            "align_content": null,
            "align_items": null,
            "align_self": null,
            "border": null,
            "bottom": null,
            "display": null,
            "flex": null,
            "flex_flow": null,
            "grid_area": null,
            "grid_auto_columns": null,
            "grid_auto_flow": null,
            "grid_auto_rows": null,
            "grid_column": null,
            "grid_gap": null,
            "grid_row": null,
            "grid_template_areas": null,
            "grid_template_columns": null,
            "grid_template_rows": null,
            "height": null,
            "justify_content": null,
            "justify_items": null,
            "left": null,
            "margin": null,
            "max_height": null,
            "max_width": null,
            "min_height": null,
            "min_width": null,
            "object_fit": null,
            "object_position": null,
            "order": null,
            "overflow": null,
            "overflow_x": null,
            "overflow_y": null,
            "padding": null,
            "right": null,
            "top": null,
            "visibility": null,
            "width": null
          }
        },
        "15f7d452fc4b4a73a533021fb9b0310f": {
          "model_module": "@jupyter-widgets/controls",
          "model_name": "DescriptionStyleModel",
          "model_module_version": "1.5.0",
          "state": {
            "_model_module": "@jupyter-widgets/controls",
            "_model_module_version": "1.5.0",
            "_model_name": "DescriptionStyleModel",
            "_view_count": null,
            "_view_module": "@jupyter-widgets/base",
            "_view_module_version": "1.2.0",
            "_view_name": "StyleView",
            "description_width": ""
          }
        },
        "cbb4e0f3995e42ed909a14160797f428": {
          "model_module": "@jupyter-widgets/controls",
          "model_name": "HBoxModel",
          "model_module_version": "1.5.0",
          "state": {
            "_dom_classes": [],
            "_model_module": "@jupyter-widgets/controls",
            "_model_module_version": "1.5.0",
            "_model_name": "HBoxModel",
            "_view_count": null,
            "_view_module": "@jupyter-widgets/controls",
            "_view_module_version": "1.5.0",
            "_view_name": "HBoxView",
            "box_style": "",
            "children": [
              "IPY_MODEL_040e4f24b7fc4f9c935060c5cd27569a",
              "IPY_MODEL_8e229d4a0b3945048fc2fa45a8acb697",
              "IPY_MODEL_2e8573438467493dac606740a26d08cf"
            ],
            "layout": "IPY_MODEL_afd525af38e2487c895d6ad1cf109090"
          }
        },
        "040e4f24b7fc4f9c935060c5cd27569a": {
          "model_module": "@jupyter-widgets/controls",
          "model_name": "HTMLModel",
          "model_module_version": "1.5.0",
          "state": {
            "_dom_classes": [],
            "_model_module": "@jupyter-widgets/controls",
            "_model_module_version": "1.5.0",
            "_model_name": "HTMLModel",
            "_view_count": null,
            "_view_module": "@jupyter-widgets/controls",
            "_view_module_version": "1.5.0",
            "_view_name": "HTMLView",
            "description": "",
            "description_tooltip": null,
            "layout": "IPY_MODEL_90a822411d90499dbd8255d1d8eaaf4a",
            "placeholder": "​",
            "style": "IPY_MODEL_181d367aa11f41bb8f58b169d47ba2f5",
            "value": "config.json: 100%"
          }
        },
        "8e229d4a0b3945048fc2fa45a8acb697": {
          "model_module": "@jupyter-widgets/controls",
          "model_name": "FloatProgressModel",
          "model_module_version": "1.5.0",
          "state": {
            "_dom_classes": [],
            "_model_module": "@jupyter-widgets/controls",
            "_model_module_version": "1.5.0",
            "_model_name": "FloatProgressModel",
            "_view_count": null,
            "_view_module": "@jupyter-widgets/controls",
            "_view_module_version": "1.5.0",
            "_view_name": "ProgressView",
            "bar_style": "success",
            "description": "",
            "description_tooltip": null,
            "layout": "IPY_MODEL_df5047a04df04481a69eaae58b906e6e",
            "max": 481,
            "min": 0,
            "orientation": "horizontal",
            "style": "IPY_MODEL_db040acaa8584f859fe6c42b2ac47b39",
            "value": 481
          }
        },
        "2e8573438467493dac606740a26d08cf": {
          "model_module": "@jupyter-widgets/controls",
          "model_name": "HTMLModel",
          "model_module_version": "1.5.0",
          "state": {
            "_dom_classes": [],
            "_model_module": "@jupyter-widgets/controls",
            "_model_module_version": "1.5.0",
            "_model_name": "HTMLModel",
            "_view_count": null,
            "_view_module": "@jupyter-widgets/controls",
            "_view_module_version": "1.5.0",
            "_view_name": "HTMLView",
            "description": "",
            "description_tooltip": null,
            "layout": "IPY_MODEL_a30b3a03008b4ce5b11563c1fe123dc6",
            "placeholder": "​",
            "style": "IPY_MODEL_e20a0eda713f457e9c68375368accc4b",
            "value": " 481/481 [00:00&lt;00:00, 6.94kB/s]"
          }
        },
        "afd525af38e2487c895d6ad1cf109090": {
          "model_module": "@jupyter-widgets/base",
          "model_name": "LayoutModel",
          "model_module_version": "1.2.0",
          "state": {
            "_model_module": "@jupyter-widgets/base",
            "_model_module_version": "1.2.0",
            "_model_name": "LayoutModel",
            "_view_count": null,
            "_view_module": "@jupyter-widgets/base",
            "_view_module_version": "1.2.0",
            "_view_name": "LayoutView",
            "align_content": null,
            "align_items": null,
            "align_self": null,
            "border": null,
            "bottom": null,
            "display": null,
            "flex": null,
            "flex_flow": null,
            "grid_area": null,
            "grid_auto_columns": null,
            "grid_auto_flow": null,
            "grid_auto_rows": null,
            "grid_column": null,
            "grid_gap": null,
            "grid_row": null,
            "grid_template_areas": null,
            "grid_template_columns": null,
            "grid_template_rows": null,
            "height": null,
            "justify_content": null,
            "justify_items": null,
            "left": null,
            "margin": null,
            "max_height": null,
            "max_width": null,
            "min_height": null,
            "min_width": null,
            "object_fit": null,
            "object_position": null,
            "order": null,
            "overflow": null,
            "overflow_x": null,
            "overflow_y": null,
            "padding": null,
            "right": null,
            "top": null,
            "visibility": null,
            "width": null
          }
        },
        "90a822411d90499dbd8255d1d8eaaf4a": {
          "model_module": "@jupyter-widgets/base",
          "model_name": "LayoutModel",
          "model_module_version": "1.2.0",
          "state": {
            "_model_module": "@jupyter-widgets/base",
            "_model_module_version": "1.2.0",
            "_model_name": "LayoutModel",
            "_view_count": null,
            "_view_module": "@jupyter-widgets/base",
            "_view_module_version": "1.2.0",
            "_view_name": "LayoutView",
            "align_content": null,
            "align_items": null,
            "align_self": null,
            "border": null,
            "bottom": null,
            "display": null,
            "flex": null,
            "flex_flow": null,
            "grid_area": null,
            "grid_auto_columns": null,
            "grid_auto_flow": null,
            "grid_auto_rows": null,
            "grid_column": null,
            "grid_gap": null,
            "grid_row": null,
            "grid_template_areas": null,
            "grid_template_columns": null,
            "grid_template_rows": null,
            "height": null,
            "justify_content": null,
            "justify_items": null,
            "left": null,
            "margin": null,
            "max_height": null,
            "max_width": null,
            "min_height": null,
            "min_width": null,
            "object_fit": null,
            "object_position": null,
            "order": null,
            "overflow": null,
            "overflow_x": null,
            "overflow_y": null,
            "padding": null,
            "right": null,
            "top": null,
            "visibility": null,
            "width": null
          }
        },
        "181d367aa11f41bb8f58b169d47ba2f5": {
          "model_module": "@jupyter-widgets/controls",
          "model_name": "DescriptionStyleModel",
          "model_module_version": "1.5.0",
          "state": {
            "_model_module": "@jupyter-widgets/controls",
            "_model_module_version": "1.5.0",
            "_model_name": "DescriptionStyleModel",
            "_view_count": null,
            "_view_module": "@jupyter-widgets/base",
            "_view_module_version": "1.2.0",
            "_view_name": "StyleView",
            "description_width": ""
          }
        },
        "df5047a04df04481a69eaae58b906e6e": {
          "model_module": "@jupyter-widgets/base",
          "model_name": "LayoutModel",
          "model_module_version": "1.2.0",
          "state": {
            "_model_module": "@jupyter-widgets/base",
            "_model_module_version": "1.2.0",
            "_model_name": "LayoutModel",
            "_view_count": null,
            "_view_module": "@jupyter-widgets/base",
            "_view_module_version": "1.2.0",
            "_view_name": "LayoutView",
            "align_content": null,
            "align_items": null,
            "align_self": null,
            "border": null,
            "bottom": null,
            "display": null,
            "flex": null,
            "flex_flow": null,
            "grid_area": null,
            "grid_auto_columns": null,
            "grid_auto_flow": null,
            "grid_auto_rows": null,
            "grid_column": null,
            "grid_gap": null,
            "grid_row": null,
            "grid_template_areas": null,
            "grid_template_columns": null,
            "grid_template_rows": null,
            "height": null,
            "justify_content": null,
            "justify_items": null,
            "left": null,
            "margin": null,
            "max_height": null,
            "max_width": null,
            "min_height": null,
            "min_width": null,
            "object_fit": null,
            "object_position": null,
            "order": null,
            "overflow": null,
            "overflow_x": null,
            "overflow_y": null,
            "padding": null,
            "right": null,
            "top": null,
            "visibility": null,
            "width": null
          }
        },
        "db040acaa8584f859fe6c42b2ac47b39": {
          "model_module": "@jupyter-widgets/controls",
          "model_name": "ProgressStyleModel",
          "model_module_version": "1.5.0",
          "state": {
            "_model_module": "@jupyter-widgets/controls",
            "_model_module_version": "1.5.0",
            "_model_name": "ProgressStyleModel",
            "_view_count": null,
            "_view_module": "@jupyter-widgets/base",
            "_view_module_version": "1.2.0",
            "_view_name": "StyleView",
            "bar_color": null,
            "description_width": ""
          }
        },
        "a30b3a03008b4ce5b11563c1fe123dc6": {
          "model_module": "@jupyter-widgets/base",
          "model_name": "LayoutModel",
          "model_module_version": "1.2.0",
          "state": {
            "_model_module": "@jupyter-widgets/base",
            "_model_module_version": "1.2.0",
            "_model_name": "LayoutModel",
            "_view_count": null,
            "_view_module": "@jupyter-widgets/base",
            "_view_module_version": "1.2.0",
            "_view_name": "LayoutView",
            "align_content": null,
            "align_items": null,
            "align_self": null,
            "border": null,
            "bottom": null,
            "display": null,
            "flex": null,
            "flex_flow": null,
            "grid_area": null,
            "grid_auto_columns": null,
            "grid_auto_flow": null,
            "grid_auto_rows": null,
            "grid_column": null,
            "grid_gap": null,
            "grid_row": null,
            "grid_template_areas": null,
            "grid_template_columns": null,
            "grid_template_rows": null,
            "height": null,
            "justify_content": null,
            "justify_items": null,
            "left": null,
            "margin": null,
            "max_height": null,
            "max_width": null,
            "min_height": null,
            "min_width": null,
            "object_fit": null,
            "object_position": null,
            "order": null,
            "overflow": null,
            "overflow_x": null,
            "overflow_y": null,
            "padding": null,
            "right": null,
            "top": null,
            "visibility": null,
            "width": null
          }
        },
        "e20a0eda713f457e9c68375368accc4b": {
          "model_module": "@jupyter-widgets/controls",
          "model_name": "DescriptionStyleModel",
          "model_module_version": "1.5.0",
          "state": {
            "_model_module": "@jupyter-widgets/controls",
            "_model_module_version": "1.5.0",
            "_model_name": "DescriptionStyleModel",
            "_view_count": null,
            "_view_module": "@jupyter-widgets/base",
            "_view_module_version": "1.2.0",
            "_view_name": "StyleView",
            "description_width": ""
          }
        },
        "fde10b3916da42849a238af9d00ceb48": {
          "model_module": "@jupyter-widgets/controls",
          "model_name": "HBoxModel",
          "model_module_version": "1.5.0",
          "state": {
            "_dom_classes": [],
            "_model_module": "@jupyter-widgets/controls",
            "_model_module_version": "1.5.0",
            "_model_name": "HBoxModel",
            "_view_count": null,
            "_view_module": "@jupyter-widgets/controls",
            "_view_module_version": "1.5.0",
            "_view_name": "HBoxView",
            "box_style": "",
            "children": [
              "IPY_MODEL_17795c49594449efb4eaacf563790787",
              "IPY_MODEL_1dda6896e2f64405baca7b774ce60fd8",
              "IPY_MODEL_bcb54e47698347ec9a1eb0e75a45e313"
            ],
            "layout": "IPY_MODEL_ff8377e9580149b586fde3c660afaeae"
          }
        },
        "17795c49594449efb4eaacf563790787": {
          "model_module": "@jupyter-widgets/controls",
          "model_name": "HTMLModel",
          "model_module_version": "1.5.0",
          "state": {
            "_dom_classes": [],
            "_model_module": "@jupyter-widgets/controls",
            "_model_module_version": "1.5.0",
            "_model_name": "HTMLModel",
            "_view_count": null,
            "_view_module": "@jupyter-widgets/controls",
            "_view_module_version": "1.5.0",
            "_view_name": "HTMLView",
            "description": "",
            "description_tooltip": null,
            "layout": "IPY_MODEL_3fc6dce261384c4d969ac8b48ce67614",
            "placeholder": "​",
            "style": "IPY_MODEL_6f7c761d1f1a403f9ae28b1301c46984",
            "value": "vocab.json: 100%"
          }
        },
        "1dda6896e2f64405baca7b774ce60fd8": {
          "model_module": "@jupyter-widgets/controls",
          "model_name": "FloatProgressModel",
          "model_module_version": "1.5.0",
          "state": {
            "_dom_classes": [],
            "_model_module": "@jupyter-widgets/controls",
            "_model_module_version": "1.5.0",
            "_model_name": "FloatProgressModel",
            "_view_count": null,
            "_view_module": "@jupyter-widgets/controls",
            "_view_module_version": "1.5.0",
            "_view_name": "ProgressView",
            "bar_style": "success",
            "description": "",
            "description_tooltip": null,
            "layout": "IPY_MODEL_bc92cae829a547c5a3541a4197108e9c",
            "max": 898823,
            "min": 0,
            "orientation": "horizontal",
            "style": "IPY_MODEL_f761942c02bb4d76a89cd7e325b9bd7b",
            "value": 898823
          }
        },
        "bcb54e47698347ec9a1eb0e75a45e313": {
          "model_module": "@jupyter-widgets/controls",
          "model_name": "HTMLModel",
          "model_module_version": "1.5.0",
          "state": {
            "_dom_classes": [],
            "_model_module": "@jupyter-widgets/controls",
            "_model_module_version": "1.5.0",
            "_model_name": "HTMLModel",
            "_view_count": null,
            "_view_module": "@jupyter-widgets/controls",
            "_view_module_version": "1.5.0",
            "_view_name": "HTMLView",
            "description": "",
            "description_tooltip": null,
            "layout": "IPY_MODEL_93813b433cea4c489197bb24fdd01cb1",
            "placeholder": "​",
            "style": "IPY_MODEL_ceb71959cc104b909a6b7ce806722d11",
            "value": " 899k/899k [00:00&lt;00:00, 4.40MB/s]"
          }
        },
        "ff8377e9580149b586fde3c660afaeae": {
          "model_module": "@jupyter-widgets/base",
          "model_name": "LayoutModel",
          "model_module_version": "1.2.0",
          "state": {
            "_model_module": "@jupyter-widgets/base",
            "_model_module_version": "1.2.0",
            "_model_name": "LayoutModel",
            "_view_count": null,
            "_view_module": "@jupyter-widgets/base",
            "_view_module_version": "1.2.0",
            "_view_name": "LayoutView",
            "align_content": null,
            "align_items": null,
            "align_self": null,
            "border": null,
            "bottom": null,
            "display": null,
            "flex": null,
            "flex_flow": null,
            "grid_area": null,
            "grid_auto_columns": null,
            "grid_auto_flow": null,
            "grid_auto_rows": null,
            "grid_column": null,
            "grid_gap": null,
            "grid_row": null,
            "grid_template_areas": null,
            "grid_template_columns": null,
            "grid_template_rows": null,
            "height": null,
            "justify_content": null,
            "justify_items": null,
            "left": null,
            "margin": null,
            "max_height": null,
            "max_width": null,
            "min_height": null,
            "min_width": null,
            "object_fit": null,
            "object_position": null,
            "order": null,
            "overflow": null,
            "overflow_x": null,
            "overflow_y": null,
            "padding": null,
            "right": null,
            "top": null,
            "visibility": null,
            "width": null
          }
        },
        "3fc6dce261384c4d969ac8b48ce67614": {
          "model_module": "@jupyter-widgets/base",
          "model_name": "LayoutModel",
          "model_module_version": "1.2.0",
          "state": {
            "_model_module": "@jupyter-widgets/base",
            "_model_module_version": "1.2.0",
            "_model_name": "LayoutModel",
            "_view_count": null,
            "_view_module": "@jupyter-widgets/base",
            "_view_module_version": "1.2.0",
            "_view_name": "LayoutView",
            "align_content": null,
            "align_items": null,
            "align_self": null,
            "border": null,
            "bottom": null,
            "display": null,
            "flex": null,
            "flex_flow": null,
            "grid_area": null,
            "grid_auto_columns": null,
            "grid_auto_flow": null,
            "grid_auto_rows": null,
            "grid_column": null,
            "grid_gap": null,
            "grid_row": null,
            "grid_template_areas": null,
            "grid_template_columns": null,
            "grid_template_rows": null,
            "height": null,
            "justify_content": null,
            "justify_items": null,
            "left": null,
            "margin": null,
            "max_height": null,
            "max_width": null,
            "min_height": null,
            "min_width": null,
            "object_fit": null,
            "object_position": null,
            "order": null,
            "overflow": null,
            "overflow_x": null,
            "overflow_y": null,
            "padding": null,
            "right": null,
            "top": null,
            "visibility": null,
            "width": null
          }
        },
        "6f7c761d1f1a403f9ae28b1301c46984": {
          "model_module": "@jupyter-widgets/controls",
          "model_name": "DescriptionStyleModel",
          "model_module_version": "1.5.0",
          "state": {
            "_model_module": "@jupyter-widgets/controls",
            "_model_module_version": "1.5.0",
            "_model_name": "DescriptionStyleModel",
            "_view_count": null,
            "_view_module": "@jupyter-widgets/base",
            "_view_module_version": "1.2.0",
            "_view_name": "StyleView",
            "description_width": ""
          }
        },
        "bc92cae829a547c5a3541a4197108e9c": {
          "model_module": "@jupyter-widgets/base",
          "model_name": "LayoutModel",
          "model_module_version": "1.2.0",
          "state": {
            "_model_module": "@jupyter-widgets/base",
            "_model_module_version": "1.2.0",
            "_model_name": "LayoutModel",
            "_view_count": null,
            "_view_module": "@jupyter-widgets/base",
            "_view_module_version": "1.2.0",
            "_view_name": "LayoutView",
            "align_content": null,
            "align_items": null,
            "align_self": null,
            "border": null,
            "bottom": null,
            "display": null,
            "flex": null,
            "flex_flow": null,
            "grid_area": null,
            "grid_auto_columns": null,
            "grid_auto_flow": null,
            "grid_auto_rows": null,
            "grid_column": null,
            "grid_gap": null,
            "grid_row": null,
            "grid_template_areas": null,
            "grid_template_columns": null,
            "grid_template_rows": null,
            "height": null,
            "justify_content": null,
            "justify_items": null,
            "left": null,
            "margin": null,
            "max_height": null,
            "max_width": null,
            "min_height": null,
            "min_width": null,
            "object_fit": null,
            "object_position": null,
            "order": null,
            "overflow": null,
            "overflow_x": null,
            "overflow_y": null,
            "padding": null,
            "right": null,
            "top": null,
            "visibility": null,
            "width": null
          }
        },
        "f761942c02bb4d76a89cd7e325b9bd7b": {
          "model_module": "@jupyter-widgets/controls",
          "model_name": "ProgressStyleModel",
          "model_module_version": "1.5.0",
          "state": {
            "_model_module": "@jupyter-widgets/controls",
            "_model_module_version": "1.5.0",
            "_model_name": "ProgressStyleModel",
            "_view_count": null,
            "_view_module": "@jupyter-widgets/base",
            "_view_module_version": "1.2.0",
            "_view_name": "StyleView",
            "bar_color": null,
            "description_width": ""
          }
        },
        "93813b433cea4c489197bb24fdd01cb1": {
          "model_module": "@jupyter-widgets/base",
          "model_name": "LayoutModel",
          "model_module_version": "1.2.0",
          "state": {
            "_model_module": "@jupyter-widgets/base",
            "_model_module_version": "1.2.0",
            "_model_name": "LayoutModel",
            "_view_count": null,
            "_view_module": "@jupyter-widgets/base",
            "_view_module_version": "1.2.0",
            "_view_name": "LayoutView",
            "align_content": null,
            "align_items": null,
            "align_self": null,
            "border": null,
            "bottom": null,
            "display": null,
            "flex": null,
            "flex_flow": null,
            "grid_area": null,
            "grid_auto_columns": null,
            "grid_auto_flow": null,
            "grid_auto_rows": null,
            "grid_column": null,
            "grid_gap": null,
            "grid_row": null,
            "grid_template_areas": null,
            "grid_template_columns": null,
            "grid_template_rows": null,
            "height": null,
            "justify_content": null,
            "justify_items": null,
            "left": null,
            "margin": null,
            "max_height": null,
            "max_width": null,
            "min_height": null,
            "min_width": null,
            "object_fit": null,
            "object_position": null,
            "order": null,
            "overflow": null,
            "overflow_x": null,
            "overflow_y": null,
            "padding": null,
            "right": null,
            "top": null,
            "visibility": null,
            "width": null
          }
        },
        "ceb71959cc104b909a6b7ce806722d11": {
          "model_module": "@jupyter-widgets/controls",
          "model_name": "DescriptionStyleModel",
          "model_module_version": "1.5.0",
          "state": {
            "_model_module": "@jupyter-widgets/controls",
            "_model_module_version": "1.5.0",
            "_model_name": "DescriptionStyleModel",
            "_view_count": null,
            "_view_module": "@jupyter-widgets/base",
            "_view_module_version": "1.2.0",
            "_view_name": "StyleView",
            "description_width": ""
          }
        },
        "6995bd05a118473f99754461da8d9cdd": {
          "model_module": "@jupyter-widgets/controls",
          "model_name": "HBoxModel",
          "model_module_version": "1.5.0",
          "state": {
            "_dom_classes": [],
            "_model_module": "@jupyter-widgets/controls",
            "_model_module_version": "1.5.0",
            "_model_name": "HBoxModel",
            "_view_count": null,
            "_view_module": "@jupyter-widgets/controls",
            "_view_module_version": "1.5.0",
            "_view_name": "HBoxView",
            "box_style": "",
            "children": [
              "IPY_MODEL_1c89f4e3446a4fd7a841ee2a755d0dec",
              "IPY_MODEL_e6b57e26e4744406960856e0c4359ad8",
              "IPY_MODEL_1821da75b49c4e0fbbc4ea6d1d6653c6"
            ],
            "layout": "IPY_MODEL_1ed91cd9ffcb43a49958a2e12688ea6e"
          }
        },
        "1c89f4e3446a4fd7a841ee2a755d0dec": {
          "model_module": "@jupyter-widgets/controls",
          "model_name": "HTMLModel",
          "model_module_version": "1.5.0",
          "state": {
            "_dom_classes": [],
            "_model_module": "@jupyter-widgets/controls",
            "_model_module_version": "1.5.0",
            "_model_name": "HTMLModel",
            "_view_count": null,
            "_view_module": "@jupyter-widgets/controls",
            "_view_module_version": "1.5.0",
            "_view_name": "HTMLView",
            "description": "",
            "description_tooltip": null,
            "layout": "IPY_MODEL_7801f6fd4ecf4480a8aebc224845ec17",
            "placeholder": "​",
            "style": "IPY_MODEL_64b6d83beacc4c98a78a45b8663ea065",
            "value": "merges.txt: 100%"
          }
        },
        "e6b57e26e4744406960856e0c4359ad8": {
          "model_module": "@jupyter-widgets/controls",
          "model_name": "FloatProgressModel",
          "model_module_version": "1.5.0",
          "state": {
            "_dom_classes": [],
            "_model_module": "@jupyter-widgets/controls",
            "_model_module_version": "1.5.0",
            "_model_name": "FloatProgressModel",
            "_view_count": null,
            "_view_module": "@jupyter-widgets/controls",
            "_view_module_version": "1.5.0",
            "_view_name": "ProgressView",
            "bar_style": "success",
            "description": "",
            "description_tooltip": null,
            "layout": "IPY_MODEL_f7e6b53b121840339dcbdc11099b9c76",
            "max": 456318,
            "min": 0,
            "orientation": "horizontal",
            "style": "IPY_MODEL_5d5f3eb620354f5c87032e4864e7c77b",
            "value": 456318
          }
        },
        "1821da75b49c4e0fbbc4ea6d1d6653c6": {
          "model_module": "@jupyter-widgets/controls",
          "model_name": "HTMLModel",
          "model_module_version": "1.5.0",
          "state": {
            "_dom_classes": [],
            "_model_module": "@jupyter-widgets/controls",
            "_model_module_version": "1.5.0",
            "_model_name": "HTMLModel",
            "_view_count": null,
            "_view_module": "@jupyter-widgets/controls",
            "_view_module_version": "1.5.0",
            "_view_name": "HTMLView",
            "description": "",
            "description_tooltip": null,
            "layout": "IPY_MODEL_cb2829b00d1b42f5b5ff3997ca711400",
            "placeholder": "​",
            "style": "IPY_MODEL_07b1b6d61a914d0cb577681f4b233c04",
            "value": " 456k/456k [00:00&lt;00:00, 3.53MB/s]"
          }
        },
        "1ed91cd9ffcb43a49958a2e12688ea6e": {
          "model_module": "@jupyter-widgets/base",
          "model_name": "LayoutModel",
          "model_module_version": "1.2.0",
          "state": {
            "_model_module": "@jupyter-widgets/base",
            "_model_module_version": "1.2.0",
            "_model_name": "LayoutModel",
            "_view_count": null,
            "_view_module": "@jupyter-widgets/base",
            "_view_module_version": "1.2.0",
            "_view_name": "LayoutView",
            "align_content": null,
            "align_items": null,
            "align_self": null,
            "border": null,
            "bottom": null,
            "display": null,
            "flex": null,
            "flex_flow": null,
            "grid_area": null,
            "grid_auto_columns": null,
            "grid_auto_flow": null,
            "grid_auto_rows": null,
            "grid_column": null,
            "grid_gap": null,
            "grid_row": null,
            "grid_template_areas": null,
            "grid_template_columns": null,
            "grid_template_rows": null,
            "height": null,
            "justify_content": null,
            "justify_items": null,
            "left": null,
            "margin": null,
            "max_height": null,
            "max_width": null,
            "min_height": null,
            "min_width": null,
            "object_fit": null,
            "object_position": null,
            "order": null,
            "overflow": null,
            "overflow_x": null,
            "overflow_y": null,
            "padding": null,
            "right": null,
            "top": null,
            "visibility": null,
            "width": null
          }
        },
        "7801f6fd4ecf4480a8aebc224845ec17": {
          "model_module": "@jupyter-widgets/base",
          "model_name": "LayoutModel",
          "model_module_version": "1.2.0",
          "state": {
            "_model_module": "@jupyter-widgets/base",
            "_model_module_version": "1.2.0",
            "_model_name": "LayoutModel",
            "_view_count": null,
            "_view_module": "@jupyter-widgets/base",
            "_view_module_version": "1.2.0",
            "_view_name": "LayoutView",
            "align_content": null,
            "align_items": null,
            "align_self": null,
            "border": null,
            "bottom": null,
            "display": null,
            "flex": null,
            "flex_flow": null,
            "grid_area": null,
            "grid_auto_columns": null,
            "grid_auto_flow": null,
            "grid_auto_rows": null,
            "grid_column": null,
            "grid_gap": null,
            "grid_row": null,
            "grid_template_areas": null,
            "grid_template_columns": null,
            "grid_template_rows": null,
            "height": null,
            "justify_content": null,
            "justify_items": null,
            "left": null,
            "margin": null,
            "max_height": null,
            "max_width": null,
            "min_height": null,
            "min_width": null,
            "object_fit": null,
            "object_position": null,
            "order": null,
            "overflow": null,
            "overflow_x": null,
            "overflow_y": null,
            "padding": null,
            "right": null,
            "top": null,
            "visibility": null,
            "width": null
          }
        },
        "64b6d83beacc4c98a78a45b8663ea065": {
          "model_module": "@jupyter-widgets/controls",
          "model_name": "DescriptionStyleModel",
          "model_module_version": "1.5.0",
          "state": {
            "_model_module": "@jupyter-widgets/controls",
            "_model_module_version": "1.5.0",
            "_model_name": "DescriptionStyleModel",
            "_view_count": null,
            "_view_module": "@jupyter-widgets/base",
            "_view_module_version": "1.2.0",
            "_view_name": "StyleView",
            "description_width": ""
          }
        },
        "f7e6b53b121840339dcbdc11099b9c76": {
          "model_module": "@jupyter-widgets/base",
          "model_name": "LayoutModel",
          "model_module_version": "1.2.0",
          "state": {
            "_model_module": "@jupyter-widgets/base",
            "_model_module_version": "1.2.0",
            "_model_name": "LayoutModel",
            "_view_count": null,
            "_view_module": "@jupyter-widgets/base",
            "_view_module_version": "1.2.0",
            "_view_name": "LayoutView",
            "align_content": null,
            "align_items": null,
            "align_self": null,
            "border": null,
            "bottom": null,
            "display": null,
            "flex": null,
            "flex_flow": null,
            "grid_area": null,
            "grid_auto_columns": null,
            "grid_auto_flow": null,
            "grid_auto_rows": null,
            "grid_column": null,
            "grid_gap": null,
            "grid_row": null,
            "grid_template_areas": null,
            "grid_template_columns": null,
            "grid_template_rows": null,
            "height": null,
            "justify_content": null,
            "justify_items": null,
            "left": null,
            "margin": null,
            "max_height": null,
            "max_width": null,
            "min_height": null,
            "min_width": null,
            "object_fit": null,
            "object_position": null,
            "order": null,
            "overflow": null,
            "overflow_x": null,
            "overflow_y": null,
            "padding": null,
            "right": null,
            "top": null,
            "visibility": null,
            "width": null
          }
        },
        "5d5f3eb620354f5c87032e4864e7c77b": {
          "model_module": "@jupyter-widgets/controls",
          "model_name": "ProgressStyleModel",
          "model_module_version": "1.5.0",
          "state": {
            "_model_module": "@jupyter-widgets/controls",
            "_model_module_version": "1.5.0",
            "_model_name": "ProgressStyleModel",
            "_view_count": null,
            "_view_module": "@jupyter-widgets/base",
            "_view_module_version": "1.2.0",
            "_view_name": "StyleView",
            "bar_color": null,
            "description_width": ""
          }
        },
        "cb2829b00d1b42f5b5ff3997ca711400": {
          "model_module": "@jupyter-widgets/base",
          "model_name": "LayoutModel",
          "model_module_version": "1.2.0",
          "state": {
            "_model_module": "@jupyter-widgets/base",
            "_model_module_version": "1.2.0",
            "_model_name": "LayoutModel",
            "_view_count": null,
            "_view_module": "@jupyter-widgets/base",
            "_view_module_version": "1.2.0",
            "_view_name": "LayoutView",
            "align_content": null,
            "align_items": null,
            "align_self": null,
            "border": null,
            "bottom": null,
            "display": null,
            "flex": null,
            "flex_flow": null,
            "grid_area": null,
            "grid_auto_columns": null,
            "grid_auto_flow": null,
            "grid_auto_rows": null,
            "grid_column": null,
            "grid_gap": null,
            "grid_row": null,
            "grid_template_areas": null,
            "grid_template_columns": null,
            "grid_template_rows": null,
            "height": null,
            "justify_content": null,
            "justify_items": null,
            "left": null,
            "margin": null,
            "max_height": null,
            "max_width": null,
            "min_height": null,
            "min_width": null,
            "object_fit": null,
            "object_position": null,
            "order": null,
            "overflow": null,
            "overflow_x": null,
            "overflow_y": null,
            "padding": null,
            "right": null,
            "top": null,
            "visibility": null,
            "width": null
          }
        },
        "07b1b6d61a914d0cb577681f4b233c04": {
          "model_module": "@jupyter-widgets/controls",
          "model_name": "DescriptionStyleModel",
          "model_module_version": "1.5.0",
          "state": {
            "_model_module": "@jupyter-widgets/controls",
            "_model_module_version": "1.5.0",
            "_model_name": "DescriptionStyleModel",
            "_view_count": null,
            "_view_module": "@jupyter-widgets/base",
            "_view_module_version": "1.2.0",
            "_view_name": "StyleView",
            "description_width": ""
          }
        },
        "dce076cd20474a84a144b486779d3f7d": {
          "model_module": "@jupyter-widgets/controls",
          "model_name": "HBoxModel",
          "model_module_version": "1.5.0",
          "state": {
            "_dom_classes": [],
            "_model_module": "@jupyter-widgets/controls",
            "_model_module_version": "1.5.0",
            "_model_name": "HBoxModel",
            "_view_count": null,
            "_view_module": "@jupyter-widgets/controls",
            "_view_module_version": "1.5.0",
            "_view_name": "HBoxView",
            "box_style": "",
            "children": [
              "IPY_MODEL_2eb4baba72004c32b3b000b752111dfd",
              "IPY_MODEL_cd0cce0b70b44e6ab592ba0ec2960151",
              "IPY_MODEL_765bb0ff655a4f65a20879de6e1605a7"
            ],
            "layout": "IPY_MODEL_52ec0bc1af134f1896587aaf0ea78b3e"
          }
        },
        "2eb4baba72004c32b3b000b752111dfd": {
          "model_module": "@jupyter-widgets/controls",
          "model_name": "HTMLModel",
          "model_module_version": "1.5.0",
          "state": {
            "_dom_classes": [],
            "_model_module": "@jupyter-widgets/controls",
            "_model_module_version": "1.5.0",
            "_model_name": "HTMLModel",
            "_view_count": null,
            "_view_module": "@jupyter-widgets/controls",
            "_view_module_version": "1.5.0",
            "_view_name": "HTMLView",
            "description": "",
            "description_tooltip": null,
            "layout": "IPY_MODEL_dfdb8422af614fb4873868167041211a",
            "placeholder": "​",
            "style": "IPY_MODEL_67dc27c714974e7e88618f0db84b1d9e",
            "value": "tokenizer.json: 100%"
          }
        },
        "cd0cce0b70b44e6ab592ba0ec2960151": {
          "model_module": "@jupyter-widgets/controls",
          "model_name": "FloatProgressModel",
          "model_module_version": "1.5.0",
          "state": {
            "_dom_classes": [],
            "_model_module": "@jupyter-widgets/controls",
            "_model_module_version": "1.5.0",
            "_model_name": "FloatProgressModel",
            "_view_count": null,
            "_view_module": "@jupyter-widgets/controls",
            "_view_module_version": "1.5.0",
            "_view_name": "ProgressView",
            "bar_style": "success",
            "description": "",
            "description_tooltip": null,
            "layout": "IPY_MODEL_09ffaf4615a247259e09ad65efcf188c",
            "max": 1355863,
            "min": 0,
            "orientation": "horizontal",
            "style": "IPY_MODEL_43f62a5233aa4de8b7c9d7e4c0fccf0e",
            "value": 1355863
          }
        },
        "765bb0ff655a4f65a20879de6e1605a7": {
          "model_module": "@jupyter-widgets/controls",
          "model_name": "HTMLModel",
          "model_module_version": "1.5.0",
          "state": {
            "_dom_classes": [],
            "_model_module": "@jupyter-widgets/controls",
            "_model_module_version": "1.5.0",
            "_model_name": "HTMLModel",
            "_view_count": null,
            "_view_module": "@jupyter-widgets/controls",
            "_view_module_version": "1.5.0",
            "_view_name": "HTMLView",
            "description": "",
            "description_tooltip": null,
            "layout": "IPY_MODEL_b5eee38e3e82452aabc5b9574546963f",
            "placeholder": "​",
            "style": "IPY_MODEL_e6b07e69ab624105963d9686cae91e19",
            "value": " 1.36M/1.36M [00:00&lt;00:00, 6.87MB/s]"
          }
        },
        "52ec0bc1af134f1896587aaf0ea78b3e": {
          "model_module": "@jupyter-widgets/base",
          "model_name": "LayoutModel",
          "model_module_version": "1.2.0",
          "state": {
            "_model_module": "@jupyter-widgets/base",
            "_model_module_version": "1.2.0",
            "_model_name": "LayoutModel",
            "_view_count": null,
            "_view_module": "@jupyter-widgets/base",
            "_view_module_version": "1.2.0",
            "_view_name": "LayoutView",
            "align_content": null,
            "align_items": null,
            "align_self": null,
            "border": null,
            "bottom": null,
            "display": null,
            "flex": null,
            "flex_flow": null,
            "grid_area": null,
            "grid_auto_columns": null,
            "grid_auto_flow": null,
            "grid_auto_rows": null,
            "grid_column": null,
            "grid_gap": null,
            "grid_row": null,
            "grid_template_areas": null,
            "grid_template_columns": null,
            "grid_template_rows": null,
            "height": null,
            "justify_content": null,
            "justify_items": null,
            "left": null,
            "margin": null,
            "max_height": null,
            "max_width": null,
            "min_height": null,
            "min_width": null,
            "object_fit": null,
            "object_position": null,
            "order": null,
            "overflow": null,
            "overflow_x": null,
            "overflow_y": null,
            "padding": null,
            "right": null,
            "top": null,
            "visibility": null,
            "width": null
          }
        },
        "dfdb8422af614fb4873868167041211a": {
          "model_module": "@jupyter-widgets/base",
          "model_name": "LayoutModel",
          "model_module_version": "1.2.0",
          "state": {
            "_model_module": "@jupyter-widgets/base",
            "_model_module_version": "1.2.0",
            "_model_name": "LayoutModel",
            "_view_count": null,
            "_view_module": "@jupyter-widgets/base",
            "_view_module_version": "1.2.0",
            "_view_name": "LayoutView",
            "align_content": null,
            "align_items": null,
            "align_self": null,
            "border": null,
            "bottom": null,
            "display": null,
            "flex": null,
            "flex_flow": null,
            "grid_area": null,
            "grid_auto_columns": null,
            "grid_auto_flow": null,
            "grid_auto_rows": null,
            "grid_column": null,
            "grid_gap": null,
            "grid_row": null,
            "grid_template_areas": null,
            "grid_template_columns": null,
            "grid_template_rows": null,
            "height": null,
            "justify_content": null,
            "justify_items": null,
            "left": null,
            "margin": null,
            "max_height": null,
            "max_width": null,
            "min_height": null,
            "min_width": null,
            "object_fit": null,
            "object_position": null,
            "order": null,
            "overflow": null,
            "overflow_x": null,
            "overflow_y": null,
            "padding": null,
            "right": null,
            "top": null,
            "visibility": null,
            "width": null
          }
        },
        "67dc27c714974e7e88618f0db84b1d9e": {
          "model_module": "@jupyter-widgets/controls",
          "model_name": "DescriptionStyleModel",
          "model_module_version": "1.5.0",
          "state": {
            "_model_module": "@jupyter-widgets/controls",
            "_model_module_version": "1.5.0",
            "_model_name": "DescriptionStyleModel",
            "_view_count": null,
            "_view_module": "@jupyter-widgets/base",
            "_view_module_version": "1.2.0",
            "_view_name": "StyleView",
            "description_width": ""
          }
        },
        "09ffaf4615a247259e09ad65efcf188c": {
          "model_module": "@jupyter-widgets/base",
          "model_name": "LayoutModel",
          "model_module_version": "1.2.0",
          "state": {
            "_model_module": "@jupyter-widgets/base",
            "_model_module_version": "1.2.0",
            "_model_name": "LayoutModel",
            "_view_count": null,
            "_view_module": "@jupyter-widgets/base",
            "_view_module_version": "1.2.0",
            "_view_name": "LayoutView",
            "align_content": null,
            "align_items": null,
            "align_self": null,
            "border": null,
            "bottom": null,
            "display": null,
            "flex": null,
            "flex_flow": null,
            "grid_area": null,
            "grid_auto_columns": null,
            "grid_auto_flow": null,
            "grid_auto_rows": null,
            "grid_column": null,
            "grid_gap": null,
            "grid_row": null,
            "grid_template_areas": null,
            "grid_template_columns": null,
            "grid_template_rows": null,
            "height": null,
            "justify_content": null,
            "justify_items": null,
            "left": null,
            "margin": null,
            "max_height": null,
            "max_width": null,
            "min_height": null,
            "min_width": null,
            "object_fit": null,
            "object_position": null,
            "order": null,
            "overflow": null,
            "overflow_x": null,
            "overflow_y": null,
            "padding": null,
            "right": null,
            "top": null,
            "visibility": null,
            "width": null
          }
        },
        "43f62a5233aa4de8b7c9d7e4c0fccf0e": {
          "model_module": "@jupyter-widgets/controls",
          "model_name": "ProgressStyleModel",
          "model_module_version": "1.5.0",
          "state": {
            "_model_module": "@jupyter-widgets/controls",
            "_model_module_version": "1.5.0",
            "_model_name": "ProgressStyleModel",
            "_view_count": null,
            "_view_module": "@jupyter-widgets/base",
            "_view_module_version": "1.2.0",
            "_view_name": "StyleView",
            "bar_color": null,
            "description_width": ""
          }
        },
        "b5eee38e3e82452aabc5b9574546963f": {
          "model_module": "@jupyter-widgets/base",
          "model_name": "LayoutModel",
          "model_module_version": "1.2.0",
          "state": {
            "_model_module": "@jupyter-widgets/base",
            "_model_module_version": "1.2.0",
            "_model_name": "LayoutModel",
            "_view_count": null,
            "_view_module": "@jupyter-widgets/base",
            "_view_module_version": "1.2.0",
            "_view_name": "LayoutView",
            "align_content": null,
            "align_items": null,
            "align_self": null,
            "border": null,
            "bottom": null,
            "display": null,
            "flex": null,
            "flex_flow": null,
            "grid_area": null,
            "grid_auto_columns": null,
            "grid_auto_flow": null,
            "grid_auto_rows": null,
            "grid_column": null,
            "grid_gap": null,
            "grid_row": null,
            "grid_template_areas": null,
            "grid_template_columns": null,
            "grid_template_rows": null,
            "height": null,
            "justify_content": null,
            "justify_items": null,
            "left": null,
            "margin": null,
            "max_height": null,
            "max_width": null,
            "min_height": null,
            "min_width": null,
            "object_fit": null,
            "object_position": null,
            "order": null,
            "overflow": null,
            "overflow_x": null,
            "overflow_y": null,
            "padding": null,
            "right": null,
            "top": null,
            "visibility": null,
            "width": null
          }
        },
        "e6b07e69ab624105963d9686cae91e19": {
          "model_module": "@jupyter-widgets/controls",
          "model_name": "DescriptionStyleModel",
          "model_module_version": "1.5.0",
          "state": {
            "_model_module": "@jupyter-widgets/controls",
            "_model_module_version": "1.5.0",
            "_model_name": "DescriptionStyleModel",
            "_view_count": null,
            "_view_module": "@jupyter-widgets/base",
            "_view_module_version": "1.2.0",
            "_view_name": "StyleView",
            "description_width": ""
          }
        },
        "f8a81b0aba204942844269d8de58a6c1": {
          "model_module": "@jupyter-widgets/controls",
          "model_name": "HBoxModel",
          "model_module_version": "1.5.0",
          "state": {
            "_dom_classes": [],
            "_model_module": "@jupyter-widgets/controls",
            "_model_module_version": "1.5.0",
            "_model_name": "HBoxModel",
            "_view_count": null,
            "_view_module": "@jupyter-widgets/controls",
            "_view_module_version": "1.5.0",
            "_view_name": "HBoxView",
            "box_style": "",
            "children": [
              "IPY_MODEL_98a20db992da4676b11ffedf67366819",
              "IPY_MODEL_9ed5a4dc1c3a498c9fd6601112ca151d",
              "IPY_MODEL_8d8ce64b11684283a734fc06f66c49c9"
            ],
            "layout": "IPY_MODEL_7bfadc32e0114ea997da4b5d78bdf730"
          }
        },
        "98a20db992da4676b11ffedf67366819": {
          "model_module": "@jupyter-widgets/controls",
          "model_name": "HTMLModel",
          "model_module_version": "1.5.0",
          "state": {
            "_dom_classes": [],
            "_model_module": "@jupyter-widgets/controls",
            "_model_module_version": "1.5.0",
            "_model_name": "HTMLModel",
            "_view_count": null,
            "_view_module": "@jupyter-widgets/controls",
            "_view_module_version": "1.5.0",
            "_view_name": "HTMLView",
            "description": "",
            "description_tooltip": null,
            "layout": "IPY_MODEL_932740301893450ebc1557c7c014ba54",
            "placeholder": "​",
            "style": "IPY_MODEL_7e22faa2376e4e088a8cfed7646835ce",
            "value": "model.safetensors: 100%"
          }
        },
        "9ed5a4dc1c3a498c9fd6601112ca151d": {
          "model_module": "@jupyter-widgets/controls",
          "model_name": "FloatProgressModel",
          "model_module_version": "1.5.0",
          "state": {
            "_dom_classes": [],
            "_model_module": "@jupyter-widgets/controls",
            "_model_module_version": "1.5.0",
            "_model_name": "FloatProgressModel",
            "_view_count": null,
            "_view_module": "@jupyter-widgets/controls",
            "_view_module_version": "1.5.0",
            "_view_name": "ProgressView",
            "bar_style": "success",
            "description": "",
            "description_tooltip": null,
            "layout": "IPY_MODEL_7cc7e98af23c4819ad79154561e7248b",
            "max": 498818054,
            "min": 0,
            "orientation": "horizontal",
            "style": "IPY_MODEL_5ee113529874497d848c477b61c10b29",
            "value": 498818054
          }
        },
        "8d8ce64b11684283a734fc06f66c49c9": {
          "model_module": "@jupyter-widgets/controls",
          "model_name": "HTMLModel",
          "model_module_version": "1.5.0",
          "state": {
            "_dom_classes": [],
            "_model_module": "@jupyter-widgets/controls",
            "_model_module_version": "1.5.0",
            "_model_name": "HTMLModel",
            "_view_count": null,
            "_view_module": "@jupyter-widgets/controls",
            "_view_module_version": "1.5.0",
            "_view_name": "HTMLView",
            "description": "",
            "description_tooltip": null,
            "layout": "IPY_MODEL_bdc0bb89ff164a1381da7531d41282d1",
            "placeholder": "​",
            "style": "IPY_MODEL_d1a40e0f9e1542a8936c7c8e6c575763",
            "value": " 499M/499M [00:05&lt;00:00, 46.4MB/s]"
          }
        },
        "7bfadc32e0114ea997da4b5d78bdf730": {
          "model_module": "@jupyter-widgets/base",
          "model_name": "LayoutModel",
          "model_module_version": "1.2.0",
          "state": {
            "_model_module": "@jupyter-widgets/base",
            "_model_module_version": "1.2.0",
            "_model_name": "LayoutModel",
            "_view_count": null,
            "_view_module": "@jupyter-widgets/base",
            "_view_module_version": "1.2.0",
            "_view_name": "LayoutView",
            "align_content": null,
            "align_items": null,
            "align_self": null,
            "border": null,
            "bottom": null,
            "display": null,
            "flex": null,
            "flex_flow": null,
            "grid_area": null,
            "grid_auto_columns": null,
            "grid_auto_flow": null,
            "grid_auto_rows": null,
            "grid_column": null,
            "grid_gap": null,
            "grid_row": null,
            "grid_template_areas": null,
            "grid_template_columns": null,
            "grid_template_rows": null,
            "height": null,
            "justify_content": null,
            "justify_items": null,
            "left": null,
            "margin": null,
            "max_height": null,
            "max_width": null,
            "min_height": null,
            "min_width": null,
            "object_fit": null,
            "object_position": null,
            "order": null,
            "overflow": null,
            "overflow_x": null,
            "overflow_y": null,
            "padding": null,
            "right": null,
            "top": null,
            "visibility": null,
            "width": null
          }
        },
        "932740301893450ebc1557c7c014ba54": {
          "model_module": "@jupyter-widgets/base",
          "model_name": "LayoutModel",
          "model_module_version": "1.2.0",
          "state": {
            "_model_module": "@jupyter-widgets/base",
            "_model_module_version": "1.2.0",
            "_model_name": "LayoutModel",
            "_view_count": null,
            "_view_module": "@jupyter-widgets/base",
            "_view_module_version": "1.2.0",
            "_view_name": "LayoutView",
            "align_content": null,
            "align_items": null,
            "align_self": null,
            "border": null,
            "bottom": null,
            "display": null,
            "flex": null,
            "flex_flow": null,
            "grid_area": null,
            "grid_auto_columns": null,
            "grid_auto_flow": null,
            "grid_auto_rows": null,
            "grid_column": null,
            "grid_gap": null,
            "grid_row": null,
            "grid_template_areas": null,
            "grid_template_columns": null,
            "grid_template_rows": null,
            "height": null,
            "justify_content": null,
            "justify_items": null,
            "left": null,
            "margin": null,
            "max_height": null,
            "max_width": null,
            "min_height": null,
            "min_width": null,
            "object_fit": null,
            "object_position": null,
            "order": null,
            "overflow": null,
            "overflow_x": null,
            "overflow_y": null,
            "padding": null,
            "right": null,
            "top": null,
            "visibility": null,
            "width": null
          }
        },
        "7e22faa2376e4e088a8cfed7646835ce": {
          "model_module": "@jupyter-widgets/controls",
          "model_name": "DescriptionStyleModel",
          "model_module_version": "1.5.0",
          "state": {
            "_model_module": "@jupyter-widgets/controls",
            "_model_module_version": "1.5.0",
            "_model_name": "DescriptionStyleModel",
            "_view_count": null,
            "_view_module": "@jupyter-widgets/base",
            "_view_module_version": "1.2.0",
            "_view_name": "StyleView",
            "description_width": ""
          }
        },
        "7cc7e98af23c4819ad79154561e7248b": {
          "model_module": "@jupyter-widgets/base",
          "model_name": "LayoutModel",
          "model_module_version": "1.2.0",
          "state": {
            "_model_module": "@jupyter-widgets/base",
            "_model_module_version": "1.2.0",
            "_model_name": "LayoutModel",
            "_view_count": null,
            "_view_module": "@jupyter-widgets/base",
            "_view_module_version": "1.2.0",
            "_view_name": "LayoutView",
            "align_content": null,
            "align_items": null,
            "align_self": null,
            "border": null,
            "bottom": null,
            "display": null,
            "flex": null,
            "flex_flow": null,
            "grid_area": null,
            "grid_auto_columns": null,
            "grid_auto_flow": null,
            "grid_auto_rows": null,
            "grid_column": null,
            "grid_gap": null,
            "grid_row": null,
            "grid_template_areas": null,
            "grid_template_columns": null,
            "grid_template_rows": null,
            "height": null,
            "justify_content": null,
            "justify_items": null,
            "left": null,
            "margin": null,
            "max_height": null,
            "max_width": null,
            "min_height": null,
            "min_width": null,
            "object_fit": null,
            "object_position": null,
            "order": null,
            "overflow": null,
            "overflow_x": null,
            "overflow_y": null,
            "padding": null,
            "right": null,
            "top": null,
            "visibility": null,
            "width": null
          }
        },
        "5ee113529874497d848c477b61c10b29": {
          "model_module": "@jupyter-widgets/controls",
          "model_name": "ProgressStyleModel",
          "model_module_version": "1.5.0",
          "state": {
            "_model_module": "@jupyter-widgets/controls",
            "_model_module_version": "1.5.0",
            "_model_name": "ProgressStyleModel",
            "_view_count": null,
            "_view_module": "@jupyter-widgets/base",
            "_view_module_version": "1.2.0",
            "_view_name": "StyleView",
            "bar_color": null,
            "description_width": ""
          }
        },
        "bdc0bb89ff164a1381da7531d41282d1": {
          "model_module": "@jupyter-widgets/base",
          "model_name": "LayoutModel",
          "model_module_version": "1.2.0",
          "state": {
            "_model_module": "@jupyter-widgets/base",
            "_model_module_version": "1.2.0",
            "_model_name": "LayoutModel",
            "_view_count": null,
            "_view_module": "@jupyter-widgets/base",
            "_view_module_version": "1.2.0",
            "_view_name": "LayoutView",
            "align_content": null,
            "align_items": null,
            "align_self": null,
            "border": null,
            "bottom": null,
            "display": null,
            "flex": null,
            "flex_flow": null,
            "grid_area": null,
            "grid_auto_columns": null,
            "grid_auto_flow": null,
            "grid_auto_rows": null,
            "grid_column": null,
            "grid_gap": null,
            "grid_row": null,
            "grid_template_areas": null,
            "grid_template_columns": null,
            "grid_template_rows": null,
            "height": null,
            "justify_content": null,
            "justify_items": null,
            "left": null,
            "margin": null,
            "max_height": null,
            "max_width": null,
            "min_height": null,
            "min_width": null,
            "object_fit": null,
            "object_position": null,
            "order": null,
            "overflow": null,
            "overflow_x": null,
            "overflow_y": null,
            "padding": null,
            "right": null,
            "top": null,
            "visibility": null,
            "width": null
          }
        },
        "d1a40e0f9e1542a8936c7c8e6c575763": {
          "model_module": "@jupyter-widgets/controls",
          "model_name": "DescriptionStyleModel",
          "model_module_version": "1.5.0",
          "state": {
            "_model_module": "@jupyter-widgets/controls",
            "_model_module_version": "1.5.0",
            "_model_name": "DescriptionStyleModel",
            "_view_count": null,
            "_view_module": "@jupyter-widgets/base",
            "_view_module_version": "1.2.0",
            "_view_name": "StyleView",
            "description_width": ""
          }
        }
      }
    },
    "kaggle": {
      "accelerator": "nvidiaTeslaT4",
      "dataSources": [],
      "dockerImageVersionId": 30805,
      "isInternetEnabled": true,
      "language": "python",
      "sourceType": "notebook",
      "isGpuEnabled": true
    }
  },
  "nbformat_minor": 0,
  "nbformat": 4,
  "cells": [
    {
      "cell_type": "code",
      "source": [
        "!pip install gdown"
      ],
      "metadata": {
        "trusted": true,
        "execution": {
          "iopub.status.busy": "2024-12-10T07:33:34.706410Z",
          "iopub.execute_input": "2024-12-10T07:33:34.707639Z",
          "iopub.status.idle": "2024-12-10T07:33:43.496257Z",
          "shell.execute_reply.started": "2024-12-10T07:33:34.707601Z",
          "shell.execute_reply": "2024-12-10T07:33:43.495108Z"
        },
        "id": "V2rDeveFPLmB",
        "outputId": "42929d87-7d41-4785-9596-95ddaa61d3c7",
        "colab": {
          "base_uri": "https://localhost:8080/"
        }
      },
      "outputs": [
        {
          "output_type": "stream",
          "name": "stdout",
          "text": [
            "Requirement already satisfied: gdown in /usr/local/lib/python3.10/dist-packages (5.2.0)\n",
            "Requirement already satisfied: beautifulsoup4 in /usr/local/lib/python3.10/dist-packages (from gdown) (4.12.3)\n",
            "Requirement already satisfied: filelock in /usr/local/lib/python3.10/dist-packages (from gdown) (3.16.1)\n",
            "Requirement already satisfied: requests[socks] in /usr/local/lib/python3.10/dist-packages (from gdown) (2.32.3)\n",
            "Requirement already satisfied: tqdm in /usr/local/lib/python3.10/dist-packages (from gdown) (4.66.6)\n",
            "Requirement already satisfied: soupsieve>1.2 in /usr/local/lib/python3.10/dist-packages (from beautifulsoup4->gdown) (2.6)\n",
            "Requirement already satisfied: charset-normalizer<4,>=2 in /usr/local/lib/python3.10/dist-packages (from requests[socks]->gdown) (3.4.0)\n",
            "Requirement already satisfied: idna<4,>=2.5 in /usr/local/lib/python3.10/dist-packages (from requests[socks]->gdown) (3.10)\n",
            "Requirement already satisfied: urllib3<3,>=1.21.1 in /usr/local/lib/python3.10/dist-packages (from requests[socks]->gdown) (2.2.3)\n",
            "Requirement already satisfied: certifi>=2017.4.17 in /usr/local/lib/python3.10/dist-packages (from requests[socks]->gdown) (2024.8.30)\n",
            "Requirement already satisfied: PySocks!=1.5.7,>=1.5.6 in /usr/local/lib/python3.10/dist-packages (from requests[socks]->gdown) (1.7.1)\n"
          ]
        }
      ],
      "execution_count": 1
    },
    {
      "cell_type": "code",
      "source": [
        "!gdown 1A1lx_Vvu_hWPrGtjeNmXlxKbnSvI_hh2"
      ],
      "metadata": {
        "trusted": true,
        "execution": {
          "iopub.status.busy": "2024-12-10T07:33:43.498959Z",
          "iopub.execute_input": "2024-12-10T07:33:43.499273Z",
          "iopub.status.idle": "2024-12-10T07:33:48.213219Z",
          "shell.execute_reply.started": "2024-12-10T07:33:43.499245Z",
          "shell.execute_reply": "2024-12-10T07:33:48.212276Z"
        },
        "id": "hlpwDyBkPLmI",
        "outputId": "17954f26-3700-4dc8-ded1-45eb8652db3c",
        "colab": {
          "base_uri": "https://localhost:8080/"
        }
      },
      "outputs": [
        {
          "output_type": "stream",
          "name": "stdout",
          "text": [
            "Downloading...\n",
            "From: https://drive.google.com/uc?id=1A1lx_Vvu_hWPrGtjeNmXlxKbnSvI_hh2\n",
            "To: /content/data_full_spoiled_extended.json\n",
            "\r  0% 0.00/1.52M [00:00<?, ?B/s]\r100% 1.52M/1.52M [00:00<00:00, 14.3MB/s]\r100% 1.52M/1.52M [00:00<00:00, 14.2MB/s]\n"
          ]
        }
      ],
      "execution_count": 2
    },
    {
      "cell_type": "code",
      "source": [
        "from google.colab import drive\n",
        "\n",
        "drive.mount('/content/drive')"
      ],
      "metadata": {
        "colab": {
          "base_uri": "https://localhost:8080/"
        },
        "id": "-32HdRkhyT3B",
        "outputId": "064ef00d-bb35-4281-ee83-68b2474c07f5"
      },
      "execution_count": 3,
      "outputs": [
        {
          "output_type": "stream",
          "name": "stdout",
          "text": [
            "Mounted at /content/drive\n"
          ]
        }
      ]
    },
    {
      "cell_type": "code",
      "source": [
        "import json\n",
        "\n",
        "with open(\"data_full_spoiled_extended.json\") as f:\n",
        "    data = json.load(f)\n",
        "\n",
        "len(data), data.keys()"
      ],
      "metadata": {
        "colab": {
          "base_uri": "https://localhost:8080/"
        },
        "id": "zocjBkBmTM-X",
        "outputId": "d9ccac6a-4cdd-4ec4-d5c7-acdf0e2cfe5a",
        "trusted": true,
        "execution": {
          "iopub.status.busy": "2024-12-10T07:33:48.214586Z",
          "iopub.execute_input": "2024-12-10T07:33:48.214889Z",
          "iopub.status.idle": "2024-12-10T07:33:48.236848Z",
          "shell.execute_reply.started": "2024-12-10T07:33:48.214862Z",
          "shell.execute_reply": "2024-12-10T07:33:48.236063Z"
        }
      },
      "outputs": [
        {
          "output_type": "execute_result",
          "data": {
            "text/plain": [
              "(4, dict_keys(['train', 'val', 'oos_train', 'oos_val']))"
            ]
          },
          "metadata": {},
          "execution_count": 4
        }
      ],
      "execution_count": 4
    },
    {
      "cell_type": "code",
      "source": [
        "def get_ds(data):\n",
        "    return zip(*data)\n",
        "\n",
        "def merge_ds(data1, data2):\n",
        "    return [*next(data1), *next(data2)], [*next(data1), *next(data2)]\n",
        "\n",
        "train_text, train_labels = merge_ds(get_ds(data[\"train\"]), get_ds(data[\"oos_train\"]))\n",
        "val_text, val_labels = merge_ds(get_ds(data[\"val\"]), get_ds(data[\"oos_val\"]))\n",
        "# train_text, train_labels = get_ds(data[\"train\"])\n",
        "# val_text, val_labels = get_ds(data[\"val\"])\n",
        "train_text[:5], train_labels[:5]"
      ],
      "metadata": {
        "colab": {
          "base_uri": "https://localhost:8080/"
        },
        "id": "eF9GxDeCRg7b",
        "outputId": "bfd89acc-9a03-4427-e319-2e9d6cb243bb",
        "trusted": true,
        "execution": {
          "iopub.status.busy": "2024-12-10T07:33:48.237898Z",
          "iopub.execute_input": "2024-12-10T07:33:48.238171Z",
          "iopub.status.idle": "2024-12-10T07:33:48.624733Z",
          "shell.execute_reply.started": "2024-12-10T07:33:48.238145Z",
          "shell.execute_reply": "2024-12-10T07:33:48.623707Z"
        }
      },
      "outputs": [
        {
          "output_type": "execute_result",
          "data": {
            "text/plain": [
              "(['what expression would i use to say i love you if i were an italian',\n",
              "  \"can you tell me how to say 'i do not speak much spanish', in spanish\",\n",
              "  \"what is the equivalent of, 'life is good' in french\",\n",
              "  \"tell me how to say, 'it is a beautiful morning' in italian\",\n",
              "  'if i were mongolian, how would i say that i am a tourist'],\n",
              " ['translate', 'translate', 'translate', 'translate', 'translate'])"
            ]
          },
          "metadata": {},
          "execution_count": 5
        }
      ],
      "execution_count": 5
    },
    {
      "cell_type": "code",
      "source": [
        "len(train_text), len(val_text)"
      ],
      "metadata": {
        "colab": {
          "base_uri": "https://localhost:8080/"
        },
        "id": "mf5d8BRuKoLk",
        "outputId": "127e323c-24e7-491d-8ecc-e0e27c2c9d74",
        "trusted": true,
        "execution": {
          "iopub.status.busy": "2024-12-10T07:33:48.626963Z",
          "iopub.execute_input": "2024-12-10T07:33:48.627307Z",
          "iopub.status.idle": "2024-12-10T07:33:48.636356Z",
          "shell.execute_reply.started": "2024-12-10T07:33:48.627262Z",
          "shell.execute_reply": "2024-12-10T07:33:48.635588Z"
        }
      },
      "outputs": [
        {
          "output_type": "execute_result",
          "data": {
            "text/plain": [
              "(15113, 3104)"
            ]
          },
          "metadata": {},
          "execution_count": 6
        }
      ],
      "execution_count": 6
    },
    {
      "cell_type": "code",
      "source": [
        "train_classes, val_classes = set(train_labels), set(val_labels)\n",
        "len(train_classes), len(val_classes)"
      ],
      "metadata": {
        "colab": {
          "base_uri": "https://localhost:8080/"
        },
        "id": "Kk-jdBiUZVDC",
        "outputId": "5e1ce28c-713a-443c-c4bc-2c1769cfa720",
        "trusted": true,
        "execution": {
          "iopub.status.busy": "2024-12-10T07:33:48.637321Z",
          "iopub.execute_input": "2024-12-10T07:33:48.637586Z",
          "iopub.status.idle": "2024-12-10T07:33:48.650068Z",
          "shell.execute_reply.started": "2024-12-10T07:33:48.637560Z",
          "shell.execute_reply": "2024-12-10T07:33:48.649389Z"
        }
      },
      "outputs": [
        {
          "output_type": "execute_result",
          "data": {
            "text/plain": [
              "(151, 151)"
            ]
          },
          "metadata": {},
          "execution_count": 7
        }
      ],
      "execution_count": 7
    },
    {
      "cell_type": "code",
      "source": [
        "classes = list(train_classes & val_classes)\n",
        "classes[:5], len(classes)"
      ],
      "metadata": {
        "colab": {
          "base_uri": "https://localhost:8080/"
        },
        "id": "vKiAtbTJe2ly",
        "outputId": "1cbd9bbc-67c7-432e-ad2d-5495242118ee",
        "trusted": true,
        "execution": {
          "iopub.status.busy": "2024-12-10T07:33:48.651050Z",
          "iopub.execute_input": "2024-12-10T07:33:48.651307Z",
          "iopub.status.idle": "2024-12-10T07:33:48.660248Z",
          "shell.execute_reply.started": "2024-12-10T07:33:48.651267Z",
          "shell.execute_reply": "2024-12-10T07:33:48.659460Z"
        }
      },
      "outputs": [
        {
          "output_type": "execute_result",
          "data": {
            "text/plain": [
              "(['nutrition_info',\n",
              "  'taxes',\n",
              "  'damaged_card',\n",
              "  'insurance_change',\n",
              "  'next_holiday'],\n",
              " 151)"
            ]
          },
          "metadata": {},
          "execution_count": 8
        }
      ],
      "execution_count": 8
    },
    {
      "cell_type": "code",
      "source": [
        "with open(\"classes.txt\", \"w\") as f:\n",
        "    f.write(\"\\n\".join(classes))"
      ],
      "metadata": {
        "id": "OJ55mwwSZ5qX",
        "trusted": true,
        "execution": {
          "iopub.status.busy": "2024-12-10T07:33:48.661371Z",
          "iopub.execute_input": "2024-12-10T07:33:48.662022Z",
          "iopub.status.idle": "2024-12-10T07:33:48.674527Z",
          "shell.execute_reply.started": "2024-12-10T07:33:48.661981Z",
          "shell.execute_reply": "2024-12-10T07:33:48.673788Z"
        }
      },
      "outputs": [],
      "execution_count": 9
    },
    {
      "cell_type": "code",
      "source": [
        "from collections import Counter\n",
        "\n",
        "labels_count = Counter(train_labels)\n",
        "sorted_labels_count = labels_count.most_common()\n",
        "print(*sorted_labels_count[:10], sep=\"\\n\", end=\"\\n\\n\\n\")\n",
        "print(*sorted_labels_count[-10:], sep=\"\\n\")"
      ],
      "metadata": {
        "colab": {
          "base_uri": "https://localhost:8080/"
        },
        "id": "_1hStHHKZioi",
        "outputId": "60f38c0e-848a-4a83-ac9c-c09a04bfea23",
        "trusted": true,
        "execution": {
          "iopub.status.busy": "2024-12-10T07:33:48.675820Z",
          "iopub.execute_input": "2024-12-10T07:33:48.676424Z",
          "iopub.status.idle": "2024-12-10T07:33:48.689547Z",
          "shell.execute_reply.started": "2024-12-10T07:33:48.676382Z",
          "shell.execute_reply": "2024-12-10T07:33:48.688401Z"
        }
      },
      "outputs": [
        {
          "output_type": "stream",
          "name": "stdout",
          "text": [
            "('oos', 111)\n",
            "('improve_credit_score', 109)\n",
            "('yes', 109)\n",
            "('whisper_mode', 108)\n",
            "('schedule_meeting', 107)\n",
            "('mpg', 106)\n",
            "('expiration_date', 106)\n",
            "('restaurant_reviews', 105)\n",
            "('international_fees', 105)\n",
            "('change_volume', 105)\n",
            "\n",
            "\n",
            "('credit_score', 96)\n",
            "('share_location', 96)\n",
            "('next_holiday', 96)\n",
            "('what_can_i_ask_you', 95)\n",
            "('routing', 95)\n",
            "('date', 95)\n",
            "('recipe', 95)\n",
            "('schedule_maintenance', 94)\n",
            "('replacement_card_duration', 94)\n",
            "('taxes', 94)\n"
          ]
        }
      ],
      "execution_count": 10
    },
    {
      "cell_type": "code",
      "source": [
        "import torch\n",
        "\n",
        "device = torch.device(\"cuda:0\" if torch.cuda.is_available() else \"cpu\")\n",
        "torch.manual_seed(3407)\n",
        "torch.cuda.manual_seed_all(3407)"
      ],
      "metadata": {
        "id": "JPAyLXVHXOoJ",
        "trusted": true,
        "execution": {
          "iopub.status.busy": "2024-12-10T07:33:48.690720Z",
          "iopub.execute_input": "2024-12-10T07:33:48.691602Z",
          "iopub.status.idle": "2024-12-10T07:33:48.704899Z",
          "shell.execute_reply.started": "2024-12-10T07:33:48.691555Z",
          "shell.execute_reply": "2024-12-10T07:33:48.704011Z"
        }
      },
      "outputs": [],
      "execution_count": 11
    },
    {
      "cell_type": "code",
      "source": [
        "from transformers import AutoTokenizer, AutoModelForSequenceClassification\n",
        "# from peft import LoraConfig, PeftModel, get_peft_model\n",
        "\n",
        "def load_model(name=\"microsoft/deberta-v3-base\", num_labels=151):\n",
        "    tokenizer = AutoTokenizer.from_pretrained(name)\n",
        "    model = AutoModelForSequenceClassification.from_pretrained(name, num_labels=num_labels)\n",
        "    model.to(device)\n",
        "    # target_modules = [\"query_proj\", \"value_proj\", \"dense\"]\n",
        "    # config = LoraConfig(\n",
        "    #     r=16, lora_alpha=16, target_modules=target_modules, lora_dropout=0.1, bias=\"none\", task_type=\"SEQ_CLS\"\n",
        "    # )\n",
        "    # lora_model = get_peft_model(model, config).to(device)\n",
        "    return tokenizer, model\n",
        "\n",
        "tokenizer, model = load_model(\"FacebookAI/roberta-base\", num_labels=len(classes))\n",
        "model"
      ],
      "metadata": {
        "colab": {
          "base_uri": "https://localhost:8080/",
          "height": 1000,
          "referenced_widgets": [
            "80b58219c8c445c1add95c372aad1fb3",
            "349db9a5eb1442ce9b05ac08a6bccae4",
            "565ca839edfc4ab3b6b9fdc8f333ff44",
            "0cb67f8e197646729deac80bb144e536",
            "d4c537042d2143f38812a2796c1658cf",
            "dff07efecc284872a94394256af69a85",
            "f6aa83565f97418895582c4b04377b72",
            "19861323d305489598ee6c041d9cb479",
            "3e50b6f19d7a4b188df60153fea4b4b2",
            "76aafd7e8e82442798d36047ee4b4715",
            "15f7d452fc4b4a73a533021fb9b0310f",
            "cbb4e0f3995e42ed909a14160797f428",
            "040e4f24b7fc4f9c935060c5cd27569a",
            "8e229d4a0b3945048fc2fa45a8acb697",
            "2e8573438467493dac606740a26d08cf",
            "afd525af38e2487c895d6ad1cf109090",
            "90a822411d90499dbd8255d1d8eaaf4a",
            "181d367aa11f41bb8f58b169d47ba2f5",
            "df5047a04df04481a69eaae58b906e6e",
            "db040acaa8584f859fe6c42b2ac47b39",
            "a30b3a03008b4ce5b11563c1fe123dc6",
            "e20a0eda713f457e9c68375368accc4b",
            "fde10b3916da42849a238af9d00ceb48",
            "17795c49594449efb4eaacf563790787",
            "1dda6896e2f64405baca7b774ce60fd8",
            "bcb54e47698347ec9a1eb0e75a45e313",
            "ff8377e9580149b586fde3c660afaeae",
            "3fc6dce261384c4d969ac8b48ce67614",
            "6f7c761d1f1a403f9ae28b1301c46984",
            "bc92cae829a547c5a3541a4197108e9c",
            "f761942c02bb4d76a89cd7e325b9bd7b",
            "93813b433cea4c489197bb24fdd01cb1",
            "ceb71959cc104b909a6b7ce806722d11",
            "6995bd05a118473f99754461da8d9cdd",
            "1c89f4e3446a4fd7a841ee2a755d0dec",
            "e6b57e26e4744406960856e0c4359ad8",
            "1821da75b49c4e0fbbc4ea6d1d6653c6",
            "1ed91cd9ffcb43a49958a2e12688ea6e",
            "7801f6fd4ecf4480a8aebc224845ec17",
            "64b6d83beacc4c98a78a45b8663ea065",
            "f7e6b53b121840339dcbdc11099b9c76",
            "5d5f3eb620354f5c87032e4864e7c77b",
            "cb2829b00d1b42f5b5ff3997ca711400",
            "07b1b6d61a914d0cb577681f4b233c04",
            "dce076cd20474a84a144b486779d3f7d",
            "2eb4baba72004c32b3b000b752111dfd",
            "cd0cce0b70b44e6ab592ba0ec2960151",
            "765bb0ff655a4f65a20879de6e1605a7",
            "52ec0bc1af134f1896587aaf0ea78b3e",
            "dfdb8422af614fb4873868167041211a",
            "67dc27c714974e7e88618f0db84b1d9e",
            "09ffaf4615a247259e09ad65efcf188c",
            "43f62a5233aa4de8b7c9d7e4c0fccf0e",
            "b5eee38e3e82452aabc5b9574546963f",
            "e6b07e69ab624105963d9686cae91e19",
            "f8a81b0aba204942844269d8de58a6c1",
            "98a20db992da4676b11ffedf67366819",
            "9ed5a4dc1c3a498c9fd6601112ca151d",
            "8d8ce64b11684283a734fc06f66c49c9",
            "7bfadc32e0114ea997da4b5d78bdf730",
            "932740301893450ebc1557c7c014ba54",
            "7e22faa2376e4e088a8cfed7646835ce",
            "7cc7e98af23c4819ad79154561e7248b",
            "5ee113529874497d848c477b61c10b29",
            "bdc0bb89ff164a1381da7531d41282d1",
            "d1a40e0f9e1542a8936c7c8e6c575763"
          ]
        },
        "id": "IrExD3wDVKBM",
        "outputId": "ca4df63f-d2e3-45dd-f6ca-e54ba4676bf3",
        "trusted": true,
        "execution": {
          "iopub.status.busy": "2024-12-10T07:33:57.262141Z",
          "iopub.execute_input": "2024-12-10T07:33:57.262457Z",
          "iopub.status.idle": "2024-12-10T07:33:57.936816Z",
          "shell.execute_reply.started": "2024-12-10T07:33:57.262427Z",
          "shell.execute_reply": "2024-12-10T07:33:57.935850Z"
        }
      },
      "outputs": [
        {
          "output_type": "stream",
          "name": "stderr",
          "text": [
            "/usr/local/lib/python3.10/dist-packages/huggingface_hub/utils/_auth.py:94: UserWarning: \n",
            "The secret `HF_TOKEN` does not exist in your Colab secrets.\n",
            "To authenticate with the Hugging Face Hub, create a token in your settings tab (https://huggingface.co/settings/tokens), set it as secret in your Google Colab and restart your session.\n",
            "You will be able to reuse this secret in all of your notebooks.\n",
            "Please note that authentication is recommended but still optional to access public models or datasets.\n",
            "  warnings.warn(\n"
          ]
        },
        {
          "output_type": "display_data",
          "data": {
            "text/plain": [
              "tokenizer_config.json:   0%|          | 0.00/25.0 [00:00<?, ?B/s]"
            ],
            "application/vnd.jupyter.widget-view+json": {
              "version_major": 2,
              "version_minor": 0,
              "model_id": "80b58219c8c445c1add95c372aad1fb3"
            }
          },
          "metadata": {}
        },
        {
          "output_type": "display_data",
          "data": {
            "text/plain": [
              "config.json:   0%|          | 0.00/481 [00:00<?, ?B/s]"
            ],
            "application/vnd.jupyter.widget-view+json": {
              "version_major": 2,
              "version_minor": 0,
              "model_id": "cbb4e0f3995e42ed909a14160797f428"
            }
          },
          "metadata": {}
        },
        {
          "output_type": "display_data",
          "data": {
            "text/plain": [
              "vocab.json:   0%|          | 0.00/899k [00:00<?, ?B/s]"
            ],
            "application/vnd.jupyter.widget-view+json": {
              "version_major": 2,
              "version_minor": 0,
              "model_id": "fde10b3916da42849a238af9d00ceb48"
            }
          },
          "metadata": {}
        },
        {
          "output_type": "display_data",
          "data": {
            "text/plain": [
              "merges.txt:   0%|          | 0.00/456k [00:00<?, ?B/s]"
            ],
            "application/vnd.jupyter.widget-view+json": {
              "version_major": 2,
              "version_minor": 0,
              "model_id": "6995bd05a118473f99754461da8d9cdd"
            }
          },
          "metadata": {}
        },
        {
          "output_type": "display_data",
          "data": {
            "text/plain": [
              "tokenizer.json:   0%|          | 0.00/1.36M [00:00<?, ?B/s]"
            ],
            "application/vnd.jupyter.widget-view+json": {
              "version_major": 2,
              "version_minor": 0,
              "model_id": "dce076cd20474a84a144b486779d3f7d"
            }
          },
          "metadata": {}
        },
        {
          "output_type": "display_data",
          "data": {
            "text/plain": [
              "model.safetensors:   0%|          | 0.00/499M [00:00<?, ?B/s]"
            ],
            "application/vnd.jupyter.widget-view+json": {
              "version_major": 2,
              "version_minor": 0,
              "model_id": "f8a81b0aba204942844269d8de58a6c1"
            }
          },
          "metadata": {}
        },
        {
          "output_type": "stream",
          "name": "stderr",
          "text": [
            "Some weights of RobertaForSequenceClassification were not initialized from the model checkpoint at FacebookAI/roberta-base and are newly initialized: ['classifier.dense.bias', 'classifier.dense.weight', 'classifier.out_proj.bias', 'classifier.out_proj.weight']\n",
            "You should probably TRAIN this model on a down-stream task to be able to use it for predictions and inference.\n"
          ]
        },
        {
          "output_type": "execute_result",
          "data": {
            "text/plain": [
              "RobertaForSequenceClassification(\n",
              "  (roberta): RobertaModel(\n",
              "    (embeddings): RobertaEmbeddings(\n",
              "      (word_embeddings): Embedding(50265, 768, padding_idx=1)\n",
              "      (position_embeddings): Embedding(514, 768, padding_idx=1)\n",
              "      (token_type_embeddings): Embedding(1, 768)\n",
              "      (LayerNorm): LayerNorm((768,), eps=1e-05, elementwise_affine=True)\n",
              "      (dropout): Dropout(p=0.1, inplace=False)\n",
              "    )\n",
              "    (encoder): RobertaEncoder(\n",
              "      (layer): ModuleList(\n",
              "        (0-11): 12 x RobertaLayer(\n",
              "          (attention): RobertaAttention(\n",
              "            (self): RobertaSdpaSelfAttention(\n",
              "              (query): Linear(in_features=768, out_features=768, bias=True)\n",
              "              (key): Linear(in_features=768, out_features=768, bias=True)\n",
              "              (value): Linear(in_features=768, out_features=768, bias=True)\n",
              "              (dropout): Dropout(p=0.1, inplace=False)\n",
              "            )\n",
              "            (output): RobertaSelfOutput(\n",
              "              (dense): Linear(in_features=768, out_features=768, bias=True)\n",
              "              (LayerNorm): LayerNorm((768,), eps=1e-05, elementwise_affine=True)\n",
              "              (dropout): Dropout(p=0.1, inplace=False)\n",
              "            )\n",
              "          )\n",
              "          (intermediate): RobertaIntermediate(\n",
              "            (dense): Linear(in_features=768, out_features=3072, bias=True)\n",
              "            (intermediate_act_fn): GELUActivation()\n",
              "          )\n",
              "          (output): RobertaOutput(\n",
              "            (dense): Linear(in_features=3072, out_features=768, bias=True)\n",
              "            (LayerNorm): LayerNorm((768,), eps=1e-05, elementwise_affine=True)\n",
              "            (dropout): Dropout(p=0.1, inplace=False)\n",
              "          )\n",
              "        )\n",
              "      )\n",
              "    )\n",
              "  )\n",
              "  (classifier): RobertaClassificationHead(\n",
              "    (dense): Linear(in_features=768, out_features=768, bias=True)\n",
              "    (dropout): Dropout(p=0.1, inplace=False)\n",
              "    (out_proj): Linear(in_features=768, out_features=151, bias=True)\n",
              "  )\n",
              ")"
            ]
          },
          "metadata": {},
          "execution_count": 12
        }
      ],
      "execution_count": 12
    },
    {
      "cell_type": "code",
      "source": [
        "lens = [len(tokenizer(i)[\"input_ids\"]) for i in [*train_text, *val_text]]\n",
        "sum(lens) / len(lens)"
      ],
      "metadata": {
        "colab": {
          "base_uri": "https://localhost:8080/"
        },
        "id": "-cfc5XSCLjRK",
        "outputId": "47aa0909-83e5-4186-a69d-63803e16fb3e",
        "trusted": true,
        "execution": {
          "iopub.status.busy": "2024-12-10T07:33:57.941101Z",
          "iopub.execute_input": "2024-12-10T07:33:57.941393Z",
          "iopub.status.idle": "2024-12-10T07:33:59.063351Z",
          "shell.execute_reply.started": "2024-12-10T07:33:57.941366Z",
          "shell.execute_reply": "2024-12-10T07:33:59.062460Z"
        }
      },
      "outputs": [
        {
          "output_type": "execute_result",
          "data": {
            "text/plain": [
              "11.09578964703299"
            ]
          },
          "metadata": {},
          "execution_count": 13
        }
      ],
      "execution_count": 13
    },
    {
      "cell_type": "code",
      "source": [
        "max(lens)"
      ],
      "metadata": {
        "colab": {
          "base_uri": "https://localhost:8080/"
        },
        "id": "a2JR2l31MFv8",
        "outputId": "3eb3792d-a1d4-4150-e148-d438dc7b6e3a",
        "trusted": true,
        "execution": {
          "iopub.status.busy": "2024-12-10T07:33:59.064118Z",
          "iopub.execute_input": "2024-12-10T07:33:59.064354Z",
          "iopub.status.idle": "2024-12-10T07:33:59.070669Z",
          "shell.execute_reply.started": "2024-12-10T07:33:59.064331Z",
          "shell.execute_reply": "2024-12-10T07:33:59.069634Z"
        }
      },
      "outputs": [
        {
          "output_type": "execute_result",
          "data": {
            "text/plain": [
              "37"
            ]
          },
          "metadata": {},
          "execution_count": 14
        }
      ],
      "execution_count": 14
    },
    {
      "cell_type": "code",
      "source": [
        "def preproc(text, tokenizer, max_length=64):\n",
        "    inputs = tokenizer(\n",
        "        text,\n",
        "        max_length=max_length,\n",
        "        add_special_tokens=True,\n",
        "        padding=\"max_length\",\n",
        "        truncation=True,\n",
        "        return_tensors=\"pt\"\n",
        "    )\n",
        "    return inputs[\"input_ids\"], inputs[\"attention_mask\"]\n",
        "\n",
        "preproc(train_text[0], tokenizer)"
      ],
      "metadata": {
        "colab": {
          "base_uri": "https://localhost:8080/"
        },
        "id": "B6Lqxq_zfaIa",
        "outputId": "2567437a-389c-4d16-f166-340f60416a2c",
        "trusted": true,
        "execution": {
          "iopub.status.busy": "2024-12-10T07:33:59.071941Z",
          "iopub.execute_input": "2024-12-10T07:33:59.072311Z",
          "iopub.status.idle": "2024-12-10T07:33:59.088127Z",
          "shell.execute_reply.started": "2024-12-10T07:33:59.072272Z",
          "shell.execute_reply": "2024-12-10T07:33:59.087305Z"
        }
      },
      "outputs": [
        {
          "output_type": "execute_result",
          "data": {
            "text/plain": [
              "(tensor([[    0, 12196,  8151,    74,   939,   304,     7,   224,   939,   657,\n",
              "             47,   114,   939,    58,    41,    24, 21999,     2,     1,     1,\n",
              "              1,     1,     1,     1,     1,     1,     1,     1,     1,     1,\n",
              "              1,     1,     1,     1,     1,     1,     1,     1,     1,     1,\n",
              "              1,     1,     1,     1,     1,     1,     1,     1,     1,     1,\n",
              "              1,     1,     1,     1,     1,     1,     1,     1,     1,     1,\n",
              "              1,     1,     1,     1]]),\n",
              " tensor([[1, 1, 1, 1, 1, 1, 1, 1, 1, 1, 1, 1, 1, 1, 1, 1, 1, 1, 0, 0, 0, 0, 0, 0,\n",
              "          0, 0, 0, 0, 0, 0, 0, 0, 0, 0, 0, 0, 0, 0, 0, 0, 0, 0, 0, 0, 0, 0, 0, 0,\n",
              "          0, 0, 0, 0, 0, 0, 0, 0, 0, 0, 0, 0, 0, 0, 0, 0]]))"
            ]
          },
          "metadata": {},
          "execution_count": 15
        }
      ],
      "execution_count": 15
    },
    {
      "cell_type": "code",
      "source": [
        "train_input_ids, train_attention_mask = zip(*map(lambda x: preproc(x, tokenizer), train_text))\n",
        "train_input_ids, train_attention_mask = torch.cat(train_input_ids), torch.cat(train_attention_mask)\n",
        "\n",
        "val_input_ids, val_attention_mask = zip(*map(lambda x: preproc(x, tokenizer), val_text))\n",
        "val_input_ids, val_attention_mask = torch.cat(val_input_ids), torch.cat(val_attention_mask)\n",
        "train_input_ids[0]"
      ],
      "metadata": {
        "colab": {
          "base_uri": "https://localhost:8080/"
        },
        "id": "Dp2bBzNCmwX6",
        "outputId": "a23aaec7-1e68-4285-9a33-16f76b1fd65c",
        "trusted": true,
        "execution": {
          "iopub.status.busy": "2024-12-10T07:33:59.089390Z",
          "iopub.execute_input": "2024-12-10T07:33:59.089754Z",
          "iopub.status.idle": "2024-12-10T07:34:01.731680Z",
          "shell.execute_reply.started": "2024-12-10T07:33:59.089717Z",
          "shell.execute_reply": "2024-12-10T07:34:01.730776Z"
        }
      },
      "outputs": [
        {
          "output_type": "execute_result",
          "data": {
            "text/plain": [
              "tensor([    0, 12196,  8151,    74,   939,   304,     7,   224,   939,   657,\n",
              "           47,   114,   939,    58,    41,    24, 21999,     2,     1,     1,\n",
              "            1,     1,     1,     1,     1,     1,     1,     1,     1,     1,\n",
              "            1,     1,     1,     1,     1,     1,     1,     1,     1,     1,\n",
              "            1,     1,     1,     1,     1,     1,     1,     1,     1,     1,\n",
              "            1,     1,     1,     1,     1,     1,     1,     1,     1,     1,\n",
              "            1,     1,     1,     1])"
            ]
          },
          "metadata": {},
          "execution_count": 16
        }
      ],
      "execution_count": 16
    },
    {
      "cell_type": "code",
      "source": [
        "label2id = {label: i for i, label in enumerate(classes)}\n",
        "id2label = {i: label for i, label in enumerate(classes)}\n",
        "label2id[\"yes\"]"
      ],
      "metadata": {
        "colab": {
          "base_uri": "https://localhost:8080/"
        },
        "id": "-aze6PVOrdzZ",
        "outputId": "257326cd-5216-4ca4-99af-5fa79a3096be",
        "trusted": true,
        "execution": {
          "iopub.status.busy": "2024-12-10T07:34:01.732827Z",
          "iopub.execute_input": "2024-12-10T07:34:01.733099Z",
          "iopub.status.idle": "2024-12-10T07:34:01.739117Z",
          "shell.execute_reply.started": "2024-12-10T07:34:01.733074Z",
          "shell.execute_reply": "2024-12-10T07:34:01.738288Z"
        }
      },
      "outputs": [
        {
          "output_type": "execute_result",
          "data": {
            "text/plain": [
              "42"
            ]
          },
          "metadata": {},
          "execution_count": 17
        }
      ],
      "execution_count": 17
    },
    {
      "cell_type": "code",
      "source": [
        "train_targets = torch.cat(list(map(lambda x: torch.LongTensor([label2id[x]]), train_labels)))\n",
        "val_targets = torch.cat(list(map(lambda x: torch.LongTensor([label2id[x]]), val_labels)))\n",
        "train_targets[0]"
      ],
      "metadata": {
        "colab": {
          "base_uri": "https://localhost:8080/"
        },
        "id": "pgm6rqwFrtqK",
        "outputId": "a6e28dea-78ee-4820-af0a-ec452c94d98f",
        "trusted": true,
        "execution": {
          "iopub.status.busy": "2024-12-10T07:34:01.740268Z",
          "iopub.execute_input": "2024-12-10T07:34:01.740577Z",
          "iopub.status.idle": "2024-12-10T07:34:01.844471Z",
          "shell.execute_reply.started": "2024-12-10T07:34:01.740534Z",
          "shell.execute_reply": "2024-12-10T07:34:01.843577Z"
        }
      },
      "outputs": [
        {
          "output_type": "execute_result",
          "data": {
            "text/plain": [
              "tensor(94)"
            ]
          },
          "metadata": {},
          "execution_count": 18
        }
      ],
      "execution_count": 18
    },
    {
      "cell_type": "code",
      "source": [
        "from torch.utils.data import TensorDataset, DataLoader\n",
        "\n",
        "train_ds = TensorDataset(train_input_ids, train_attention_mask, train_targets)\n",
        "val_ds = TensorDataset(val_input_ids, val_attention_mask, val_targets)\n",
        "batch_size = 100\n",
        "train_dl, val_dl = DataLoader(train_ds, batch_size=batch_size, shuffle=True, pin_memory=True), DataLoader(val_ds, batch_size=batch_size, shuffle=False, pin_memory=True)"
      ],
      "metadata": {
        "id": "TPAjIQgIesi7",
        "trusted": true,
        "execution": {
          "iopub.status.busy": "2024-12-10T07:34:01.845438Z",
          "iopub.execute_input": "2024-12-10T07:34:01.845713Z",
          "iopub.status.idle": "2024-12-10T07:34:01.851163Z",
          "shell.execute_reply.started": "2024-12-10T07:34:01.845688Z",
          "shell.execute_reply": "2024-12-10T07:34:01.850212Z"
        }
      },
      "outputs": [],
      "execution_count": 19
    },
    {
      "cell_type": "code",
      "source": [
        "train_ds[0]"
      ],
      "metadata": {
        "colab": {
          "base_uri": "https://localhost:8080/"
        },
        "id": "UWGkqIAc2fc8",
        "outputId": "846f3102-46d3-44d3-ac9f-c6ded873ba10",
        "trusted": true,
        "execution": {
          "iopub.status.busy": "2024-12-10T07:34:01.852314Z",
          "iopub.execute_input": "2024-12-10T07:34:01.852670Z",
          "iopub.status.idle": "2024-12-10T07:34:01.868836Z",
          "shell.execute_reply.started": "2024-12-10T07:34:01.852636Z",
          "shell.execute_reply": "2024-12-10T07:34:01.868004Z"
        }
      },
      "outputs": [
        {
          "output_type": "execute_result",
          "data": {
            "text/plain": [
              "(tensor([    0, 12196,  8151,    74,   939,   304,     7,   224,   939,   657,\n",
              "            47,   114,   939,    58,    41,    24, 21999,     2,     1,     1,\n",
              "             1,     1,     1,     1,     1,     1,     1,     1,     1,     1,\n",
              "             1,     1,     1,     1,     1,     1,     1,     1,     1,     1,\n",
              "             1,     1,     1,     1,     1,     1,     1,     1,     1,     1,\n",
              "             1,     1,     1,     1,     1,     1,     1,     1,     1,     1,\n",
              "             1,     1,     1,     1]),\n",
              " tensor([1, 1, 1, 1, 1, 1, 1, 1, 1, 1, 1, 1, 1, 1, 1, 1, 1, 1, 0, 0, 0, 0, 0, 0,\n",
              "         0, 0, 0, 0, 0, 0, 0, 0, 0, 0, 0, 0, 0, 0, 0, 0, 0, 0, 0, 0, 0, 0, 0, 0,\n",
              "         0, 0, 0, 0, 0, 0, 0, 0, 0, 0, 0, 0, 0, 0, 0, 0]),\n",
              " tensor(94))"
            ]
          },
          "metadata": {},
          "execution_count": 20
        }
      ],
      "execution_count": 20
    },
    {
      "cell_type": "code",
      "source": [
        "from transformers import get_linear_schedule_with_warmup\n",
        "\n",
        "epochs = 8\n",
        "\n",
        "no_decay = ['bias', 'LayerNorm.weight']\n",
        "\n",
        "optimizer_grouped_parameters = [\n",
        "    {'params': [p for n, p in model.named_parameters() if not any(nd in n for nd in no_decay)], 'weight_decay': 0.01},\n",
        "    {'params': [p for n, p in model.named_parameters() if any(nd in n for nd in no_decay)], 'weight_decay': 0.0}\n",
        "]\n",
        "\n",
        "optimizer = torch.optim.AdamW(optimizer_grouped_parameters, lr=3e-4)\n",
        "criterion = torch.nn.CrossEntropyLoss()\n",
        "\n",
        "num_training_steps = epochs * len(train_dl)\n",
        "\n",
        "scheduler = get_linear_schedule_with_warmup(optimizer, num_warmup_steps=len(train_dl) * 0.5, num_training_steps=num_training_steps)"
      ],
      "metadata": {
        "id": "CcJ_b48btXhN",
        "trusted": true,
        "execution": {
          "iopub.status.busy": "2024-12-10T07:34:01.869889Z",
          "iopub.execute_input": "2024-12-10T07:34:01.870160Z",
          "iopub.status.idle": "2024-12-10T07:34:01.894015Z",
          "shell.execute_reply.started": "2024-12-10T07:34:01.870136Z",
          "shell.execute_reply": "2024-12-10T07:34:01.893336Z"
        }
      },
      "outputs": [],
      "execution_count": 21
    },
    {
      "cell_type": "code",
      "source": [
        "from tqdm import tqdm\n",
        "import gc\n",
        "\n",
        "def train(model, train_dl, criterion, optimizer, scheduler=None):\n",
        "    model.train()\n",
        "    train_loss = 0\n",
        "    for x, atten_mask, y in train_dl:\n",
        "        optimizer.zero_grad()\n",
        "        x, y = x.to(device), y.to(device)\n",
        "        atten_mask = atten_mask.to(device)\n",
        "        out = model(x, attention_mask=atten_mask).logits\n",
        "        loss = criterion(out, y)\n",
        "        train_loss += loss.item()\n",
        "        # torch.nn.utils.clip_grad_norm_(model.parameters(), 1)\n",
        "        loss.backward()\n",
        "        optimizer.step()\n",
        "        if scheduler is not None:\n",
        "            scheduler.step()\n",
        "        gc.collect()\n",
        "        torch.cuda.empty_cache()\n",
        "    return train_loss / len(train_dl)"
      ],
      "metadata": {
        "id": "lqaQNrMUtTvU",
        "trusted": true,
        "execution": {
          "iopub.status.busy": "2024-12-10T07:34:01.894953Z",
          "iopub.execute_input": "2024-12-10T07:34:01.895208Z",
          "iopub.status.idle": "2024-12-10T07:34:01.901407Z",
          "shell.execute_reply.started": "2024-12-10T07:34:01.895184Z",
          "shell.execute_reply": "2024-12-10T07:34:01.900490Z"
        }
      },
      "outputs": [],
      "execution_count": 22
    },
    {
      "cell_type": "code",
      "source": [
        "from sklearn.metrics import *\n",
        "import numpy as np\n",
        "\n",
        "@torch.no_grad()\n",
        "def val(model, val_dl, criterion):\n",
        "    model.eval()\n",
        "    val_loss, val_acc = 0, 0\n",
        "    for x, atten_mask, y in val_dl:\n",
        "        x, y = x.to(device), y.to(device)\n",
        "        atten_mask = atten_mask.to(device)\n",
        "        out = model(x, attention_mask=atten_mask).logits\n",
        "        loss = criterion(out, y)\n",
        "        val_loss += loss.item()\n",
        "        pred = np.argmax(out.cpu().detach().numpy(), axis=1)\n",
        "        true = y.cpu().detach().numpy()\n",
        "        val_acc += accuracy_score(true, pred)\n",
        "    gc.collect()\n",
        "    torch.cuda.empty_cache()\n",
        "    return val_loss / len(val_dl), val_acc / len(val_dl)"
      ],
      "metadata": {
        "id": "rfqVAPCG4R1q",
        "trusted": true,
        "execution": {
          "iopub.status.busy": "2024-12-10T07:34:01.902388Z",
          "iopub.execute_input": "2024-12-10T07:34:01.902643Z",
          "iopub.status.idle": "2024-12-10T07:34:02.176838Z",
          "shell.execute_reply.started": "2024-12-10T07:34:01.902620Z",
          "shell.execute_reply": "2024-12-10T07:34:02.175848Z"
        }
      },
      "outputs": [],
      "execution_count": 23
    },
    {
      "cell_type": "code",
      "source": [
        "best_epoch, best_val_acc = 0, 0\n",
        "\n",
        "for epoch in tqdm(range(1, epochs + 1)):\n",
        "    print(\"\\n\" + \"=\" * 5 + f\"Epoch {epoch}/{epochs}\" +  \"=\" * 5)\n",
        "    train_loss = train(model, train_dl, criterion, optimizer, scheduler)\n",
        "    print(f\"Train loss {train_loss}\\n\")\n",
        "    val_loss, val_acc = val(model, val_dl, criterion)\n",
        "    model.save_pretrained(f\"roberta/epoch_{epoch}\")\n",
        "    if val_acc > best_val_acc:\n",
        "        best_epoch, best_val_acc = epoch, val_acc\n",
        "    print(f\"Val loss {val_loss} acc {val_acc}\")"
      ],
      "metadata": {
        "colab": {
          "base_uri": "https://localhost:8080/"
        },
        "id": "cQ4wraQJwf-0",
        "outputId": "4fb142fd-74b5-4292-b95a-12479c4ae9ae",
        "trusted": true,
        "execution": {
          "iopub.status.busy": "2024-12-10T07:34:02.178117Z",
          "iopub.execute_input": "2024-12-10T07:34:02.179302Z"
        }
      },
      "outputs": [
        {
          "output_type": "stream",
          "name": "stderr",
          "text": [
            "\r  0%|          | 0/8 [00:00<?, ?it/s]"
          ]
        },
        {
          "output_type": "stream",
          "name": "stdout",
          "text": [
            "\n",
            "=====Epoch 1/8=====\n",
            "Train loss 2.656405693214191\n"
          ]
        },
        {
          "output_type": "stream",
          "name": "stderr",
          "text": [
            "\r 12%|█▎        | 1/8 [02:31<17:39, 151.32s/it]"
          ]
        },
        {
          "output_type": "stream",
          "name": "stdout",
          "text": [
            "Val loss 0.7374438499100506 acc 0.8359375000000001\n",
            "\n",
            "=====Epoch 2/8=====\n",
            "Train loss 1.1410538346359604\n"
          ]
        },
        {
          "output_type": "stream",
          "name": "stderr",
          "text": [
            "\r 25%|██▌       | 2/8 [05:05<15:17, 152.93s/it]"
          ]
        },
        {
          "output_type": "stream",
          "name": "stdout",
          "text": [
            "Val loss 0.6340808852110058 acc 0.8759374999999997\n",
            "\n",
            "=====Epoch 3/8=====\n",
            "Train loss 0.9586299255882439\n"
          ]
        },
        {
          "output_type": "stream",
          "name": "stderr",
          "text": [
            "\r 38%|███▊      | 3/8 [07:37<12:43, 152.61s/it]"
          ]
        },
        {
          "output_type": "stream",
          "name": "stdout",
          "text": [
            "Val loss 0.43866949575021863 acc 0.9087500000000001\n",
            "\n",
            "=====Epoch 4/8=====\n",
            "Train loss 0.8294831541808028\n"
          ]
        },
        {
          "output_type": "stream",
          "name": "stderr",
          "text": [
            "\r 50%|█████     | 4/8 [10:09<10:09, 152.46s/it]"
          ]
        },
        {
          "output_type": "stream",
          "name": "stdout",
          "text": [
            "Val loss 0.4739349668379873 acc 0.9059375\n",
            "\n",
            "=====Epoch 5/8=====\n",
            "Train loss 0.7284861179558855\n"
          ]
        },
        {
          "output_type": "stream",
          "name": "stderr",
          "text": [
            "\r 62%|██████▎   | 5/8 [12:41<07:37, 152.33s/it]"
          ]
        },
        {
          "output_type": "stream",
          "name": "stdout",
          "text": [
            "Val loss 0.3752399643417448 acc 0.9362500000000001\n",
            "\n",
            "=====Epoch 6/8=====\n",
            "Train loss 0.6415642194547936\n"
          ]
        },
        {
          "output_type": "stream",
          "name": "stderr",
          "text": [
            "\r 75%|███████▌  | 6/8 [15:13<05:04, 152.19s/it]"
          ]
        },
        {
          "output_type": "stream",
          "name": "stdout",
          "text": [
            "Val loss 0.39451451133936644 acc 0.9190624999999999\n",
            "\n",
            "=====Epoch 7/8=====\n",
            "Train loss 0.5526703851003396\n"
          ]
        },
        {
          "output_type": "stream",
          "name": "stderr",
          "text": [
            "\r 88%|████████▊ | 7/8 [17:45<02:32, 152.08s/it]"
          ]
        },
        {
          "output_type": "stream",
          "name": "stdout",
          "text": [
            "Val loss 0.3677407787181437 acc 0.9284375000000001\n",
            "\n",
            "=====Epoch 8/8=====\n",
            "Train loss 0.4801518378877326\n"
          ]
        },
        {
          "output_type": "stream",
          "name": "stderr",
          "text": [
            "100%|██████████| 8/8 [20:22<00:00, 152.85s/it]"
          ]
        },
        {
          "output_type": "stream",
          "name": "stdout",
          "text": [
            "Val loss 0.37061715638265014 acc 0.9287500000000001\n"
          ]
        },
        {
          "output_type": "stream",
          "name": "stderr",
          "text": [
            "\n"
          ]
        }
      ],
      "execution_count": 24
    },
    {
      "cell_type": "code",
      "source": [
        "model.from_pretrained(f\"roberta/epoch_{best_epoch}\", local_files_only=True)\n",
        "model.to(device)\n",
        "model.eval()"
      ],
      "metadata": {
        "trusted": true,
        "id": "KghsRv-EPLmX",
        "colab": {
          "base_uri": "https://localhost:8080/"
        },
        "outputId": "0d2289bc-3a6a-4aa1-f618-ef2aff36e64f"
      },
      "outputs": [
        {
          "output_type": "execute_result",
          "data": {
            "text/plain": [
              "RobertaForSequenceClassification(\n",
              "  (roberta): RobertaModel(\n",
              "    (embeddings): RobertaEmbeddings(\n",
              "      (word_embeddings): Embedding(50265, 768, padding_idx=1)\n",
              "      (position_embeddings): Embedding(514, 768, padding_idx=1)\n",
              "      (token_type_embeddings): Embedding(1, 768)\n",
              "      (LayerNorm): LayerNorm((768,), eps=1e-05, elementwise_affine=True)\n",
              "      (dropout): Dropout(p=0.1, inplace=False)\n",
              "    )\n",
              "    (encoder): RobertaEncoder(\n",
              "      (layer): ModuleList(\n",
              "        (0-11): 12 x RobertaLayer(\n",
              "          (attention): RobertaAttention(\n",
              "            (self): RobertaSdpaSelfAttention(\n",
              "              (query): Linear(in_features=768, out_features=768, bias=True)\n",
              "              (key): Linear(in_features=768, out_features=768, bias=True)\n",
              "              (value): Linear(in_features=768, out_features=768, bias=True)\n",
              "              (dropout): Dropout(p=0.1, inplace=False)\n",
              "            )\n",
              "            (output): RobertaSelfOutput(\n",
              "              (dense): Linear(in_features=768, out_features=768, bias=True)\n",
              "              (LayerNorm): LayerNorm((768,), eps=1e-05, elementwise_affine=True)\n",
              "              (dropout): Dropout(p=0.1, inplace=False)\n",
              "            )\n",
              "          )\n",
              "          (intermediate): RobertaIntermediate(\n",
              "            (dense): Linear(in_features=768, out_features=3072, bias=True)\n",
              "            (intermediate_act_fn): GELUActivation()\n",
              "          )\n",
              "          (output): RobertaOutput(\n",
              "            (dense): Linear(in_features=3072, out_features=768, bias=True)\n",
              "            (LayerNorm): LayerNorm((768,), eps=1e-05, elementwise_affine=True)\n",
              "            (dropout): Dropout(p=0.1, inplace=False)\n",
              "          )\n",
              "        )\n",
              "      )\n",
              "    )\n",
              "  )\n",
              "  (classifier): RobertaClassificationHead(\n",
              "    (dense): Linear(in_features=768, out_features=768, bias=True)\n",
              "    (dropout): Dropout(p=0.1, inplace=False)\n",
              "    (out_proj): Linear(in_features=768, out_features=151, bias=True)\n",
              "  )\n",
              ")"
            ]
          },
          "metadata": {},
          "execution_count": 25
        }
      ],
      "execution_count": 25
    },
    {
      "cell_type": "code",
      "source": [
        "gc.collect()\n",
        "torch.cuda.empty_cache()\n",
        "model.to(device)\n",
        "\n",
        "preds, trues = [], []\n",
        "for x, atten_mask, y in val_dl:\n",
        "    with torch.no_grad():\n",
        "        x, y = x.to(device), y.to(device)\n",
        "        atten_mask = atten_mask.to(device)\n",
        "        out = model(x, attention_mask=atten_mask).logits\n",
        "        loss = criterion(out, y)\n",
        "        pred = np.argmax(out.cpu().detach().numpy(), axis=1)\n",
        "        true = y.cpu().detach().numpy()\n",
        "        preds.extend(pred)\n",
        "        trues.extend(true)\n",
        "\n",
        "\n",
        "gc.collect()\n",
        "torch.cuda.empty_cache()"
      ],
      "metadata": {
        "id": "50iLzAkxoY_2",
        "trusted": true
      },
      "outputs": [],
      "execution_count": 26
    },
    {
      "cell_type": "code",
      "source": [
        "d = {}\n",
        "for i in range(len(preds)):\n",
        "    if preds[i] != trues[i]:\n",
        "        if id2label[preds[i]] not in d:\n",
        "            d[id2label[preds[i]]] = 1\n",
        "        else:\n",
        "            d[id2label[preds[i]]] += 1\n",
        "\n",
        "sorted(d.items(), key=lambda x: -x[1])[:10]"
      ],
      "metadata": {
        "colab": {
          "base_uri": "https://localhost:8080/"
        },
        "id": "JqmjB4jnONU8",
        "outputId": "120a48f6-b11b-4d3b-b0b2-13ecaf45909c"
      },
      "execution_count": 27,
      "outputs": [
        {
          "output_type": "execute_result",
          "data": {
            "text/plain": [
              "[('oos', 8),\n",
              " ('definition', 7),\n",
              " ('oil_change_how', 6),\n",
              " ('change_user_name', 5),\n",
              " ('restaurant_suggestion', 5),\n",
              " ('income', 4),\n",
              " ('where_are_you_from', 4),\n",
              " ('freeze_account', 4),\n",
              " ('current_location', 3),\n",
              " ('cook_time', 3)]"
            ]
          },
          "metadata": {},
          "execution_count": 27
        }
      ]
    },
    {
      "cell_type": "code",
      "source": [
        "path = \"dirty\"\n",
        "\n",
        "print(classification_report(trues, preds))\n",
        "with open(f\"/content/drive/MyDrive/Colab Notebooks/Sirius/project/{path}_classification_report.txt\", \"w\") as f:\n",
        "    f.write(classification_report(trues, preds))"
      ],
      "metadata": {
        "colab": {
          "base_uri": "https://localhost:8080/"
        },
        "id": "l7zTCHRmNqEy",
        "outputId": "bf461589-0b57-4168-dd05-f0098eb2d0c5"
      },
      "execution_count": 28,
      "outputs": [
        {
          "output_type": "stream",
          "name": "stdout",
          "text": [
            "              precision    recall  f1-score   support\n",
            "\n",
            "           0       0.81      0.65      0.72        20\n",
            "           1       0.90      0.95      0.93        20\n",
            "           2       0.95      1.00      0.98        20\n",
            "           3       0.95      0.95      0.95        20\n",
            "           4       0.95      1.00      0.98        20\n",
            "           5       0.87      1.00      0.93        20\n",
            "           6       0.87      1.00      0.93        20\n",
            "           7       0.85      0.85      0.85        20\n",
            "           8       1.00      1.00      1.00        20\n",
            "           9       0.86      0.90      0.88        20\n",
            "          10       1.00      1.00      1.00        20\n",
            "          11       0.90      0.95      0.93        20\n",
            "          12       0.95      0.90      0.92        20\n",
            "          13       1.00      0.95      0.97        20\n",
            "          14       1.00      0.95      0.97        20\n",
            "          15       0.87      1.00      0.93        20\n",
            "          16       1.00      0.95      0.97        20\n",
            "          17       0.95      0.95      0.95        20\n",
            "          18       0.95      0.95      0.95        20\n",
            "          19       0.90      0.95      0.93        20\n",
            "          20       1.00      1.00      1.00        20\n",
            "          21       0.94      0.85      0.89        20\n",
            "          22       1.00      1.00      1.00        20\n",
            "          23       0.83      1.00      0.91        20\n",
            "          24       0.89      0.80      0.84        20\n",
            "          25       0.95      1.00      0.98        20\n",
            "          26       0.90      0.95      0.93        20\n",
            "          27       0.95      1.00      0.98        20\n",
            "          28       0.95      1.00      0.98        20\n",
            "          29       0.95      1.00      0.98        20\n",
            "          30       0.86      0.90      0.88        20\n",
            "          31       0.95      0.95      0.95        20\n",
            "          32       0.94      0.85      0.89        20\n",
            "          33       0.91      1.00      0.95        20\n",
            "          34       0.95      0.90      0.92        20\n",
            "          35       1.00      1.00      1.00        20\n",
            "          36       0.95      0.90      0.92        20\n",
            "          37       0.95      1.00      0.98        20\n",
            "          38       1.00      1.00      1.00        20\n",
            "          39       0.83      0.38      0.53       104\n",
            "          40       1.00      0.90      0.95        20\n",
            "          41       1.00      0.95      0.97        20\n",
            "          42       0.86      0.90      0.88        20\n",
            "          43       1.00      1.00      1.00        20\n",
            "          44       0.91      1.00      0.95        20\n",
            "          45       0.95      1.00      0.98        20\n",
            "          46       0.95      1.00      0.98        20\n",
            "          47       0.90      0.95      0.93        20\n",
            "          48       0.89      0.85      0.87        20\n",
            "          49       0.91      1.00      0.95        20\n",
            "          50       0.86      0.95      0.90        20\n",
            "          51       0.91      1.00      0.95        20\n",
            "          52       1.00      0.95      0.97        20\n",
            "          53       0.90      0.95      0.93        20\n",
            "          54       0.95      1.00      0.98        20\n",
            "          55       0.95      1.00      0.98        20\n",
            "          56       0.95      0.90      0.92        20\n",
            "          57       0.74      1.00      0.85        20\n",
            "          58       1.00      0.90      0.95        20\n",
            "          59       0.83      0.95      0.88        20\n",
            "          60       1.00      0.90      0.95        20\n",
            "          61       1.00      1.00      1.00        20\n",
            "          62       1.00      1.00      1.00        20\n",
            "          63       0.91      1.00      0.95        20\n",
            "          64       1.00      0.90      0.95        20\n",
            "          65       1.00      1.00      1.00        20\n",
            "          66       0.87      1.00      0.93        20\n",
            "          67       0.95      1.00      0.98        20\n",
            "          68       0.95      0.95      0.95        20\n",
            "          69       0.95      0.95      0.95        20\n",
            "          70       0.95      1.00      0.98        20\n",
            "          71       1.00      1.00      1.00        20\n",
            "          72       0.95      1.00      0.98        20\n",
            "          73       1.00      1.00      1.00        20\n",
            "          74       0.91      1.00      0.95        20\n",
            "          75       0.95      0.90      0.92        20\n",
            "          76       1.00      0.95      0.97        20\n",
            "          77       0.88      0.75      0.81        20\n",
            "          78       0.91      1.00      0.95        20\n",
            "          79       0.95      1.00      0.98        20\n",
            "          80       0.91      1.00      0.95        20\n",
            "          81       1.00      0.85      0.92        20\n",
            "          82       0.91      1.00      0.95        20\n",
            "          83       0.91      1.00      0.95        20\n",
            "          84       0.77      1.00      0.87        20\n",
            "          85       0.91      1.00      0.95        20\n",
            "          86       0.94      0.80      0.86        20\n",
            "          87       0.95      0.95      0.95        20\n",
            "          88       1.00      0.95      0.97        20\n",
            "          89       0.95      0.95      0.95        20\n",
            "          90       0.94      0.80      0.86        20\n",
            "          91       1.00      1.00      1.00        20\n",
            "          92       1.00      0.80      0.89        20\n",
            "          93       0.94      0.80      0.86        20\n",
            "          94       1.00      1.00      1.00        20\n",
            "          95       0.95      0.95      0.95        20\n",
            "          96       0.95      0.95      0.95        20\n",
            "          97       0.91      1.00      0.95        20\n",
            "          98       0.90      0.95      0.93        20\n",
            "          99       0.95      0.90      0.92        20\n",
            "         100       0.82      0.90      0.86        20\n",
            "         101       1.00      1.00      1.00        20\n",
            "         102       0.87      1.00      0.93        20\n",
            "         103       0.90      0.95      0.93        20\n",
            "         104       1.00      1.00      1.00        20\n",
            "         105       0.95      0.95      0.95        20\n",
            "         106       0.95      0.95      0.95        20\n",
            "         107       0.95      1.00      0.98        20\n",
            "         108       0.79      0.95      0.86        20\n",
            "         109       0.95      1.00      0.98        20\n",
            "         110       0.95      1.00      0.98        20\n",
            "         111       1.00      0.90      0.95        20\n",
            "         112       0.91      1.00      0.95        20\n",
            "         113       1.00      0.70      0.82        20\n",
            "         114       1.00      1.00      1.00        20\n",
            "         115       0.86      0.95      0.90        20\n",
            "         116       0.87      1.00      0.93        20\n",
            "         117       0.95      1.00      0.98        20\n",
            "         118       1.00      0.90      0.95        20\n",
            "         119       0.91      1.00      0.95        20\n",
            "         120       0.79      0.95      0.86        20\n",
            "         121       0.95      0.90      0.92        20\n",
            "         122       0.95      1.00      0.98        20\n",
            "         123       0.90      0.95      0.93        20\n",
            "         124       1.00      1.00      1.00        20\n",
            "         125       1.00      1.00      1.00        20\n",
            "         126       1.00      1.00      1.00        20\n",
            "         127       0.95      0.95      0.95        20\n",
            "         128       0.87      1.00      0.93        20\n",
            "         129       0.89      0.85      0.87        20\n",
            "         130       1.00      0.90      0.95        20\n",
            "         131       0.95      0.90      0.92        20\n",
            "         132       1.00      0.90      0.95        20\n",
            "         133       0.95      1.00      0.98        20\n",
            "         134       1.00      0.85      0.92        20\n",
            "         135       0.95      0.95      0.95        20\n",
            "         136       0.90      0.95      0.93        20\n",
            "         137       1.00      0.95      0.97        20\n",
            "         138       0.87      1.00      0.93        20\n",
            "         139       1.00      1.00      1.00        20\n",
            "         140       1.00      0.95      0.97        20\n",
            "         141       0.90      0.95      0.93        20\n",
            "         142       0.86      0.95      0.90        20\n",
            "         143       1.00      1.00      1.00        20\n",
            "         144       1.00      1.00      1.00        20\n",
            "         145       0.95      1.00      0.98        20\n",
            "         146       0.87      1.00      0.93        20\n",
            "         147       1.00      0.95      0.97        20\n",
            "         148       1.00      1.00      1.00        20\n",
            "         149       1.00      1.00      1.00        20\n",
            "         150       0.87      1.00      0.93        20\n",
            "\n",
            "    accuracy                           0.93      3104\n",
            "   macro avg       0.94      0.95      0.94      3104\n",
            "weighted avg       0.94      0.93      0.93      3104\n",
            "\n"
          ]
        }
      ]
    },
    {
      "cell_type": "code",
      "source": [
        "!gdown 1UlYk6XdzwK4U1AuPvmBv5i1Odx7K9puZ"
      ],
      "metadata": {
        "colab": {
          "base_uri": "https://localhost:8080/"
        },
        "id": "5Arip7Lw5Szx",
        "outputId": "e4f9c002-57b1-4f98-d398-5fb328750311"
      },
      "execution_count": 29,
      "outputs": [
        {
          "output_type": "stream",
          "name": "stdout",
          "text": [
            "Downloading...\n",
            "From: https://drive.google.com/uc?id=1UlYk6XdzwK4U1AuPvmBv5i1Odx7K9puZ\n",
            "To: /content/label_desc_context_nearest_many.csv\n",
            "\r  0% 0.00/41.5k [00:00<?, ?B/s]\r100% 41.5k/41.5k [00:00<00:00, 79.6MB/s]\n"
          ]
        }
      ]
    },
    {
      "cell_type": "code",
      "source": [
        "import pandas as pd\n",
        "\n",
        "desc = pd.read_csv(\"label_desc_context_nearest_many.csv\")\n",
        "desc"
      ],
      "metadata": {
        "colab": {
          "base_uri": "https://localhost:8080/",
          "height": 424
        },
        "id": "FKb190cZ5Y1_",
        "outputId": "63423530-4846-4e42-c023-7691a6f8d51a"
      },
      "execution_count": 30,
      "outputs": [
        {
          "output_type": "execute_result",
          "data": {
            "text/plain": [
              "                  intent                                               text  \\\n",
              "0    accept_reservations  does spago in beverly hills allow customers to...   \n",
              "1        account_blocked  my account looks to be blocked and i have no i...   \n",
              "2                  alarm             i'd like alarms set for 11am and 132pm   \n",
              "3     application_status  what is the present status of my credit card a...   \n",
              "4                    apr  is the apr on my card that ends 1234 what it s...   \n",
              "..                   ...                                                ...   \n",
              "146   where_are_you_from                        what place were you born at   \n",
              "147         whisper_mode                                set up whisper mode   \n",
              "148  who_do_you_work_for                     do you work for another person   \n",
              "149         who_made_you                               who is your designer   \n",
              "150                  yes                             that's definitely true   \n",
              "\n",
              "                                           description  \\\n",
              "0    Requests to determine if a specific restaurant...   \n",
              "1    Requests for information about why a bank acco...   \n",
              "2    Requests to set, update, or review alarms for ...   \n",
              "3    Requests for updates on the status of an appli...   \n",
              "4    Requests for information about the Annual Perc...   \n",
              "..                                                 ...   \n",
              "146  Requests about the assistant's origin or creat...   \n",
              "147  Requests to activate a whisper mode, where the...   \n",
              "148  Requests to know the assistant's affiliation, ...   \n",
              "149  Requests about the creator, designer, or under...   \n",
              "150  Affirmative responses or confirmations indicat...   \n",
              "\n",
              "                                        nearest_labels  \n",
              "0    ['definition', 'travel_alert', 'restaurant_res...  \n",
              "1       ['balance', 'freeze_account', 'card_declined']  \n",
              "2                               ['translate', 'timer']  \n",
              "3    ['credit_limit', 'order_status', 'credit_limit...  \n",
              "4        ['new_card', 'credit_limit', 'interest_rate']  \n",
              "..                                                 ...  \n",
              "146  ['change_user_name', 'what_can_i_ask_you', 'wh...  \n",
              "147  ['change_user_name', 'change_speed', 'change_v...  \n",
              "148  ['application_status', 'change_user_name', 'wh...  \n",
              "149  ['fun_fact', 'change_user_name', 'where_are_yo...  \n",
              "150  ['application_status', 'confirm_reservation', ...  \n",
              "\n",
              "[151 rows x 4 columns]"
            ],
            "text/html": [
              "\n",
              "  <div id=\"df-ef00d62e-b994-4040-8449-f60ab95290c6\" class=\"colab-df-container\">\n",
              "    <div>\n",
              "<style scoped>\n",
              "    .dataframe tbody tr th:only-of-type {\n",
              "        vertical-align: middle;\n",
              "    }\n",
              "\n",
              "    .dataframe tbody tr th {\n",
              "        vertical-align: top;\n",
              "    }\n",
              "\n",
              "    .dataframe thead th {\n",
              "        text-align: right;\n",
              "    }\n",
              "</style>\n",
              "<table border=\"1\" class=\"dataframe\">\n",
              "  <thead>\n",
              "    <tr style=\"text-align: right;\">\n",
              "      <th></th>\n",
              "      <th>intent</th>\n",
              "      <th>text</th>\n",
              "      <th>description</th>\n",
              "      <th>nearest_labels</th>\n",
              "    </tr>\n",
              "  </thead>\n",
              "  <tbody>\n",
              "    <tr>\n",
              "      <th>0</th>\n",
              "      <td>accept_reservations</td>\n",
              "      <td>does spago in beverly hills allow customers to...</td>\n",
              "      <td>Requests to determine if a specific restaurant...</td>\n",
              "      <td>['definition', 'travel_alert', 'restaurant_res...</td>\n",
              "    </tr>\n",
              "    <tr>\n",
              "      <th>1</th>\n",
              "      <td>account_blocked</td>\n",
              "      <td>my account looks to be blocked and i have no i...</td>\n",
              "      <td>Requests for information about why a bank acco...</td>\n",
              "      <td>['balance', 'freeze_account', 'card_declined']</td>\n",
              "    </tr>\n",
              "    <tr>\n",
              "      <th>2</th>\n",
              "      <td>alarm</td>\n",
              "      <td>i'd like alarms set for 11am and 132pm</td>\n",
              "      <td>Requests to set, update, or review alarms for ...</td>\n",
              "      <td>['translate', 'timer']</td>\n",
              "    </tr>\n",
              "    <tr>\n",
              "      <th>3</th>\n",
              "      <td>application_status</td>\n",
              "      <td>what is the present status of my credit card a...</td>\n",
              "      <td>Requests for updates on the status of an appli...</td>\n",
              "      <td>['credit_limit', 'order_status', 'credit_limit...</td>\n",
              "    </tr>\n",
              "    <tr>\n",
              "      <th>4</th>\n",
              "      <td>apr</td>\n",
              "      <td>is the apr on my card that ends 1234 what it s...</td>\n",
              "      <td>Requests for information about the Annual Perc...</td>\n",
              "      <td>['new_card', 'credit_limit', 'interest_rate']</td>\n",
              "    </tr>\n",
              "    <tr>\n",
              "      <th>...</th>\n",
              "      <td>...</td>\n",
              "      <td>...</td>\n",
              "      <td>...</td>\n",
              "      <td>...</td>\n",
              "    </tr>\n",
              "    <tr>\n",
              "      <th>146</th>\n",
              "      <td>where_are_you_from</td>\n",
              "      <td>what place were you born at</td>\n",
              "      <td>Requests about the assistant's origin or creat...</td>\n",
              "      <td>['change_user_name', 'what_can_i_ask_you', 'wh...</td>\n",
              "    </tr>\n",
              "    <tr>\n",
              "      <th>147</th>\n",
              "      <td>whisper_mode</td>\n",
              "      <td>set up whisper mode</td>\n",
              "      <td>Requests to activate a whisper mode, where the...</td>\n",
              "      <td>['change_user_name', 'change_speed', 'change_v...</td>\n",
              "    </tr>\n",
              "    <tr>\n",
              "      <th>148</th>\n",
              "      <td>who_do_you_work_for</td>\n",
              "      <td>do you work for another person</td>\n",
              "      <td>Requests to know the assistant's affiliation, ...</td>\n",
              "      <td>['application_status', 'change_user_name', 'wh...</td>\n",
              "    </tr>\n",
              "    <tr>\n",
              "      <th>149</th>\n",
              "      <td>who_made_you</td>\n",
              "      <td>who is your designer</td>\n",
              "      <td>Requests about the creator, designer, or under...</td>\n",
              "      <td>['fun_fact', 'change_user_name', 'where_are_yo...</td>\n",
              "    </tr>\n",
              "    <tr>\n",
              "      <th>150</th>\n",
              "      <td>yes</td>\n",
              "      <td>that's definitely true</td>\n",
              "      <td>Affirmative responses or confirmations indicat...</td>\n",
              "      <td>['application_status', 'confirm_reservation', ...</td>\n",
              "    </tr>\n",
              "  </tbody>\n",
              "</table>\n",
              "<p>151 rows × 4 columns</p>\n",
              "</div>\n",
              "    <div class=\"colab-df-buttons\">\n",
              "\n",
              "  <div class=\"colab-df-container\">\n",
              "    <button class=\"colab-df-convert\" onclick=\"convertToInteractive('df-ef00d62e-b994-4040-8449-f60ab95290c6')\"\n",
              "            title=\"Convert this dataframe to an interactive table.\"\n",
              "            style=\"display:none;\">\n",
              "\n",
              "  <svg xmlns=\"http://www.w3.org/2000/svg\" height=\"24px\" viewBox=\"0 -960 960 960\">\n",
              "    <path d=\"M120-120v-720h720v720H120Zm60-500h600v-160H180v160Zm220 220h160v-160H400v160Zm0 220h160v-160H400v160ZM180-400h160v-160H180v160Zm440 0h160v-160H620v160ZM180-180h160v-160H180v160Zm440 0h160v-160H620v160Z\"/>\n",
              "  </svg>\n",
              "    </button>\n",
              "\n",
              "  <style>\n",
              "    .colab-df-container {\n",
              "      display:flex;\n",
              "      gap: 12px;\n",
              "    }\n",
              "\n",
              "    .colab-df-convert {\n",
              "      background-color: #E8F0FE;\n",
              "      border: none;\n",
              "      border-radius: 50%;\n",
              "      cursor: pointer;\n",
              "      display: none;\n",
              "      fill: #1967D2;\n",
              "      height: 32px;\n",
              "      padding: 0 0 0 0;\n",
              "      width: 32px;\n",
              "    }\n",
              "\n",
              "    .colab-df-convert:hover {\n",
              "      background-color: #E2EBFA;\n",
              "      box-shadow: 0px 1px 2px rgba(60, 64, 67, 0.3), 0px 1px 3px 1px rgba(60, 64, 67, 0.15);\n",
              "      fill: #174EA6;\n",
              "    }\n",
              "\n",
              "    .colab-df-buttons div {\n",
              "      margin-bottom: 4px;\n",
              "    }\n",
              "\n",
              "    [theme=dark] .colab-df-convert {\n",
              "      background-color: #3B4455;\n",
              "      fill: #D2E3FC;\n",
              "    }\n",
              "\n",
              "    [theme=dark] .colab-df-convert:hover {\n",
              "      background-color: #434B5C;\n",
              "      box-shadow: 0px 1px 3px 1px rgba(0, 0, 0, 0.15);\n",
              "      filter: drop-shadow(0px 1px 2px rgba(0, 0, 0, 0.3));\n",
              "      fill: #FFFFFF;\n",
              "    }\n",
              "  </style>\n",
              "\n",
              "    <script>\n",
              "      const buttonEl =\n",
              "        document.querySelector('#df-ef00d62e-b994-4040-8449-f60ab95290c6 button.colab-df-convert');\n",
              "      buttonEl.style.display =\n",
              "        google.colab.kernel.accessAllowed ? 'block' : 'none';\n",
              "\n",
              "      async function convertToInteractive(key) {\n",
              "        const element = document.querySelector('#df-ef00d62e-b994-4040-8449-f60ab95290c6');\n",
              "        const dataTable =\n",
              "          await google.colab.kernel.invokeFunction('convertToInteractive',\n",
              "                                                    [key], {});\n",
              "        if (!dataTable) return;\n",
              "\n",
              "        const docLinkHtml = 'Like what you see? Visit the ' +\n",
              "          '<a target=\"_blank\" href=https://colab.research.google.com/notebooks/data_table.ipynb>data table notebook</a>'\n",
              "          + ' to learn more about interactive tables.';\n",
              "        element.innerHTML = '';\n",
              "        dataTable['output_type'] = 'display_data';\n",
              "        await google.colab.output.renderOutput(dataTable, element);\n",
              "        const docLink = document.createElement('div');\n",
              "        docLink.innerHTML = docLinkHtml;\n",
              "        element.appendChild(docLink);\n",
              "      }\n",
              "    </script>\n",
              "  </div>\n",
              "\n",
              "\n",
              "<div id=\"df-5fbfa2ba-662b-4cda-a9a0-1506b9943dd4\">\n",
              "  <button class=\"colab-df-quickchart\" onclick=\"quickchart('df-5fbfa2ba-662b-4cda-a9a0-1506b9943dd4')\"\n",
              "            title=\"Suggest charts\"\n",
              "            style=\"display:none;\">\n",
              "\n",
              "<svg xmlns=\"http://www.w3.org/2000/svg\" height=\"24px\"viewBox=\"0 0 24 24\"\n",
              "     width=\"24px\">\n",
              "    <g>\n",
              "        <path d=\"M19 3H5c-1.1 0-2 .9-2 2v14c0 1.1.9 2 2 2h14c1.1 0 2-.9 2-2V5c0-1.1-.9-2-2-2zM9 17H7v-7h2v7zm4 0h-2V7h2v10zm4 0h-2v-4h2v4z\"/>\n",
              "    </g>\n",
              "</svg>\n",
              "  </button>\n",
              "\n",
              "<style>\n",
              "  .colab-df-quickchart {\n",
              "      --bg-color: #E8F0FE;\n",
              "      --fill-color: #1967D2;\n",
              "      --hover-bg-color: #E2EBFA;\n",
              "      --hover-fill-color: #174EA6;\n",
              "      --disabled-fill-color: #AAA;\n",
              "      --disabled-bg-color: #DDD;\n",
              "  }\n",
              "\n",
              "  [theme=dark] .colab-df-quickchart {\n",
              "      --bg-color: #3B4455;\n",
              "      --fill-color: #D2E3FC;\n",
              "      --hover-bg-color: #434B5C;\n",
              "      --hover-fill-color: #FFFFFF;\n",
              "      --disabled-bg-color: #3B4455;\n",
              "      --disabled-fill-color: #666;\n",
              "  }\n",
              "\n",
              "  .colab-df-quickchart {\n",
              "    background-color: var(--bg-color);\n",
              "    border: none;\n",
              "    border-radius: 50%;\n",
              "    cursor: pointer;\n",
              "    display: none;\n",
              "    fill: var(--fill-color);\n",
              "    height: 32px;\n",
              "    padding: 0;\n",
              "    width: 32px;\n",
              "  }\n",
              "\n",
              "  .colab-df-quickchart:hover {\n",
              "    background-color: var(--hover-bg-color);\n",
              "    box-shadow: 0 1px 2px rgba(60, 64, 67, 0.3), 0 1px 3px 1px rgba(60, 64, 67, 0.15);\n",
              "    fill: var(--button-hover-fill-color);\n",
              "  }\n",
              "\n",
              "  .colab-df-quickchart-complete:disabled,\n",
              "  .colab-df-quickchart-complete:disabled:hover {\n",
              "    background-color: var(--disabled-bg-color);\n",
              "    fill: var(--disabled-fill-color);\n",
              "    box-shadow: none;\n",
              "  }\n",
              "\n",
              "  .colab-df-spinner {\n",
              "    border: 2px solid var(--fill-color);\n",
              "    border-color: transparent;\n",
              "    border-bottom-color: var(--fill-color);\n",
              "    animation:\n",
              "      spin 1s steps(1) infinite;\n",
              "  }\n",
              "\n",
              "  @keyframes spin {\n",
              "    0% {\n",
              "      border-color: transparent;\n",
              "      border-bottom-color: var(--fill-color);\n",
              "      border-left-color: var(--fill-color);\n",
              "    }\n",
              "    20% {\n",
              "      border-color: transparent;\n",
              "      border-left-color: var(--fill-color);\n",
              "      border-top-color: var(--fill-color);\n",
              "    }\n",
              "    30% {\n",
              "      border-color: transparent;\n",
              "      border-left-color: var(--fill-color);\n",
              "      border-top-color: var(--fill-color);\n",
              "      border-right-color: var(--fill-color);\n",
              "    }\n",
              "    40% {\n",
              "      border-color: transparent;\n",
              "      border-right-color: var(--fill-color);\n",
              "      border-top-color: var(--fill-color);\n",
              "    }\n",
              "    60% {\n",
              "      border-color: transparent;\n",
              "      border-right-color: var(--fill-color);\n",
              "    }\n",
              "    80% {\n",
              "      border-color: transparent;\n",
              "      border-right-color: var(--fill-color);\n",
              "      border-bottom-color: var(--fill-color);\n",
              "    }\n",
              "    90% {\n",
              "      border-color: transparent;\n",
              "      border-bottom-color: var(--fill-color);\n",
              "    }\n",
              "  }\n",
              "</style>\n",
              "\n",
              "  <script>\n",
              "    async function quickchart(key) {\n",
              "      const quickchartButtonEl =\n",
              "        document.querySelector('#' + key + ' button');\n",
              "      quickchartButtonEl.disabled = true;  // To prevent multiple clicks.\n",
              "      quickchartButtonEl.classList.add('colab-df-spinner');\n",
              "      try {\n",
              "        const charts = await google.colab.kernel.invokeFunction(\n",
              "            'suggestCharts', [key], {});\n",
              "      } catch (error) {\n",
              "        console.error('Error during call to suggestCharts:', error);\n",
              "      }\n",
              "      quickchartButtonEl.classList.remove('colab-df-spinner');\n",
              "      quickchartButtonEl.classList.add('colab-df-quickchart-complete');\n",
              "    }\n",
              "    (() => {\n",
              "      let quickchartButtonEl =\n",
              "        document.querySelector('#df-5fbfa2ba-662b-4cda-a9a0-1506b9943dd4 button');\n",
              "      quickchartButtonEl.style.display =\n",
              "        google.colab.kernel.accessAllowed ? 'block' : 'none';\n",
              "    })();\n",
              "  </script>\n",
              "</div>\n",
              "    </div>\n",
              "  </div>\n"
            ],
            "application/vnd.google.colaboratory.intrinsic+json": {
              "type": "dataframe",
              "variable_name": "desc",
              "summary": "{\n  \"name\": \"desc\",\n  \"rows\": 151,\n  \"fields\": [\n    {\n      \"column\": \"intent\",\n      \"properties\": {\n        \"dtype\": \"string\",\n        \"num_unique_values\": 151,\n        \"samples\": [\n          \"no\",\n          \"card_declined\",\n          \"order_checks\"\n        ],\n        \"semantic_type\": \"\",\n        \"description\": \"\"\n      }\n    },\n    {\n      \"column\": \"text\",\n      \"properties\": {\n        \"dtype\": \"string\",\n        \"num_unique_values\": 151,\n        \"samples\": [\n          \"ill pass\",\n          \"is there a reason my card was declined\",\n          \"i need more checks because i am out\"\n        ],\n        \"semantic_type\": \"\",\n        \"description\": \"\"\n      }\n    },\n    {\n      \"column\": \"description\",\n      \"properties\": {\n        \"dtype\": \"string\",\n        \"num_unique_values\": 150,\n        \"samples\": [\n          \"Requests for assistance in selecting or applying for a new credit card. Users may seek recommendations tailored to their needs, such as student-friendly cards or cards with specific benefits.\",\n          \"Requests for information or reasons why a card transaction was declined. Users seek assistance in understanding the issue and resolving it to restore the card's functionality.\",\n          \"Requests to hear a joke or humorous content. Users may ask for general jokes or specify themes, such as jokes about certain topics.\"\n        ],\n        \"semantic_type\": \"\",\n        \"description\": \"\"\n      }\n    },\n    {\n      \"column\": \"nearest_labels\",\n      \"properties\": {\n        \"dtype\": \"string\",\n        \"num_unique_values\": 143,\n        \"samples\": [\n          \"['timer', 'travel_alert', 'time']\",\n          \"['travel_alert', 'flight_status', 'lost_luggage']\",\n          \"['transfer', 'improve_credit_score', 'report_lost_card']\"\n        ],\n        \"semantic_type\": \"\",\n        \"description\": \"\"\n      }\n    }\n  ]\n}"
            }
          },
          "metadata": {},
          "execution_count": 30
        }
      ]
    },
    {
      "cell_type": "code",
      "source": [
        "label2desc = {row.intent: row.description for i, row in desc.iterrows() if row.intent != \"oos\"}\n",
        "list(label2desc.items())[:5]"
      ],
      "metadata": {
        "colab": {
          "base_uri": "https://localhost:8080/"
        },
        "id": "V_IMM-JA6Xi3",
        "outputId": "67af6f84-9f62-4629-f6ae-8edc63e7eed8"
      },
      "execution_count": 31,
      "outputs": [
        {
          "output_type": "execute_result",
          "data": {
            "text/plain": [
              "[('accept_reservations',\n",
              "  'Requests to determine if a specific restaurant or establishment allows reservations. Users may seek this information before attempting to book a table.'),\n",
              " ('account_blocked',\n",
              "  'Requests for information about why a bank account or service has been blocked. Users may seek assistance in understanding the reason for the hold and how to resolve it.'),\n",
              " ('alarm',\n",
              "  'Requests to set, update, or review alarms for specific times. Users may provide detailed instructions for single or multiple alarms across different time periods.'),\n",
              " ('application_status',\n",
              "  'Requests for updates on the status of an application, such as a credit card or other formal process. Users may ask if their application has been approved, is under review, or requires additional action.'),\n",
              " ('apr',\n",
              "  'Requests for information about the Annual Percentage Rate (APR) on a credit card. Users may ask if the rate is appropriate based on their credit score or inquire about the APR for a specific card.')]"
            ]
          },
          "metadata": {},
          "execution_count": 31
        }
      ]
    },
    {
      "cell_type": "code",
      "source": [
        "with open(f\"/content/drive/MyDrive/Colab Notebooks/Sirius/project/{path}/tokenizer/label2desc.json\", \"w\") as f:\n",
        "    json.dump(label2desc, f, indent=2)"
      ],
      "metadata": {
        "id": "tUysIZ-06mJM"
      },
      "execution_count": 32,
      "outputs": []
    },
    {
      "cell_type": "code",
      "source": [
        "# model.save_pretrained(\"/content/drive/MyDrive/Colab Notebooks/Sirius/project/best\")\n",
        "tokenizer.save_pretrained(f\"/content/drive/MyDrive/Colab Notebooks/Sirius/project/{path}/tokenizer/tokenizer\")\n",
        "\n",
        "with open(f\"/content/drive/MyDrive/Colab Notebooks/Sirius/project/{path}/tokenizer/id2label.json\", \"w\") as f:\n",
        "    json.dump(id2label, f, indent=2)"
      ],
      "metadata": {
        "id": "LFlp4gCPR1cJ"
      },
      "execution_count": 33,
      "outputs": []
    },
    {
      "cell_type": "code",
      "source": [
        "!pip install onnx"
      ],
      "metadata": {
        "id": "ixeIK8dMYEI8",
        "colab": {
          "base_uri": "https://localhost:8080/"
        },
        "outputId": "3afc4035-9519-4e04-fbd7-3da5a22cf05d"
      },
      "execution_count": 34,
      "outputs": [
        {
          "output_type": "stream",
          "name": "stdout",
          "text": [
            "Collecting onnx\n",
            "  Downloading onnx-1.17.0-cp310-cp310-manylinux_2_17_x86_64.manylinux2014_x86_64.whl.metadata (16 kB)\n",
            "Requirement already satisfied: numpy>=1.20 in /usr/local/lib/python3.10/dist-packages (from onnx) (1.26.4)\n",
            "Requirement already satisfied: protobuf>=3.20.2 in /usr/local/lib/python3.10/dist-packages (from onnx) (4.25.5)\n",
            "Downloading onnx-1.17.0-cp310-cp310-manylinux_2_17_x86_64.manylinux2014_x86_64.whl (16.0 MB)\n",
            "\u001b[2K   \u001b[90m━━━━━━━━━━━━━━━━━━━━━━━━━━━━━━━━━━━━━━━━\u001b[0m \u001b[32m16.0/16.0 MB\u001b[0m \u001b[31m64.9 MB/s\u001b[0m eta \u001b[36m0:00:00\u001b[0m\n",
            "\u001b[?25hInstalling collected packages: onnx\n",
            "Successfully installed onnx-1.17.0\n"
          ]
        }
      ]
    },
    {
      "cell_type": "code",
      "source": [
        "torch.onnx.export(\n",
        "    model.cpu(), (torch.rand(1, 5).long(), torch.rand(1, 5).long()),\n",
        "    f\"/content/drive/MyDrive/Colab Notebooks/Sirius/project/{path}/model.onnx\",\n",
        "    input_names=['input_ids', 'attention_masks'],\n",
        "    output_names=['outputs'],\n",
        "    opset_version=15,\n",
        "    dynamic_axes={\n",
        "        'input_ids': {\n",
        "            0: 'batch_size',\n",
        "            1: 'seq_len'\n",
        "        },\n",
        "        'attention_masks': {\n",
        "            0: 'batch_size',\n",
        "            1: 'seq_len'\n",
        "        },\n",
        "        'outputs': {\n",
        "            0: 'batch_size'\n",
        "        }\n",
        "    }\n",
        ")"
      ],
      "metadata": {
        "id": "CGq7794XTrTb"
      },
      "execution_count": 35,
      "outputs": []
    }
  ]
}