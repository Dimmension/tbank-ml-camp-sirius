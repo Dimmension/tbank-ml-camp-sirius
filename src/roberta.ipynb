{
  "metadata": {
    "kernelspec": {
      "name": "python3",
      "display_name": "Python 3",
      "language": "python"
    },
    "language_info": {
      "name": "python",
      "version": "3.10.14",
      "mimetype": "text/x-python",
      "codemirror_mode": {
        "name": "ipython",
        "version": 3
      },
      "pygments_lexer": "ipython3",
      "nbconvert_exporter": "python",
      "file_extension": ".py"
    },
    "colab": {
      "provenance": [],
      "gpuType": "T4"
    },
    "accelerator": "GPU",
    "widgets": {
      "application/vnd.jupyter.widget-state+json": {
        "55a750d9127f4b939b37a143218218ad": {
          "model_module": "@jupyter-widgets/controls",
          "model_name": "HBoxModel",
          "model_module_version": "1.5.0",
          "state": {
            "_dom_classes": [],
            "_model_module": "@jupyter-widgets/controls",
            "_model_module_version": "1.5.0",
            "_model_name": "HBoxModel",
            "_view_count": null,
            "_view_module": "@jupyter-widgets/controls",
            "_view_module_version": "1.5.0",
            "_view_name": "HBoxView",
            "box_style": "",
            "children": [
              "IPY_MODEL_78ec49b1b7de40f99b39daf961bc12db",
              "IPY_MODEL_f782d19aaa7a423487a3d16f7ba7fe20",
              "IPY_MODEL_4b8d6122be8a45578164a2f7124a6a4c"
            ],
            "layout": "IPY_MODEL_a7104629d24347d2a2678cbe442bb94c"
          }
        },
        "78ec49b1b7de40f99b39daf961bc12db": {
          "model_module": "@jupyter-widgets/controls",
          "model_name": "HTMLModel",
          "model_module_version": "1.5.0",
          "state": {
            "_dom_classes": [],
            "_model_module": "@jupyter-widgets/controls",
            "_model_module_version": "1.5.0",
            "_model_name": "HTMLModel",
            "_view_count": null,
            "_view_module": "@jupyter-widgets/controls",
            "_view_module_version": "1.5.0",
            "_view_name": "HTMLView",
            "description": "",
            "description_tooltip": null,
            "layout": "IPY_MODEL_70ade69e528c4a11b063a4f03fe89393",
            "placeholder": "​",
            "style": "IPY_MODEL_6c2fb3b652bc4e2e85ce94d86deec463",
            "value": "tokenizer_config.json: 100%"
          }
        },
        "f782d19aaa7a423487a3d16f7ba7fe20": {
          "model_module": "@jupyter-widgets/controls",
          "model_name": "FloatProgressModel",
          "model_module_version": "1.5.0",
          "state": {
            "_dom_classes": [],
            "_model_module": "@jupyter-widgets/controls",
            "_model_module_version": "1.5.0",
            "_model_name": "FloatProgressModel",
            "_view_count": null,
            "_view_module": "@jupyter-widgets/controls",
            "_view_module_version": "1.5.0",
            "_view_name": "ProgressView",
            "bar_style": "success",
            "description": "",
            "description_tooltip": null,
            "layout": "IPY_MODEL_88155772b51f42abb4bb3e1806ea04ec",
            "max": 25,
            "min": 0,
            "orientation": "horizontal",
            "style": "IPY_MODEL_e91de8c82f9b4177b2ba3b126a50ef59",
            "value": 25
          }
        },
        "4b8d6122be8a45578164a2f7124a6a4c": {
          "model_module": "@jupyter-widgets/controls",
          "model_name": "HTMLModel",
          "model_module_version": "1.5.0",
          "state": {
            "_dom_classes": [],
            "_model_module": "@jupyter-widgets/controls",
            "_model_module_version": "1.5.0",
            "_model_name": "HTMLModel",
            "_view_count": null,
            "_view_module": "@jupyter-widgets/controls",
            "_view_module_version": "1.5.0",
            "_view_name": "HTMLView",
            "description": "",
            "description_tooltip": null,
            "layout": "IPY_MODEL_90890011eed44be2987695c8a56a38fb",
            "placeholder": "​",
            "style": "IPY_MODEL_bb2d1a8cb5d84c0c9bcad339884824ad",
            "value": " 25.0/25.0 [00:00&lt;00:00, 428B/s]"
          }
        },
        "a7104629d24347d2a2678cbe442bb94c": {
          "model_module": "@jupyter-widgets/base",
          "model_name": "LayoutModel",
          "model_module_version": "1.2.0",
          "state": {
            "_model_module": "@jupyter-widgets/base",
            "_model_module_version": "1.2.0",
            "_model_name": "LayoutModel",
            "_view_count": null,
            "_view_module": "@jupyter-widgets/base",
            "_view_module_version": "1.2.0",
            "_view_name": "LayoutView",
            "align_content": null,
            "align_items": null,
            "align_self": null,
            "border": null,
            "bottom": null,
            "display": null,
            "flex": null,
            "flex_flow": null,
            "grid_area": null,
            "grid_auto_columns": null,
            "grid_auto_flow": null,
            "grid_auto_rows": null,
            "grid_column": null,
            "grid_gap": null,
            "grid_row": null,
            "grid_template_areas": null,
            "grid_template_columns": null,
            "grid_template_rows": null,
            "height": null,
            "justify_content": null,
            "justify_items": null,
            "left": null,
            "margin": null,
            "max_height": null,
            "max_width": null,
            "min_height": null,
            "min_width": null,
            "object_fit": null,
            "object_position": null,
            "order": null,
            "overflow": null,
            "overflow_x": null,
            "overflow_y": null,
            "padding": null,
            "right": null,
            "top": null,
            "visibility": null,
            "width": null
          }
        },
        "70ade69e528c4a11b063a4f03fe89393": {
          "model_module": "@jupyter-widgets/base",
          "model_name": "LayoutModel",
          "model_module_version": "1.2.0",
          "state": {
            "_model_module": "@jupyter-widgets/base",
            "_model_module_version": "1.2.0",
            "_model_name": "LayoutModel",
            "_view_count": null,
            "_view_module": "@jupyter-widgets/base",
            "_view_module_version": "1.2.0",
            "_view_name": "LayoutView",
            "align_content": null,
            "align_items": null,
            "align_self": null,
            "border": null,
            "bottom": null,
            "display": null,
            "flex": null,
            "flex_flow": null,
            "grid_area": null,
            "grid_auto_columns": null,
            "grid_auto_flow": null,
            "grid_auto_rows": null,
            "grid_column": null,
            "grid_gap": null,
            "grid_row": null,
            "grid_template_areas": null,
            "grid_template_columns": null,
            "grid_template_rows": null,
            "height": null,
            "justify_content": null,
            "justify_items": null,
            "left": null,
            "margin": null,
            "max_height": null,
            "max_width": null,
            "min_height": null,
            "min_width": null,
            "object_fit": null,
            "object_position": null,
            "order": null,
            "overflow": null,
            "overflow_x": null,
            "overflow_y": null,
            "padding": null,
            "right": null,
            "top": null,
            "visibility": null,
            "width": null
          }
        },
        "6c2fb3b652bc4e2e85ce94d86deec463": {
          "model_module": "@jupyter-widgets/controls",
          "model_name": "DescriptionStyleModel",
          "model_module_version": "1.5.0",
          "state": {
            "_model_module": "@jupyter-widgets/controls",
            "_model_module_version": "1.5.0",
            "_model_name": "DescriptionStyleModel",
            "_view_count": null,
            "_view_module": "@jupyter-widgets/base",
            "_view_module_version": "1.2.0",
            "_view_name": "StyleView",
            "description_width": ""
          }
        },
        "88155772b51f42abb4bb3e1806ea04ec": {
          "model_module": "@jupyter-widgets/base",
          "model_name": "LayoutModel",
          "model_module_version": "1.2.0",
          "state": {
            "_model_module": "@jupyter-widgets/base",
            "_model_module_version": "1.2.0",
            "_model_name": "LayoutModel",
            "_view_count": null,
            "_view_module": "@jupyter-widgets/base",
            "_view_module_version": "1.2.0",
            "_view_name": "LayoutView",
            "align_content": null,
            "align_items": null,
            "align_self": null,
            "border": null,
            "bottom": null,
            "display": null,
            "flex": null,
            "flex_flow": null,
            "grid_area": null,
            "grid_auto_columns": null,
            "grid_auto_flow": null,
            "grid_auto_rows": null,
            "grid_column": null,
            "grid_gap": null,
            "grid_row": null,
            "grid_template_areas": null,
            "grid_template_columns": null,
            "grid_template_rows": null,
            "height": null,
            "justify_content": null,
            "justify_items": null,
            "left": null,
            "margin": null,
            "max_height": null,
            "max_width": null,
            "min_height": null,
            "min_width": null,
            "object_fit": null,
            "object_position": null,
            "order": null,
            "overflow": null,
            "overflow_x": null,
            "overflow_y": null,
            "padding": null,
            "right": null,
            "top": null,
            "visibility": null,
            "width": null
          }
        },
        "e91de8c82f9b4177b2ba3b126a50ef59": {
          "model_module": "@jupyter-widgets/controls",
          "model_name": "ProgressStyleModel",
          "model_module_version": "1.5.0",
          "state": {
            "_model_module": "@jupyter-widgets/controls",
            "_model_module_version": "1.5.0",
            "_model_name": "ProgressStyleModel",
            "_view_count": null,
            "_view_module": "@jupyter-widgets/base",
            "_view_module_version": "1.2.0",
            "_view_name": "StyleView",
            "bar_color": null,
            "description_width": ""
          }
        },
        "90890011eed44be2987695c8a56a38fb": {
          "model_module": "@jupyter-widgets/base",
          "model_name": "LayoutModel",
          "model_module_version": "1.2.0",
          "state": {
            "_model_module": "@jupyter-widgets/base",
            "_model_module_version": "1.2.0",
            "_model_name": "LayoutModel",
            "_view_count": null,
            "_view_module": "@jupyter-widgets/base",
            "_view_module_version": "1.2.0",
            "_view_name": "LayoutView",
            "align_content": null,
            "align_items": null,
            "align_self": null,
            "border": null,
            "bottom": null,
            "display": null,
            "flex": null,
            "flex_flow": null,
            "grid_area": null,
            "grid_auto_columns": null,
            "grid_auto_flow": null,
            "grid_auto_rows": null,
            "grid_column": null,
            "grid_gap": null,
            "grid_row": null,
            "grid_template_areas": null,
            "grid_template_columns": null,
            "grid_template_rows": null,
            "height": null,
            "justify_content": null,
            "justify_items": null,
            "left": null,
            "margin": null,
            "max_height": null,
            "max_width": null,
            "min_height": null,
            "min_width": null,
            "object_fit": null,
            "object_position": null,
            "order": null,
            "overflow": null,
            "overflow_x": null,
            "overflow_y": null,
            "padding": null,
            "right": null,
            "top": null,
            "visibility": null,
            "width": null
          }
        },
        "bb2d1a8cb5d84c0c9bcad339884824ad": {
          "model_module": "@jupyter-widgets/controls",
          "model_name": "DescriptionStyleModel",
          "model_module_version": "1.5.0",
          "state": {
            "_model_module": "@jupyter-widgets/controls",
            "_model_module_version": "1.5.0",
            "_model_name": "DescriptionStyleModel",
            "_view_count": null,
            "_view_module": "@jupyter-widgets/base",
            "_view_module_version": "1.2.0",
            "_view_name": "StyleView",
            "description_width": ""
          }
        },
        "4bf85cc3f1094ba9a6abf6a05e665e38": {
          "model_module": "@jupyter-widgets/controls",
          "model_name": "HBoxModel",
          "model_module_version": "1.5.0",
          "state": {
            "_dom_classes": [],
            "_model_module": "@jupyter-widgets/controls",
            "_model_module_version": "1.5.0",
            "_model_name": "HBoxModel",
            "_view_count": null,
            "_view_module": "@jupyter-widgets/controls",
            "_view_module_version": "1.5.0",
            "_view_name": "HBoxView",
            "box_style": "",
            "children": [
              "IPY_MODEL_3c1ceadaadcb42aeb35416dece2d1cca",
              "IPY_MODEL_6ccbb17d220e4ffba362a671927bd690",
              "IPY_MODEL_3c36630464844399ba571795e8691ca2"
            ],
            "layout": "IPY_MODEL_c92b332cd420494aa16a202d100b4260"
          }
        },
        "3c1ceadaadcb42aeb35416dece2d1cca": {
          "model_module": "@jupyter-widgets/controls",
          "model_name": "HTMLModel",
          "model_module_version": "1.5.0",
          "state": {
            "_dom_classes": [],
            "_model_module": "@jupyter-widgets/controls",
            "_model_module_version": "1.5.0",
            "_model_name": "HTMLModel",
            "_view_count": null,
            "_view_module": "@jupyter-widgets/controls",
            "_view_module_version": "1.5.0",
            "_view_name": "HTMLView",
            "description": "",
            "description_tooltip": null,
            "layout": "IPY_MODEL_69a0428a66bd4b2c87cb3ec6bf0fbde4",
            "placeholder": "​",
            "style": "IPY_MODEL_2409c9d986624a5e876eba6f325bf70a",
            "value": "config.json: 100%"
          }
        },
        "6ccbb17d220e4ffba362a671927bd690": {
          "model_module": "@jupyter-widgets/controls",
          "model_name": "FloatProgressModel",
          "model_module_version": "1.5.0",
          "state": {
            "_dom_classes": [],
            "_model_module": "@jupyter-widgets/controls",
            "_model_module_version": "1.5.0",
            "_model_name": "FloatProgressModel",
            "_view_count": null,
            "_view_module": "@jupyter-widgets/controls",
            "_view_module_version": "1.5.0",
            "_view_name": "ProgressView",
            "bar_style": "success",
            "description": "",
            "description_tooltip": null,
            "layout": "IPY_MODEL_642b327ffa1444a9b99bf1750fa9583b",
            "max": 481,
            "min": 0,
            "orientation": "horizontal",
            "style": "IPY_MODEL_8a330039d0db45cdbad4e18305d23a7f",
            "value": 481
          }
        },
        "3c36630464844399ba571795e8691ca2": {
          "model_module": "@jupyter-widgets/controls",
          "model_name": "HTMLModel",
          "model_module_version": "1.5.0",
          "state": {
            "_dom_classes": [],
            "_model_module": "@jupyter-widgets/controls",
            "_model_module_version": "1.5.0",
            "_model_name": "HTMLModel",
            "_view_count": null,
            "_view_module": "@jupyter-widgets/controls",
            "_view_module_version": "1.5.0",
            "_view_name": "HTMLView",
            "description": "",
            "description_tooltip": null,
            "layout": "IPY_MODEL_5dbde7b2287c4cff83023e6a1a4216a7",
            "placeholder": "​",
            "style": "IPY_MODEL_52b79890c71343a3bae17521f76e31aa",
            "value": " 481/481 [00:00&lt;00:00, 8.46kB/s]"
          }
        },
        "c92b332cd420494aa16a202d100b4260": {
          "model_module": "@jupyter-widgets/base",
          "model_name": "LayoutModel",
          "model_module_version": "1.2.0",
          "state": {
            "_model_module": "@jupyter-widgets/base",
            "_model_module_version": "1.2.0",
            "_model_name": "LayoutModel",
            "_view_count": null,
            "_view_module": "@jupyter-widgets/base",
            "_view_module_version": "1.2.0",
            "_view_name": "LayoutView",
            "align_content": null,
            "align_items": null,
            "align_self": null,
            "border": null,
            "bottom": null,
            "display": null,
            "flex": null,
            "flex_flow": null,
            "grid_area": null,
            "grid_auto_columns": null,
            "grid_auto_flow": null,
            "grid_auto_rows": null,
            "grid_column": null,
            "grid_gap": null,
            "grid_row": null,
            "grid_template_areas": null,
            "grid_template_columns": null,
            "grid_template_rows": null,
            "height": null,
            "justify_content": null,
            "justify_items": null,
            "left": null,
            "margin": null,
            "max_height": null,
            "max_width": null,
            "min_height": null,
            "min_width": null,
            "object_fit": null,
            "object_position": null,
            "order": null,
            "overflow": null,
            "overflow_x": null,
            "overflow_y": null,
            "padding": null,
            "right": null,
            "top": null,
            "visibility": null,
            "width": null
          }
        },
        "69a0428a66bd4b2c87cb3ec6bf0fbde4": {
          "model_module": "@jupyter-widgets/base",
          "model_name": "LayoutModel",
          "model_module_version": "1.2.0",
          "state": {
            "_model_module": "@jupyter-widgets/base",
            "_model_module_version": "1.2.0",
            "_model_name": "LayoutModel",
            "_view_count": null,
            "_view_module": "@jupyter-widgets/base",
            "_view_module_version": "1.2.0",
            "_view_name": "LayoutView",
            "align_content": null,
            "align_items": null,
            "align_self": null,
            "border": null,
            "bottom": null,
            "display": null,
            "flex": null,
            "flex_flow": null,
            "grid_area": null,
            "grid_auto_columns": null,
            "grid_auto_flow": null,
            "grid_auto_rows": null,
            "grid_column": null,
            "grid_gap": null,
            "grid_row": null,
            "grid_template_areas": null,
            "grid_template_columns": null,
            "grid_template_rows": null,
            "height": null,
            "justify_content": null,
            "justify_items": null,
            "left": null,
            "margin": null,
            "max_height": null,
            "max_width": null,
            "min_height": null,
            "min_width": null,
            "object_fit": null,
            "object_position": null,
            "order": null,
            "overflow": null,
            "overflow_x": null,
            "overflow_y": null,
            "padding": null,
            "right": null,
            "top": null,
            "visibility": null,
            "width": null
          }
        },
        "2409c9d986624a5e876eba6f325bf70a": {
          "model_module": "@jupyter-widgets/controls",
          "model_name": "DescriptionStyleModel",
          "model_module_version": "1.5.0",
          "state": {
            "_model_module": "@jupyter-widgets/controls",
            "_model_module_version": "1.5.0",
            "_model_name": "DescriptionStyleModel",
            "_view_count": null,
            "_view_module": "@jupyter-widgets/base",
            "_view_module_version": "1.2.0",
            "_view_name": "StyleView",
            "description_width": ""
          }
        },
        "642b327ffa1444a9b99bf1750fa9583b": {
          "model_module": "@jupyter-widgets/base",
          "model_name": "LayoutModel",
          "model_module_version": "1.2.0",
          "state": {
            "_model_module": "@jupyter-widgets/base",
            "_model_module_version": "1.2.0",
            "_model_name": "LayoutModel",
            "_view_count": null,
            "_view_module": "@jupyter-widgets/base",
            "_view_module_version": "1.2.0",
            "_view_name": "LayoutView",
            "align_content": null,
            "align_items": null,
            "align_self": null,
            "border": null,
            "bottom": null,
            "display": null,
            "flex": null,
            "flex_flow": null,
            "grid_area": null,
            "grid_auto_columns": null,
            "grid_auto_flow": null,
            "grid_auto_rows": null,
            "grid_column": null,
            "grid_gap": null,
            "grid_row": null,
            "grid_template_areas": null,
            "grid_template_columns": null,
            "grid_template_rows": null,
            "height": null,
            "justify_content": null,
            "justify_items": null,
            "left": null,
            "margin": null,
            "max_height": null,
            "max_width": null,
            "min_height": null,
            "min_width": null,
            "object_fit": null,
            "object_position": null,
            "order": null,
            "overflow": null,
            "overflow_x": null,
            "overflow_y": null,
            "padding": null,
            "right": null,
            "top": null,
            "visibility": null,
            "width": null
          }
        },
        "8a330039d0db45cdbad4e18305d23a7f": {
          "model_module": "@jupyter-widgets/controls",
          "model_name": "ProgressStyleModel",
          "model_module_version": "1.5.0",
          "state": {
            "_model_module": "@jupyter-widgets/controls",
            "_model_module_version": "1.5.0",
            "_model_name": "ProgressStyleModel",
            "_view_count": null,
            "_view_module": "@jupyter-widgets/base",
            "_view_module_version": "1.2.0",
            "_view_name": "StyleView",
            "bar_color": null,
            "description_width": ""
          }
        },
        "5dbde7b2287c4cff83023e6a1a4216a7": {
          "model_module": "@jupyter-widgets/base",
          "model_name": "LayoutModel",
          "model_module_version": "1.2.0",
          "state": {
            "_model_module": "@jupyter-widgets/base",
            "_model_module_version": "1.2.0",
            "_model_name": "LayoutModel",
            "_view_count": null,
            "_view_module": "@jupyter-widgets/base",
            "_view_module_version": "1.2.0",
            "_view_name": "LayoutView",
            "align_content": null,
            "align_items": null,
            "align_self": null,
            "border": null,
            "bottom": null,
            "display": null,
            "flex": null,
            "flex_flow": null,
            "grid_area": null,
            "grid_auto_columns": null,
            "grid_auto_flow": null,
            "grid_auto_rows": null,
            "grid_column": null,
            "grid_gap": null,
            "grid_row": null,
            "grid_template_areas": null,
            "grid_template_columns": null,
            "grid_template_rows": null,
            "height": null,
            "justify_content": null,
            "justify_items": null,
            "left": null,
            "margin": null,
            "max_height": null,
            "max_width": null,
            "min_height": null,
            "min_width": null,
            "object_fit": null,
            "object_position": null,
            "order": null,
            "overflow": null,
            "overflow_x": null,
            "overflow_y": null,
            "padding": null,
            "right": null,
            "top": null,
            "visibility": null,
            "width": null
          }
        },
        "52b79890c71343a3bae17521f76e31aa": {
          "model_module": "@jupyter-widgets/controls",
          "model_name": "DescriptionStyleModel",
          "model_module_version": "1.5.0",
          "state": {
            "_model_module": "@jupyter-widgets/controls",
            "_model_module_version": "1.5.0",
            "_model_name": "DescriptionStyleModel",
            "_view_count": null,
            "_view_module": "@jupyter-widgets/base",
            "_view_module_version": "1.2.0",
            "_view_name": "StyleView",
            "description_width": ""
          }
        },
        "2917d55207974523aaf00a96aaa3aaeb": {
          "model_module": "@jupyter-widgets/controls",
          "model_name": "HBoxModel",
          "model_module_version": "1.5.0",
          "state": {
            "_dom_classes": [],
            "_model_module": "@jupyter-widgets/controls",
            "_model_module_version": "1.5.0",
            "_model_name": "HBoxModel",
            "_view_count": null,
            "_view_module": "@jupyter-widgets/controls",
            "_view_module_version": "1.5.0",
            "_view_name": "HBoxView",
            "box_style": "",
            "children": [
              "IPY_MODEL_409fdeb5e23848dcba2ee72bb88f5323",
              "IPY_MODEL_e56ad86a942b4b5baf34bed7079e2141",
              "IPY_MODEL_880e765214184c9390b79f4c47179d1f"
            ],
            "layout": "IPY_MODEL_fb9a21854ebb4e78a28360517a647a6d"
          }
        },
        "409fdeb5e23848dcba2ee72bb88f5323": {
          "model_module": "@jupyter-widgets/controls",
          "model_name": "HTMLModel",
          "model_module_version": "1.5.0",
          "state": {
            "_dom_classes": [],
            "_model_module": "@jupyter-widgets/controls",
            "_model_module_version": "1.5.0",
            "_model_name": "HTMLModel",
            "_view_count": null,
            "_view_module": "@jupyter-widgets/controls",
            "_view_module_version": "1.5.0",
            "_view_name": "HTMLView",
            "description": "",
            "description_tooltip": null,
            "layout": "IPY_MODEL_9228a57d043b4169884dc661ba7ce9e2",
            "placeholder": "​",
            "style": "IPY_MODEL_05dd31f1cb7a4388ba1b37e2aaa41234",
            "value": "vocab.json: 100%"
          }
        },
        "e56ad86a942b4b5baf34bed7079e2141": {
          "model_module": "@jupyter-widgets/controls",
          "model_name": "FloatProgressModel",
          "model_module_version": "1.5.0",
          "state": {
            "_dom_classes": [],
            "_model_module": "@jupyter-widgets/controls",
            "_model_module_version": "1.5.0",
            "_model_name": "FloatProgressModel",
            "_view_count": null,
            "_view_module": "@jupyter-widgets/controls",
            "_view_module_version": "1.5.0",
            "_view_name": "ProgressView",
            "bar_style": "success",
            "description": "",
            "description_tooltip": null,
            "layout": "IPY_MODEL_06daffc4739a478c9730ae80cf68cc82",
            "max": 898823,
            "min": 0,
            "orientation": "horizontal",
            "style": "IPY_MODEL_9d81b8a4417d4d17a7e77b4f626dfabc",
            "value": 898823
          }
        },
        "880e765214184c9390b79f4c47179d1f": {
          "model_module": "@jupyter-widgets/controls",
          "model_name": "HTMLModel",
          "model_module_version": "1.5.0",
          "state": {
            "_dom_classes": [],
            "_model_module": "@jupyter-widgets/controls",
            "_model_module_version": "1.5.0",
            "_model_name": "HTMLModel",
            "_view_count": null,
            "_view_module": "@jupyter-widgets/controls",
            "_view_module_version": "1.5.0",
            "_view_name": "HTMLView",
            "description": "",
            "description_tooltip": null,
            "layout": "IPY_MODEL_65510fe8252f411aa487c53aecf9ecd2",
            "placeholder": "​",
            "style": "IPY_MODEL_b2e04d0f9970446eac53e1345de3b505",
            "value": " 899k/899k [00:00&lt;00:00, 4.51MB/s]"
          }
        },
        "fb9a21854ebb4e78a28360517a647a6d": {
          "model_module": "@jupyter-widgets/base",
          "model_name": "LayoutModel",
          "model_module_version": "1.2.0",
          "state": {
            "_model_module": "@jupyter-widgets/base",
            "_model_module_version": "1.2.0",
            "_model_name": "LayoutModel",
            "_view_count": null,
            "_view_module": "@jupyter-widgets/base",
            "_view_module_version": "1.2.0",
            "_view_name": "LayoutView",
            "align_content": null,
            "align_items": null,
            "align_self": null,
            "border": null,
            "bottom": null,
            "display": null,
            "flex": null,
            "flex_flow": null,
            "grid_area": null,
            "grid_auto_columns": null,
            "grid_auto_flow": null,
            "grid_auto_rows": null,
            "grid_column": null,
            "grid_gap": null,
            "grid_row": null,
            "grid_template_areas": null,
            "grid_template_columns": null,
            "grid_template_rows": null,
            "height": null,
            "justify_content": null,
            "justify_items": null,
            "left": null,
            "margin": null,
            "max_height": null,
            "max_width": null,
            "min_height": null,
            "min_width": null,
            "object_fit": null,
            "object_position": null,
            "order": null,
            "overflow": null,
            "overflow_x": null,
            "overflow_y": null,
            "padding": null,
            "right": null,
            "top": null,
            "visibility": null,
            "width": null
          }
        },
        "9228a57d043b4169884dc661ba7ce9e2": {
          "model_module": "@jupyter-widgets/base",
          "model_name": "LayoutModel",
          "model_module_version": "1.2.0",
          "state": {
            "_model_module": "@jupyter-widgets/base",
            "_model_module_version": "1.2.0",
            "_model_name": "LayoutModel",
            "_view_count": null,
            "_view_module": "@jupyter-widgets/base",
            "_view_module_version": "1.2.0",
            "_view_name": "LayoutView",
            "align_content": null,
            "align_items": null,
            "align_self": null,
            "border": null,
            "bottom": null,
            "display": null,
            "flex": null,
            "flex_flow": null,
            "grid_area": null,
            "grid_auto_columns": null,
            "grid_auto_flow": null,
            "grid_auto_rows": null,
            "grid_column": null,
            "grid_gap": null,
            "grid_row": null,
            "grid_template_areas": null,
            "grid_template_columns": null,
            "grid_template_rows": null,
            "height": null,
            "justify_content": null,
            "justify_items": null,
            "left": null,
            "margin": null,
            "max_height": null,
            "max_width": null,
            "min_height": null,
            "min_width": null,
            "object_fit": null,
            "object_position": null,
            "order": null,
            "overflow": null,
            "overflow_x": null,
            "overflow_y": null,
            "padding": null,
            "right": null,
            "top": null,
            "visibility": null,
            "width": null
          }
        },
        "05dd31f1cb7a4388ba1b37e2aaa41234": {
          "model_module": "@jupyter-widgets/controls",
          "model_name": "DescriptionStyleModel",
          "model_module_version": "1.5.0",
          "state": {
            "_model_module": "@jupyter-widgets/controls",
            "_model_module_version": "1.5.0",
            "_model_name": "DescriptionStyleModel",
            "_view_count": null,
            "_view_module": "@jupyter-widgets/base",
            "_view_module_version": "1.2.0",
            "_view_name": "StyleView",
            "description_width": ""
          }
        },
        "06daffc4739a478c9730ae80cf68cc82": {
          "model_module": "@jupyter-widgets/base",
          "model_name": "LayoutModel",
          "model_module_version": "1.2.0",
          "state": {
            "_model_module": "@jupyter-widgets/base",
            "_model_module_version": "1.2.0",
            "_model_name": "LayoutModel",
            "_view_count": null,
            "_view_module": "@jupyter-widgets/base",
            "_view_module_version": "1.2.0",
            "_view_name": "LayoutView",
            "align_content": null,
            "align_items": null,
            "align_self": null,
            "border": null,
            "bottom": null,
            "display": null,
            "flex": null,
            "flex_flow": null,
            "grid_area": null,
            "grid_auto_columns": null,
            "grid_auto_flow": null,
            "grid_auto_rows": null,
            "grid_column": null,
            "grid_gap": null,
            "grid_row": null,
            "grid_template_areas": null,
            "grid_template_columns": null,
            "grid_template_rows": null,
            "height": null,
            "justify_content": null,
            "justify_items": null,
            "left": null,
            "margin": null,
            "max_height": null,
            "max_width": null,
            "min_height": null,
            "min_width": null,
            "object_fit": null,
            "object_position": null,
            "order": null,
            "overflow": null,
            "overflow_x": null,
            "overflow_y": null,
            "padding": null,
            "right": null,
            "top": null,
            "visibility": null,
            "width": null
          }
        },
        "9d81b8a4417d4d17a7e77b4f626dfabc": {
          "model_module": "@jupyter-widgets/controls",
          "model_name": "ProgressStyleModel",
          "model_module_version": "1.5.0",
          "state": {
            "_model_module": "@jupyter-widgets/controls",
            "_model_module_version": "1.5.0",
            "_model_name": "ProgressStyleModel",
            "_view_count": null,
            "_view_module": "@jupyter-widgets/base",
            "_view_module_version": "1.2.0",
            "_view_name": "StyleView",
            "bar_color": null,
            "description_width": ""
          }
        },
        "65510fe8252f411aa487c53aecf9ecd2": {
          "model_module": "@jupyter-widgets/base",
          "model_name": "LayoutModel",
          "model_module_version": "1.2.0",
          "state": {
            "_model_module": "@jupyter-widgets/base",
            "_model_module_version": "1.2.0",
            "_model_name": "LayoutModel",
            "_view_count": null,
            "_view_module": "@jupyter-widgets/base",
            "_view_module_version": "1.2.0",
            "_view_name": "LayoutView",
            "align_content": null,
            "align_items": null,
            "align_self": null,
            "border": null,
            "bottom": null,
            "display": null,
            "flex": null,
            "flex_flow": null,
            "grid_area": null,
            "grid_auto_columns": null,
            "grid_auto_flow": null,
            "grid_auto_rows": null,
            "grid_column": null,
            "grid_gap": null,
            "grid_row": null,
            "grid_template_areas": null,
            "grid_template_columns": null,
            "grid_template_rows": null,
            "height": null,
            "justify_content": null,
            "justify_items": null,
            "left": null,
            "margin": null,
            "max_height": null,
            "max_width": null,
            "min_height": null,
            "min_width": null,
            "object_fit": null,
            "object_position": null,
            "order": null,
            "overflow": null,
            "overflow_x": null,
            "overflow_y": null,
            "padding": null,
            "right": null,
            "top": null,
            "visibility": null,
            "width": null
          }
        },
        "b2e04d0f9970446eac53e1345de3b505": {
          "model_module": "@jupyter-widgets/controls",
          "model_name": "DescriptionStyleModel",
          "model_module_version": "1.5.0",
          "state": {
            "_model_module": "@jupyter-widgets/controls",
            "_model_module_version": "1.5.0",
            "_model_name": "DescriptionStyleModel",
            "_view_count": null,
            "_view_module": "@jupyter-widgets/base",
            "_view_module_version": "1.2.0",
            "_view_name": "StyleView",
            "description_width": ""
          }
        },
        "b7824400cc124413bb8000ca6ca869f0": {
          "model_module": "@jupyter-widgets/controls",
          "model_name": "HBoxModel",
          "model_module_version": "1.5.0",
          "state": {
            "_dom_classes": [],
            "_model_module": "@jupyter-widgets/controls",
            "_model_module_version": "1.5.0",
            "_model_name": "HBoxModel",
            "_view_count": null,
            "_view_module": "@jupyter-widgets/controls",
            "_view_module_version": "1.5.0",
            "_view_name": "HBoxView",
            "box_style": "",
            "children": [
              "IPY_MODEL_2705a4cc5baa45e7bf7bd5cd5132f468",
              "IPY_MODEL_6ed58eec53d24c0a9fda053d33cd0f22",
              "IPY_MODEL_aac261052c81447aa35809644cf7a2fc"
            ],
            "layout": "IPY_MODEL_82e5da46526940bea0377debfd61e39e"
          }
        },
        "2705a4cc5baa45e7bf7bd5cd5132f468": {
          "model_module": "@jupyter-widgets/controls",
          "model_name": "HTMLModel",
          "model_module_version": "1.5.0",
          "state": {
            "_dom_classes": [],
            "_model_module": "@jupyter-widgets/controls",
            "_model_module_version": "1.5.0",
            "_model_name": "HTMLModel",
            "_view_count": null,
            "_view_module": "@jupyter-widgets/controls",
            "_view_module_version": "1.5.0",
            "_view_name": "HTMLView",
            "description": "",
            "description_tooltip": null,
            "layout": "IPY_MODEL_a100013f605245cc82d8b6e5bc099dfa",
            "placeholder": "​",
            "style": "IPY_MODEL_3705b33cd37143448c14a2f9ea3f4369",
            "value": "merges.txt: 100%"
          }
        },
        "6ed58eec53d24c0a9fda053d33cd0f22": {
          "model_module": "@jupyter-widgets/controls",
          "model_name": "FloatProgressModel",
          "model_module_version": "1.5.0",
          "state": {
            "_dom_classes": [],
            "_model_module": "@jupyter-widgets/controls",
            "_model_module_version": "1.5.0",
            "_model_name": "FloatProgressModel",
            "_view_count": null,
            "_view_module": "@jupyter-widgets/controls",
            "_view_module_version": "1.5.0",
            "_view_name": "ProgressView",
            "bar_style": "success",
            "description": "",
            "description_tooltip": null,
            "layout": "IPY_MODEL_b5b6905008ff44c0a4883bfc926f1e7c",
            "max": 456318,
            "min": 0,
            "orientation": "horizontal",
            "style": "IPY_MODEL_c083b11ccd5648e487c1537a039351f8",
            "value": 456318
          }
        },
        "aac261052c81447aa35809644cf7a2fc": {
          "model_module": "@jupyter-widgets/controls",
          "model_name": "HTMLModel",
          "model_module_version": "1.5.0",
          "state": {
            "_dom_classes": [],
            "_model_module": "@jupyter-widgets/controls",
            "_model_module_version": "1.5.0",
            "_model_name": "HTMLModel",
            "_view_count": null,
            "_view_module": "@jupyter-widgets/controls",
            "_view_module_version": "1.5.0",
            "_view_name": "HTMLView",
            "description": "",
            "description_tooltip": null,
            "layout": "IPY_MODEL_043fcb8ae2e64456bfaf9e8f2b7c2329",
            "placeholder": "​",
            "style": "IPY_MODEL_20c9a49c5a3442689c6e01318ed95504",
            "value": " 456k/456k [00:00&lt;00:00, 7.70MB/s]"
          }
        },
        "82e5da46526940bea0377debfd61e39e": {
          "model_module": "@jupyter-widgets/base",
          "model_name": "LayoutModel",
          "model_module_version": "1.2.0",
          "state": {
            "_model_module": "@jupyter-widgets/base",
            "_model_module_version": "1.2.0",
            "_model_name": "LayoutModel",
            "_view_count": null,
            "_view_module": "@jupyter-widgets/base",
            "_view_module_version": "1.2.0",
            "_view_name": "LayoutView",
            "align_content": null,
            "align_items": null,
            "align_self": null,
            "border": null,
            "bottom": null,
            "display": null,
            "flex": null,
            "flex_flow": null,
            "grid_area": null,
            "grid_auto_columns": null,
            "grid_auto_flow": null,
            "grid_auto_rows": null,
            "grid_column": null,
            "grid_gap": null,
            "grid_row": null,
            "grid_template_areas": null,
            "grid_template_columns": null,
            "grid_template_rows": null,
            "height": null,
            "justify_content": null,
            "justify_items": null,
            "left": null,
            "margin": null,
            "max_height": null,
            "max_width": null,
            "min_height": null,
            "min_width": null,
            "object_fit": null,
            "object_position": null,
            "order": null,
            "overflow": null,
            "overflow_x": null,
            "overflow_y": null,
            "padding": null,
            "right": null,
            "top": null,
            "visibility": null,
            "width": null
          }
        },
        "a100013f605245cc82d8b6e5bc099dfa": {
          "model_module": "@jupyter-widgets/base",
          "model_name": "LayoutModel",
          "model_module_version": "1.2.0",
          "state": {
            "_model_module": "@jupyter-widgets/base",
            "_model_module_version": "1.2.0",
            "_model_name": "LayoutModel",
            "_view_count": null,
            "_view_module": "@jupyter-widgets/base",
            "_view_module_version": "1.2.0",
            "_view_name": "LayoutView",
            "align_content": null,
            "align_items": null,
            "align_self": null,
            "border": null,
            "bottom": null,
            "display": null,
            "flex": null,
            "flex_flow": null,
            "grid_area": null,
            "grid_auto_columns": null,
            "grid_auto_flow": null,
            "grid_auto_rows": null,
            "grid_column": null,
            "grid_gap": null,
            "grid_row": null,
            "grid_template_areas": null,
            "grid_template_columns": null,
            "grid_template_rows": null,
            "height": null,
            "justify_content": null,
            "justify_items": null,
            "left": null,
            "margin": null,
            "max_height": null,
            "max_width": null,
            "min_height": null,
            "min_width": null,
            "object_fit": null,
            "object_position": null,
            "order": null,
            "overflow": null,
            "overflow_x": null,
            "overflow_y": null,
            "padding": null,
            "right": null,
            "top": null,
            "visibility": null,
            "width": null
          }
        },
        "3705b33cd37143448c14a2f9ea3f4369": {
          "model_module": "@jupyter-widgets/controls",
          "model_name": "DescriptionStyleModel",
          "model_module_version": "1.5.0",
          "state": {
            "_model_module": "@jupyter-widgets/controls",
            "_model_module_version": "1.5.0",
            "_model_name": "DescriptionStyleModel",
            "_view_count": null,
            "_view_module": "@jupyter-widgets/base",
            "_view_module_version": "1.2.0",
            "_view_name": "StyleView",
            "description_width": ""
          }
        },
        "b5b6905008ff44c0a4883bfc926f1e7c": {
          "model_module": "@jupyter-widgets/base",
          "model_name": "LayoutModel",
          "model_module_version": "1.2.0",
          "state": {
            "_model_module": "@jupyter-widgets/base",
            "_model_module_version": "1.2.0",
            "_model_name": "LayoutModel",
            "_view_count": null,
            "_view_module": "@jupyter-widgets/base",
            "_view_module_version": "1.2.0",
            "_view_name": "LayoutView",
            "align_content": null,
            "align_items": null,
            "align_self": null,
            "border": null,
            "bottom": null,
            "display": null,
            "flex": null,
            "flex_flow": null,
            "grid_area": null,
            "grid_auto_columns": null,
            "grid_auto_flow": null,
            "grid_auto_rows": null,
            "grid_column": null,
            "grid_gap": null,
            "grid_row": null,
            "grid_template_areas": null,
            "grid_template_columns": null,
            "grid_template_rows": null,
            "height": null,
            "justify_content": null,
            "justify_items": null,
            "left": null,
            "margin": null,
            "max_height": null,
            "max_width": null,
            "min_height": null,
            "min_width": null,
            "object_fit": null,
            "object_position": null,
            "order": null,
            "overflow": null,
            "overflow_x": null,
            "overflow_y": null,
            "padding": null,
            "right": null,
            "top": null,
            "visibility": null,
            "width": null
          }
        },
        "c083b11ccd5648e487c1537a039351f8": {
          "model_module": "@jupyter-widgets/controls",
          "model_name": "ProgressStyleModel",
          "model_module_version": "1.5.0",
          "state": {
            "_model_module": "@jupyter-widgets/controls",
            "_model_module_version": "1.5.0",
            "_model_name": "ProgressStyleModel",
            "_view_count": null,
            "_view_module": "@jupyter-widgets/base",
            "_view_module_version": "1.2.0",
            "_view_name": "StyleView",
            "bar_color": null,
            "description_width": ""
          }
        },
        "043fcb8ae2e64456bfaf9e8f2b7c2329": {
          "model_module": "@jupyter-widgets/base",
          "model_name": "LayoutModel",
          "model_module_version": "1.2.0",
          "state": {
            "_model_module": "@jupyter-widgets/base",
            "_model_module_version": "1.2.0",
            "_model_name": "LayoutModel",
            "_view_count": null,
            "_view_module": "@jupyter-widgets/base",
            "_view_module_version": "1.2.0",
            "_view_name": "LayoutView",
            "align_content": null,
            "align_items": null,
            "align_self": null,
            "border": null,
            "bottom": null,
            "display": null,
            "flex": null,
            "flex_flow": null,
            "grid_area": null,
            "grid_auto_columns": null,
            "grid_auto_flow": null,
            "grid_auto_rows": null,
            "grid_column": null,
            "grid_gap": null,
            "grid_row": null,
            "grid_template_areas": null,
            "grid_template_columns": null,
            "grid_template_rows": null,
            "height": null,
            "justify_content": null,
            "justify_items": null,
            "left": null,
            "margin": null,
            "max_height": null,
            "max_width": null,
            "min_height": null,
            "min_width": null,
            "object_fit": null,
            "object_position": null,
            "order": null,
            "overflow": null,
            "overflow_x": null,
            "overflow_y": null,
            "padding": null,
            "right": null,
            "top": null,
            "visibility": null,
            "width": null
          }
        },
        "20c9a49c5a3442689c6e01318ed95504": {
          "model_module": "@jupyter-widgets/controls",
          "model_name": "DescriptionStyleModel",
          "model_module_version": "1.5.0",
          "state": {
            "_model_module": "@jupyter-widgets/controls",
            "_model_module_version": "1.5.0",
            "_model_name": "DescriptionStyleModel",
            "_view_count": null,
            "_view_module": "@jupyter-widgets/base",
            "_view_module_version": "1.2.0",
            "_view_name": "StyleView",
            "description_width": ""
          }
        },
        "57ae65ce86d646bbaaaeb9cb9e7d35fe": {
          "model_module": "@jupyter-widgets/controls",
          "model_name": "HBoxModel",
          "model_module_version": "1.5.0",
          "state": {
            "_dom_classes": [],
            "_model_module": "@jupyter-widgets/controls",
            "_model_module_version": "1.5.0",
            "_model_name": "HBoxModel",
            "_view_count": null,
            "_view_module": "@jupyter-widgets/controls",
            "_view_module_version": "1.5.0",
            "_view_name": "HBoxView",
            "box_style": "",
            "children": [
              "IPY_MODEL_4329ab7e432447d8b4254789a79d03d0",
              "IPY_MODEL_c54449c33fd0428c9d5e8382a6c23b68",
              "IPY_MODEL_77e9d1f3e4114147a2536002f2dc68ec"
            ],
            "layout": "IPY_MODEL_39caab86ff734692b8227110839902a0"
          }
        },
        "4329ab7e432447d8b4254789a79d03d0": {
          "model_module": "@jupyter-widgets/controls",
          "model_name": "HTMLModel",
          "model_module_version": "1.5.0",
          "state": {
            "_dom_classes": [],
            "_model_module": "@jupyter-widgets/controls",
            "_model_module_version": "1.5.0",
            "_model_name": "HTMLModel",
            "_view_count": null,
            "_view_module": "@jupyter-widgets/controls",
            "_view_module_version": "1.5.0",
            "_view_name": "HTMLView",
            "description": "",
            "description_tooltip": null,
            "layout": "IPY_MODEL_8704a8ed16aa4b7a97d090840f59c4a4",
            "placeholder": "​",
            "style": "IPY_MODEL_b94398d4042c465684c3ca47748d543c",
            "value": "tokenizer.json: 100%"
          }
        },
        "c54449c33fd0428c9d5e8382a6c23b68": {
          "model_module": "@jupyter-widgets/controls",
          "model_name": "FloatProgressModel",
          "model_module_version": "1.5.0",
          "state": {
            "_dom_classes": [],
            "_model_module": "@jupyter-widgets/controls",
            "_model_module_version": "1.5.0",
            "_model_name": "FloatProgressModel",
            "_view_count": null,
            "_view_module": "@jupyter-widgets/controls",
            "_view_module_version": "1.5.0",
            "_view_name": "ProgressView",
            "bar_style": "success",
            "description": "",
            "description_tooltip": null,
            "layout": "IPY_MODEL_458a088e23094ed6aa0200cf074b6659",
            "max": 1355863,
            "min": 0,
            "orientation": "horizontal",
            "style": "IPY_MODEL_4c442ea7337a4a42bc76de332affb204",
            "value": 1355863
          }
        },
        "77e9d1f3e4114147a2536002f2dc68ec": {
          "model_module": "@jupyter-widgets/controls",
          "model_name": "HTMLModel",
          "model_module_version": "1.5.0",
          "state": {
            "_dom_classes": [],
            "_model_module": "@jupyter-widgets/controls",
            "_model_module_version": "1.5.0",
            "_model_name": "HTMLModel",
            "_view_count": null,
            "_view_module": "@jupyter-widgets/controls",
            "_view_module_version": "1.5.0",
            "_view_name": "HTMLView",
            "description": "",
            "description_tooltip": null,
            "layout": "IPY_MODEL_3a6c9a365ee34faabc47ece9ec39c5cc",
            "placeholder": "​",
            "style": "IPY_MODEL_8aafdfbd09394e74885fb1bdbdd3959a",
            "value": " 1.36M/1.36M [00:00&lt;00:00, 5.22MB/s]"
          }
        },
        "39caab86ff734692b8227110839902a0": {
          "model_module": "@jupyter-widgets/base",
          "model_name": "LayoutModel",
          "model_module_version": "1.2.0",
          "state": {
            "_model_module": "@jupyter-widgets/base",
            "_model_module_version": "1.2.0",
            "_model_name": "LayoutModel",
            "_view_count": null,
            "_view_module": "@jupyter-widgets/base",
            "_view_module_version": "1.2.0",
            "_view_name": "LayoutView",
            "align_content": null,
            "align_items": null,
            "align_self": null,
            "border": null,
            "bottom": null,
            "display": null,
            "flex": null,
            "flex_flow": null,
            "grid_area": null,
            "grid_auto_columns": null,
            "grid_auto_flow": null,
            "grid_auto_rows": null,
            "grid_column": null,
            "grid_gap": null,
            "grid_row": null,
            "grid_template_areas": null,
            "grid_template_columns": null,
            "grid_template_rows": null,
            "height": null,
            "justify_content": null,
            "justify_items": null,
            "left": null,
            "margin": null,
            "max_height": null,
            "max_width": null,
            "min_height": null,
            "min_width": null,
            "object_fit": null,
            "object_position": null,
            "order": null,
            "overflow": null,
            "overflow_x": null,
            "overflow_y": null,
            "padding": null,
            "right": null,
            "top": null,
            "visibility": null,
            "width": null
          }
        },
        "8704a8ed16aa4b7a97d090840f59c4a4": {
          "model_module": "@jupyter-widgets/base",
          "model_name": "LayoutModel",
          "model_module_version": "1.2.0",
          "state": {
            "_model_module": "@jupyter-widgets/base",
            "_model_module_version": "1.2.0",
            "_model_name": "LayoutModel",
            "_view_count": null,
            "_view_module": "@jupyter-widgets/base",
            "_view_module_version": "1.2.0",
            "_view_name": "LayoutView",
            "align_content": null,
            "align_items": null,
            "align_self": null,
            "border": null,
            "bottom": null,
            "display": null,
            "flex": null,
            "flex_flow": null,
            "grid_area": null,
            "grid_auto_columns": null,
            "grid_auto_flow": null,
            "grid_auto_rows": null,
            "grid_column": null,
            "grid_gap": null,
            "grid_row": null,
            "grid_template_areas": null,
            "grid_template_columns": null,
            "grid_template_rows": null,
            "height": null,
            "justify_content": null,
            "justify_items": null,
            "left": null,
            "margin": null,
            "max_height": null,
            "max_width": null,
            "min_height": null,
            "min_width": null,
            "object_fit": null,
            "object_position": null,
            "order": null,
            "overflow": null,
            "overflow_x": null,
            "overflow_y": null,
            "padding": null,
            "right": null,
            "top": null,
            "visibility": null,
            "width": null
          }
        },
        "b94398d4042c465684c3ca47748d543c": {
          "model_module": "@jupyter-widgets/controls",
          "model_name": "DescriptionStyleModel",
          "model_module_version": "1.5.0",
          "state": {
            "_model_module": "@jupyter-widgets/controls",
            "_model_module_version": "1.5.0",
            "_model_name": "DescriptionStyleModel",
            "_view_count": null,
            "_view_module": "@jupyter-widgets/base",
            "_view_module_version": "1.2.0",
            "_view_name": "StyleView",
            "description_width": ""
          }
        },
        "458a088e23094ed6aa0200cf074b6659": {
          "model_module": "@jupyter-widgets/base",
          "model_name": "LayoutModel",
          "model_module_version": "1.2.0",
          "state": {
            "_model_module": "@jupyter-widgets/base",
            "_model_module_version": "1.2.0",
            "_model_name": "LayoutModel",
            "_view_count": null,
            "_view_module": "@jupyter-widgets/base",
            "_view_module_version": "1.2.0",
            "_view_name": "LayoutView",
            "align_content": null,
            "align_items": null,
            "align_self": null,
            "border": null,
            "bottom": null,
            "display": null,
            "flex": null,
            "flex_flow": null,
            "grid_area": null,
            "grid_auto_columns": null,
            "grid_auto_flow": null,
            "grid_auto_rows": null,
            "grid_column": null,
            "grid_gap": null,
            "grid_row": null,
            "grid_template_areas": null,
            "grid_template_columns": null,
            "grid_template_rows": null,
            "height": null,
            "justify_content": null,
            "justify_items": null,
            "left": null,
            "margin": null,
            "max_height": null,
            "max_width": null,
            "min_height": null,
            "min_width": null,
            "object_fit": null,
            "object_position": null,
            "order": null,
            "overflow": null,
            "overflow_x": null,
            "overflow_y": null,
            "padding": null,
            "right": null,
            "top": null,
            "visibility": null,
            "width": null
          }
        },
        "4c442ea7337a4a42bc76de332affb204": {
          "model_module": "@jupyter-widgets/controls",
          "model_name": "ProgressStyleModel",
          "model_module_version": "1.5.0",
          "state": {
            "_model_module": "@jupyter-widgets/controls",
            "_model_module_version": "1.5.0",
            "_model_name": "ProgressStyleModel",
            "_view_count": null,
            "_view_module": "@jupyter-widgets/base",
            "_view_module_version": "1.2.0",
            "_view_name": "StyleView",
            "bar_color": null,
            "description_width": ""
          }
        },
        "3a6c9a365ee34faabc47ece9ec39c5cc": {
          "model_module": "@jupyter-widgets/base",
          "model_name": "LayoutModel",
          "model_module_version": "1.2.0",
          "state": {
            "_model_module": "@jupyter-widgets/base",
            "_model_module_version": "1.2.0",
            "_model_name": "LayoutModel",
            "_view_count": null,
            "_view_module": "@jupyter-widgets/base",
            "_view_module_version": "1.2.0",
            "_view_name": "LayoutView",
            "align_content": null,
            "align_items": null,
            "align_self": null,
            "border": null,
            "bottom": null,
            "display": null,
            "flex": null,
            "flex_flow": null,
            "grid_area": null,
            "grid_auto_columns": null,
            "grid_auto_flow": null,
            "grid_auto_rows": null,
            "grid_column": null,
            "grid_gap": null,
            "grid_row": null,
            "grid_template_areas": null,
            "grid_template_columns": null,
            "grid_template_rows": null,
            "height": null,
            "justify_content": null,
            "justify_items": null,
            "left": null,
            "margin": null,
            "max_height": null,
            "max_width": null,
            "min_height": null,
            "min_width": null,
            "object_fit": null,
            "object_position": null,
            "order": null,
            "overflow": null,
            "overflow_x": null,
            "overflow_y": null,
            "padding": null,
            "right": null,
            "top": null,
            "visibility": null,
            "width": null
          }
        },
        "8aafdfbd09394e74885fb1bdbdd3959a": {
          "model_module": "@jupyter-widgets/controls",
          "model_name": "DescriptionStyleModel",
          "model_module_version": "1.5.0",
          "state": {
            "_model_module": "@jupyter-widgets/controls",
            "_model_module_version": "1.5.0",
            "_model_name": "DescriptionStyleModel",
            "_view_count": null,
            "_view_module": "@jupyter-widgets/base",
            "_view_module_version": "1.2.0",
            "_view_name": "StyleView",
            "description_width": ""
          }
        },
        "6af6530deb5643aa83e6e3c06cdd4628": {
          "model_module": "@jupyter-widgets/controls",
          "model_name": "HBoxModel",
          "model_module_version": "1.5.0",
          "state": {
            "_dom_classes": [],
            "_model_module": "@jupyter-widgets/controls",
            "_model_module_version": "1.5.0",
            "_model_name": "HBoxModel",
            "_view_count": null,
            "_view_module": "@jupyter-widgets/controls",
            "_view_module_version": "1.5.0",
            "_view_name": "HBoxView",
            "box_style": "",
            "children": [
              "IPY_MODEL_ace257272e2442dea2b1b8582d27dd7e",
              "IPY_MODEL_7b2fb994200b470096df3ccabd0d854f",
              "IPY_MODEL_513dc9d998824b83af539f5fb6cf6536"
            ],
            "layout": "IPY_MODEL_e12c472e1acf44c0aa5a74fa9cb3c94a"
          }
        },
        "ace257272e2442dea2b1b8582d27dd7e": {
          "model_module": "@jupyter-widgets/controls",
          "model_name": "HTMLModel",
          "model_module_version": "1.5.0",
          "state": {
            "_dom_classes": [],
            "_model_module": "@jupyter-widgets/controls",
            "_model_module_version": "1.5.0",
            "_model_name": "HTMLModel",
            "_view_count": null,
            "_view_module": "@jupyter-widgets/controls",
            "_view_module_version": "1.5.0",
            "_view_name": "HTMLView",
            "description": "",
            "description_tooltip": null,
            "layout": "IPY_MODEL_cdbd31a7712a4d13ab965dbca339afe1",
            "placeholder": "​",
            "style": "IPY_MODEL_91ff051c98d24f2e8c5b616a62f7f91d",
            "value": "model.safetensors: 100%"
          }
        },
        "7b2fb994200b470096df3ccabd0d854f": {
          "model_module": "@jupyter-widgets/controls",
          "model_name": "FloatProgressModel",
          "model_module_version": "1.5.0",
          "state": {
            "_dom_classes": [],
            "_model_module": "@jupyter-widgets/controls",
            "_model_module_version": "1.5.0",
            "_model_name": "FloatProgressModel",
            "_view_count": null,
            "_view_module": "@jupyter-widgets/controls",
            "_view_module_version": "1.5.0",
            "_view_name": "ProgressView",
            "bar_style": "success",
            "description": "",
            "description_tooltip": null,
            "layout": "IPY_MODEL_4ff3928a04d44d719099eefef22d36ab",
            "max": 498818054,
            "min": 0,
            "orientation": "horizontal",
            "style": "IPY_MODEL_bae5e33eb97d4bf9b43416051a1d7d66",
            "value": 498818054
          }
        },
        "513dc9d998824b83af539f5fb6cf6536": {
          "model_module": "@jupyter-widgets/controls",
          "model_name": "HTMLModel",
          "model_module_version": "1.5.0",
          "state": {
            "_dom_classes": [],
            "_model_module": "@jupyter-widgets/controls",
            "_model_module_version": "1.5.0",
            "_model_name": "HTMLModel",
            "_view_count": null,
            "_view_module": "@jupyter-widgets/controls",
            "_view_module_version": "1.5.0",
            "_view_name": "HTMLView",
            "description": "",
            "description_tooltip": null,
            "layout": "IPY_MODEL_c606290d14474c5cb0c67cfe715a0e8d",
            "placeholder": "​",
            "style": "IPY_MODEL_b0670e28ba104c098c4bbbe339c4f6eb",
            "value": " 499M/499M [00:04&lt;00:00, 137MB/s]"
          }
        },
        "e12c472e1acf44c0aa5a74fa9cb3c94a": {
          "model_module": "@jupyter-widgets/base",
          "model_name": "LayoutModel",
          "model_module_version": "1.2.0",
          "state": {
            "_model_module": "@jupyter-widgets/base",
            "_model_module_version": "1.2.0",
            "_model_name": "LayoutModel",
            "_view_count": null,
            "_view_module": "@jupyter-widgets/base",
            "_view_module_version": "1.2.0",
            "_view_name": "LayoutView",
            "align_content": null,
            "align_items": null,
            "align_self": null,
            "border": null,
            "bottom": null,
            "display": null,
            "flex": null,
            "flex_flow": null,
            "grid_area": null,
            "grid_auto_columns": null,
            "grid_auto_flow": null,
            "grid_auto_rows": null,
            "grid_column": null,
            "grid_gap": null,
            "grid_row": null,
            "grid_template_areas": null,
            "grid_template_columns": null,
            "grid_template_rows": null,
            "height": null,
            "justify_content": null,
            "justify_items": null,
            "left": null,
            "margin": null,
            "max_height": null,
            "max_width": null,
            "min_height": null,
            "min_width": null,
            "object_fit": null,
            "object_position": null,
            "order": null,
            "overflow": null,
            "overflow_x": null,
            "overflow_y": null,
            "padding": null,
            "right": null,
            "top": null,
            "visibility": null,
            "width": null
          }
        },
        "cdbd31a7712a4d13ab965dbca339afe1": {
          "model_module": "@jupyter-widgets/base",
          "model_name": "LayoutModel",
          "model_module_version": "1.2.0",
          "state": {
            "_model_module": "@jupyter-widgets/base",
            "_model_module_version": "1.2.0",
            "_model_name": "LayoutModel",
            "_view_count": null,
            "_view_module": "@jupyter-widgets/base",
            "_view_module_version": "1.2.0",
            "_view_name": "LayoutView",
            "align_content": null,
            "align_items": null,
            "align_self": null,
            "border": null,
            "bottom": null,
            "display": null,
            "flex": null,
            "flex_flow": null,
            "grid_area": null,
            "grid_auto_columns": null,
            "grid_auto_flow": null,
            "grid_auto_rows": null,
            "grid_column": null,
            "grid_gap": null,
            "grid_row": null,
            "grid_template_areas": null,
            "grid_template_columns": null,
            "grid_template_rows": null,
            "height": null,
            "justify_content": null,
            "justify_items": null,
            "left": null,
            "margin": null,
            "max_height": null,
            "max_width": null,
            "min_height": null,
            "min_width": null,
            "object_fit": null,
            "object_position": null,
            "order": null,
            "overflow": null,
            "overflow_x": null,
            "overflow_y": null,
            "padding": null,
            "right": null,
            "top": null,
            "visibility": null,
            "width": null
          }
        },
        "91ff051c98d24f2e8c5b616a62f7f91d": {
          "model_module": "@jupyter-widgets/controls",
          "model_name": "DescriptionStyleModel",
          "model_module_version": "1.5.0",
          "state": {
            "_model_module": "@jupyter-widgets/controls",
            "_model_module_version": "1.5.0",
            "_model_name": "DescriptionStyleModel",
            "_view_count": null,
            "_view_module": "@jupyter-widgets/base",
            "_view_module_version": "1.2.0",
            "_view_name": "StyleView",
            "description_width": ""
          }
        },
        "4ff3928a04d44d719099eefef22d36ab": {
          "model_module": "@jupyter-widgets/base",
          "model_name": "LayoutModel",
          "model_module_version": "1.2.0",
          "state": {
            "_model_module": "@jupyter-widgets/base",
            "_model_module_version": "1.2.0",
            "_model_name": "LayoutModel",
            "_view_count": null,
            "_view_module": "@jupyter-widgets/base",
            "_view_module_version": "1.2.0",
            "_view_name": "LayoutView",
            "align_content": null,
            "align_items": null,
            "align_self": null,
            "border": null,
            "bottom": null,
            "display": null,
            "flex": null,
            "flex_flow": null,
            "grid_area": null,
            "grid_auto_columns": null,
            "grid_auto_flow": null,
            "grid_auto_rows": null,
            "grid_column": null,
            "grid_gap": null,
            "grid_row": null,
            "grid_template_areas": null,
            "grid_template_columns": null,
            "grid_template_rows": null,
            "height": null,
            "justify_content": null,
            "justify_items": null,
            "left": null,
            "margin": null,
            "max_height": null,
            "max_width": null,
            "min_height": null,
            "min_width": null,
            "object_fit": null,
            "object_position": null,
            "order": null,
            "overflow": null,
            "overflow_x": null,
            "overflow_y": null,
            "padding": null,
            "right": null,
            "top": null,
            "visibility": null,
            "width": null
          }
        },
        "bae5e33eb97d4bf9b43416051a1d7d66": {
          "model_module": "@jupyter-widgets/controls",
          "model_name": "ProgressStyleModel",
          "model_module_version": "1.5.0",
          "state": {
            "_model_module": "@jupyter-widgets/controls",
            "_model_module_version": "1.5.0",
            "_model_name": "ProgressStyleModel",
            "_view_count": null,
            "_view_module": "@jupyter-widgets/base",
            "_view_module_version": "1.2.0",
            "_view_name": "StyleView",
            "bar_color": null,
            "description_width": ""
          }
        },
        "c606290d14474c5cb0c67cfe715a0e8d": {
          "model_module": "@jupyter-widgets/base",
          "model_name": "LayoutModel",
          "model_module_version": "1.2.0",
          "state": {
            "_model_module": "@jupyter-widgets/base",
            "_model_module_version": "1.2.0",
            "_model_name": "LayoutModel",
            "_view_count": null,
            "_view_module": "@jupyter-widgets/base",
            "_view_module_version": "1.2.0",
            "_view_name": "LayoutView",
            "align_content": null,
            "align_items": null,
            "align_self": null,
            "border": null,
            "bottom": null,
            "display": null,
            "flex": null,
            "flex_flow": null,
            "grid_area": null,
            "grid_auto_columns": null,
            "grid_auto_flow": null,
            "grid_auto_rows": null,
            "grid_column": null,
            "grid_gap": null,
            "grid_row": null,
            "grid_template_areas": null,
            "grid_template_columns": null,
            "grid_template_rows": null,
            "height": null,
            "justify_content": null,
            "justify_items": null,
            "left": null,
            "margin": null,
            "max_height": null,
            "max_width": null,
            "min_height": null,
            "min_width": null,
            "object_fit": null,
            "object_position": null,
            "order": null,
            "overflow": null,
            "overflow_x": null,
            "overflow_y": null,
            "padding": null,
            "right": null,
            "top": null,
            "visibility": null,
            "width": null
          }
        },
        "b0670e28ba104c098c4bbbe339c4f6eb": {
          "model_module": "@jupyter-widgets/controls",
          "model_name": "DescriptionStyleModel",
          "model_module_version": "1.5.0",
          "state": {
            "_model_module": "@jupyter-widgets/controls",
            "_model_module_version": "1.5.0",
            "_model_name": "DescriptionStyleModel",
            "_view_count": null,
            "_view_module": "@jupyter-widgets/base",
            "_view_module_version": "1.2.0",
            "_view_name": "StyleView",
            "description_width": ""
          }
        }
      }
    },
    "kaggle": {
      "accelerator": "nvidiaTeslaT4",
      "dataSources": [],
      "dockerImageVersionId": 30805,
      "isInternetEnabled": true,
      "language": "python",
      "sourceType": "notebook",
      "isGpuEnabled": true
    }
  },
  "nbformat_minor": 0,
  "nbformat": 4,
  "cells": [
    {
      "cell_type": "code",
      "source": [
        "!pip install gdown"
      ],
      "metadata": {
        "trusted": true,
        "execution": {
          "iopub.status.busy": "2024-12-10T07:33:34.706410Z",
          "iopub.execute_input": "2024-12-10T07:33:34.707639Z",
          "iopub.status.idle": "2024-12-10T07:33:43.496257Z",
          "shell.execute_reply.started": "2024-12-10T07:33:34.707601Z",
          "shell.execute_reply": "2024-12-10T07:33:43.495108Z"
        },
        "id": "V2rDeveFPLmB",
        "outputId": "3d1346e0-60d7-4a14-9ec3-dcec62a99285",
        "colab": {
          "base_uri": "https://localhost:8080/"
        }
      },
      "outputs": [
        {
          "output_type": "stream",
          "name": "stdout",
          "text": [
            "Requirement already satisfied: gdown in /usr/local/lib/python3.10/dist-packages (5.2.0)\n",
            "Requirement already satisfied: beautifulsoup4 in /usr/local/lib/python3.10/dist-packages (from gdown) (4.12.3)\n",
            "Requirement already satisfied: filelock in /usr/local/lib/python3.10/dist-packages (from gdown) (3.16.1)\n",
            "Requirement already satisfied: requests[socks] in /usr/local/lib/python3.10/dist-packages (from gdown) (2.32.3)\n",
            "Requirement already satisfied: tqdm in /usr/local/lib/python3.10/dist-packages (from gdown) (4.66.6)\n",
            "Requirement already satisfied: soupsieve>1.2 in /usr/local/lib/python3.10/dist-packages (from beautifulsoup4->gdown) (2.6)\n",
            "Requirement already satisfied: charset-normalizer<4,>=2 in /usr/local/lib/python3.10/dist-packages (from requests[socks]->gdown) (3.4.0)\n",
            "Requirement already satisfied: idna<4,>=2.5 in /usr/local/lib/python3.10/dist-packages (from requests[socks]->gdown) (3.10)\n",
            "Requirement already satisfied: urllib3<3,>=1.21.1 in /usr/local/lib/python3.10/dist-packages (from requests[socks]->gdown) (2.2.3)\n",
            "Requirement already satisfied: certifi>=2017.4.17 in /usr/local/lib/python3.10/dist-packages (from requests[socks]->gdown) (2024.8.30)\n",
            "Requirement already satisfied: PySocks!=1.5.7,>=1.5.6 in /usr/local/lib/python3.10/dist-packages (from requests[socks]->gdown) (1.7.1)\n"
          ]
        }
      ],
      "execution_count": 1
    },
    {
      "cell_type": "code",
      "source": [
        "!gdown 1anFFKuEoL97bggwrYj8On-QciMIU_2l1"
      ],
      "metadata": {
        "trusted": true,
        "execution": {
          "iopub.status.busy": "2024-12-10T07:33:43.498959Z",
          "iopub.execute_input": "2024-12-10T07:33:43.499273Z",
          "iopub.status.idle": "2024-12-10T07:33:48.213219Z",
          "shell.execute_reply.started": "2024-12-10T07:33:43.499245Z",
          "shell.execute_reply": "2024-12-10T07:33:48.212276Z"
        },
        "id": "hlpwDyBkPLmI",
        "outputId": "9fcfd87c-9e02-4d96-cca3-28d9caecd061",
        "colab": {
          "base_uri": "https://localhost:8080/"
        }
      },
      "outputs": [
        {
          "output_type": "stream",
          "name": "stdout",
          "text": [
            "Downloading...\n",
            "From: https://drive.google.com/uc?id=1anFFKuEoL97bggwrYj8On-QciMIU_2l1\n",
            "To: /content/data_full_spoiled.json\n",
            "\r  0% 0.00/1.52M [00:00<?, ?B/s]\r100% 1.52M/1.52M [00:00<00:00, 14.0MB/s]\r100% 1.52M/1.52M [00:00<00:00, 13.8MB/s]\n"
          ]
        }
      ],
      "execution_count": 2
    },
    {
      "cell_type": "code",
      "source": [
        "import json\n",
        "\n",
        "with open(\"data_full_spoiled.json\") as f:\n",
        "    data = json.load(f)\n",
        "\n",
        "len(data), data.keys()"
      ],
      "metadata": {
        "colab": {
          "base_uri": "https://localhost:8080/"
        },
        "id": "zocjBkBmTM-X",
        "outputId": "5babcb85-15ba-497a-fcb5-06b186c9799c",
        "trusted": true,
        "execution": {
          "iopub.status.busy": "2024-12-10T07:33:48.214586Z",
          "iopub.execute_input": "2024-12-10T07:33:48.214889Z",
          "iopub.status.idle": "2024-12-10T07:33:48.236848Z",
          "shell.execute_reply.started": "2024-12-10T07:33:48.214862Z",
          "shell.execute_reply": "2024-12-10T07:33:48.236063Z"
        }
      },
      "outputs": [
        {
          "output_type": "execute_result",
          "data": {
            "text/plain": [
              "(4, dict_keys(['train', 'val', 'oos_train', 'oos_val']))"
            ]
          },
          "metadata": {},
          "execution_count": 3
        }
      ],
      "execution_count": 3
    },
    {
      "cell_type": "code",
      "source": [
        "def get_ds(data):\n",
        "    return zip(*data)\n",
        "\n",
        "def merge_ds(data1, data2):\n",
        "    return [*next(data1), *next(data2)], [*next(data1), *next(data2)]\n",
        "\n",
        "train_text, train_labels = merge_ds(get_ds(data[\"train\"]), get_ds(data[\"oos_train\"]))\n",
        "val_text, val_labels = merge_ds(get_ds(data[\"val\"]), get_ds(data[\"oos_val\"]))\n",
        "# train_text, train_labels = get_ds(data[\"train\"])\n",
        "# val_text, val_labels = get_ds(data[\"val\"])\n",
        "train_text[:5], train_labels[:5]"
      ],
      "metadata": {
        "colab": {
          "base_uri": "https://localhost:8080/"
        },
        "id": "eF9GxDeCRg7b",
        "outputId": "9b9f54aa-9dbd-4121-c080-469a69946f57",
        "trusted": true,
        "execution": {
          "iopub.status.busy": "2024-12-10T07:33:48.237898Z",
          "iopub.execute_input": "2024-12-10T07:33:48.238171Z",
          "iopub.status.idle": "2024-12-10T07:33:48.624733Z",
          "shell.execute_reply.started": "2024-12-10T07:33:48.238145Z",
          "shell.execute_reply": "2024-12-10T07:33:48.623707Z"
        }
      },
      "outputs": [
        {
          "output_type": "execute_result",
          "data": {
            "text/plain": [
              "(['what expression would i use to say i love you if i were an italian',\n",
              "  \"can you tell me how to say 'i do not speak much spanish', in spanish\",\n",
              "  \"what is the equivalent of, 'life is good' in french\",\n",
              "  \"tell me how to say, 'it is a beautiful morning' in italian\",\n",
              "  'if i were mongolian, how would i say that i am a tourist'],\n",
              " ['translate', 'translate', 'translate', 'translate', 'translate'])"
            ]
          },
          "metadata": {},
          "execution_count": 4
        }
      ],
      "execution_count": 4
    },
    {
      "cell_type": "code",
      "source": [
        "len(train_text), len(val_text)"
      ],
      "metadata": {
        "colab": {
          "base_uri": "https://localhost:8080/"
        },
        "id": "mf5d8BRuKoLk",
        "outputId": "bf57c183-5c39-4e7b-e8d8-79ae3be0bbfe",
        "trusted": true,
        "execution": {
          "iopub.status.busy": "2024-12-10T07:33:48.626963Z",
          "iopub.execute_input": "2024-12-10T07:33:48.627307Z",
          "iopub.status.idle": "2024-12-10T07:33:48.636356Z",
          "shell.execute_reply.started": "2024-12-10T07:33:48.627262Z",
          "shell.execute_reply": "2024-12-10T07:33:48.635588Z"
        }
      },
      "outputs": [
        {
          "output_type": "execute_result",
          "data": {
            "text/plain": [
              "(15100, 3100)"
            ]
          },
          "metadata": {},
          "execution_count": 5
        }
      ],
      "execution_count": 5
    },
    {
      "cell_type": "code",
      "source": [
        "train_classes, val_classes = set(train_labels), set(val_labels)\n",
        "len(train_classes), len(val_classes)"
      ],
      "metadata": {
        "colab": {
          "base_uri": "https://localhost:8080/"
        },
        "id": "Kk-jdBiUZVDC",
        "outputId": "25d259c1-442a-4e2b-85fe-4c194de662e1",
        "trusted": true,
        "execution": {
          "iopub.status.busy": "2024-12-10T07:33:48.637321Z",
          "iopub.execute_input": "2024-12-10T07:33:48.637586Z",
          "iopub.status.idle": "2024-12-10T07:33:48.650068Z",
          "shell.execute_reply.started": "2024-12-10T07:33:48.637560Z",
          "shell.execute_reply": "2024-12-10T07:33:48.649389Z"
        }
      },
      "outputs": [
        {
          "output_type": "execute_result",
          "data": {
            "text/plain": [
              "(151, 151)"
            ]
          },
          "metadata": {},
          "execution_count": 6
        }
      ],
      "execution_count": 6
    },
    {
      "cell_type": "code",
      "source": [
        "classes = list(train_classes & val_classes)\n",
        "classes[:5], len(classes)"
      ],
      "metadata": {
        "colab": {
          "base_uri": "https://localhost:8080/"
        },
        "id": "vKiAtbTJe2ly",
        "outputId": "80489dca-35c7-4995-c64c-3733b642ade5",
        "trusted": true,
        "execution": {
          "iopub.status.busy": "2024-12-10T07:33:48.651050Z",
          "iopub.execute_input": "2024-12-10T07:33:48.651307Z",
          "iopub.status.idle": "2024-12-10T07:33:48.660248Z",
          "shell.execute_reply.started": "2024-12-10T07:33:48.651267Z",
          "shell.execute_reply": "2024-12-10T07:33:48.659460Z"
        }
      },
      "outputs": [
        {
          "output_type": "execute_result",
          "data": {
            "text/plain": [
              "(['alarm', 'credit_limit_change', 'order', 'timer', 'shopping_list'], 151)"
            ]
          },
          "metadata": {},
          "execution_count": 7
        }
      ],
      "execution_count": 7
    },
    {
      "cell_type": "code",
      "source": [
        "with open(\"classes.txt\", \"w\") as f:\n",
        "    f.write(\"\\n\".join(classes))"
      ],
      "metadata": {
        "id": "OJ55mwwSZ5qX",
        "trusted": true,
        "execution": {
          "iopub.status.busy": "2024-12-10T07:33:48.661371Z",
          "iopub.execute_input": "2024-12-10T07:33:48.662022Z",
          "iopub.status.idle": "2024-12-10T07:33:48.674527Z",
          "shell.execute_reply.started": "2024-12-10T07:33:48.661981Z",
          "shell.execute_reply": "2024-12-10T07:33:48.673788Z"
        }
      },
      "outputs": [],
      "execution_count": 8
    },
    {
      "cell_type": "code",
      "source": [
        "from collections import Counter\n",
        "\n",
        "labels_count = Counter(train_labels)\n",
        "sorted_labels_count = labels_count.most_common()\n",
        "print(*sorted_labels_count[:10], sep=\"\\n\", end=\"\\n\\n\\n\")\n",
        "print(*sorted_labels_count[-10:], sep=\"\\n\")"
      ],
      "metadata": {
        "colab": {
          "base_uri": "https://localhost:8080/"
        },
        "id": "_1hStHHKZioi",
        "outputId": "8e73ed55-be5f-4422-e586-d6cd236b887b",
        "trusted": true,
        "execution": {
          "iopub.status.busy": "2024-12-10T07:33:48.675820Z",
          "iopub.execute_input": "2024-12-10T07:33:48.676424Z",
          "iopub.status.idle": "2024-12-10T07:33:48.689547Z",
          "shell.execute_reply.started": "2024-12-10T07:33:48.676382Z",
          "shell.execute_reply": "2024-12-10T07:33:48.688401Z"
        }
      },
      "outputs": [
        {
          "output_type": "stream",
          "name": "stdout",
          "text": [
            "('improve_credit_score', 109)\n",
            "('yes', 109)\n",
            "('whisper_mode', 108)\n",
            "('schedule_meeting', 107)\n",
            "('mpg', 106)\n",
            "('expiration_date', 106)\n",
            "('restaurant_reviews', 105)\n",
            "('international_fees', 105)\n",
            "('change_volume', 105)\n",
            "('spelling', 104)\n",
            "\n",
            "\n",
            "('credit_score', 96)\n",
            "('share_location', 96)\n",
            "('next_holiday', 96)\n",
            "('what_can_i_ask_you', 95)\n",
            "('routing', 95)\n",
            "('date', 95)\n",
            "('recipe', 95)\n",
            "('schedule_maintenance', 94)\n",
            "('replacement_card_duration', 94)\n",
            "('taxes', 94)\n"
          ]
        }
      ],
      "execution_count": 9
    },
    {
      "cell_type": "code",
      "source": [
        "import torch\n",
        "\n",
        "device = torch.device(\"cuda:0\" if torch.cuda.is_available() else \"cpu\")\n",
        "torch.manual_seed(3407)\n",
        "torch.cuda.manual_seed_all(3407)"
      ],
      "metadata": {
        "id": "JPAyLXVHXOoJ",
        "trusted": true,
        "execution": {
          "iopub.status.busy": "2024-12-10T07:33:48.690720Z",
          "iopub.execute_input": "2024-12-10T07:33:48.691602Z",
          "iopub.status.idle": "2024-12-10T07:33:48.704899Z",
          "shell.execute_reply.started": "2024-12-10T07:33:48.691555Z",
          "shell.execute_reply": "2024-12-10T07:33:48.704011Z"
        }
      },
      "outputs": [],
      "execution_count": 10
    },
    {
      "cell_type": "code",
      "source": [
        "from transformers import AutoTokenizer, AutoModelForSequenceClassification\n",
        "# from peft import LoraConfig, PeftModel, get_peft_model\n",
        "\n",
        "def load_model(name=\"microsoft/deberta-v3-base\", num_labels=151):\n",
        "    tokenizer = AutoTokenizer.from_pretrained(name)\n",
        "    model = AutoModelForSequenceClassification.from_pretrained(name, num_labels=num_labels)\n",
        "    model.to(device)\n",
        "    # target_modules = [\"query_proj\", \"value_proj\", \"dense\"]\n",
        "    # config = LoraConfig(\n",
        "    #     r=16, lora_alpha=16, target_modules=target_modules, lora_dropout=0.1, bias=\"none\", task_type=\"SEQ_CLS\"\n",
        "    # )\n",
        "    # lora_model = get_peft_model(model, config).to(device)\n",
        "    return tokenizer, model\n",
        "\n",
        "tokenizer, model = load_model(\"FacebookAI/roberta-base\", num_labels=len(classes))\n",
        "model"
      ],
      "metadata": {
        "colab": {
          "base_uri": "https://localhost:8080/",
          "height": 1000,
          "referenced_widgets": [
            "55a750d9127f4b939b37a143218218ad",
            "78ec49b1b7de40f99b39daf961bc12db",
            "f782d19aaa7a423487a3d16f7ba7fe20",
            "4b8d6122be8a45578164a2f7124a6a4c",
            "a7104629d24347d2a2678cbe442bb94c",
            "70ade69e528c4a11b063a4f03fe89393",
            "6c2fb3b652bc4e2e85ce94d86deec463",
            "88155772b51f42abb4bb3e1806ea04ec",
            "e91de8c82f9b4177b2ba3b126a50ef59",
            "90890011eed44be2987695c8a56a38fb",
            "bb2d1a8cb5d84c0c9bcad339884824ad",
            "4bf85cc3f1094ba9a6abf6a05e665e38",
            "3c1ceadaadcb42aeb35416dece2d1cca",
            "6ccbb17d220e4ffba362a671927bd690",
            "3c36630464844399ba571795e8691ca2",
            "c92b332cd420494aa16a202d100b4260",
            "69a0428a66bd4b2c87cb3ec6bf0fbde4",
            "2409c9d986624a5e876eba6f325bf70a",
            "642b327ffa1444a9b99bf1750fa9583b",
            "8a330039d0db45cdbad4e18305d23a7f",
            "5dbde7b2287c4cff83023e6a1a4216a7",
            "52b79890c71343a3bae17521f76e31aa",
            "2917d55207974523aaf00a96aaa3aaeb",
            "409fdeb5e23848dcba2ee72bb88f5323",
            "e56ad86a942b4b5baf34bed7079e2141",
            "880e765214184c9390b79f4c47179d1f",
            "fb9a21854ebb4e78a28360517a647a6d",
            "9228a57d043b4169884dc661ba7ce9e2",
            "05dd31f1cb7a4388ba1b37e2aaa41234",
            "06daffc4739a478c9730ae80cf68cc82",
            "9d81b8a4417d4d17a7e77b4f626dfabc",
            "65510fe8252f411aa487c53aecf9ecd2",
            "b2e04d0f9970446eac53e1345de3b505",
            "b7824400cc124413bb8000ca6ca869f0",
            "2705a4cc5baa45e7bf7bd5cd5132f468",
            "6ed58eec53d24c0a9fda053d33cd0f22",
            "aac261052c81447aa35809644cf7a2fc",
            "82e5da46526940bea0377debfd61e39e",
            "a100013f605245cc82d8b6e5bc099dfa",
            "3705b33cd37143448c14a2f9ea3f4369",
            "b5b6905008ff44c0a4883bfc926f1e7c",
            "c083b11ccd5648e487c1537a039351f8",
            "043fcb8ae2e64456bfaf9e8f2b7c2329",
            "20c9a49c5a3442689c6e01318ed95504",
            "57ae65ce86d646bbaaaeb9cb9e7d35fe",
            "4329ab7e432447d8b4254789a79d03d0",
            "c54449c33fd0428c9d5e8382a6c23b68",
            "77e9d1f3e4114147a2536002f2dc68ec",
            "39caab86ff734692b8227110839902a0",
            "8704a8ed16aa4b7a97d090840f59c4a4",
            "b94398d4042c465684c3ca47748d543c",
            "458a088e23094ed6aa0200cf074b6659",
            "4c442ea7337a4a42bc76de332affb204",
            "3a6c9a365ee34faabc47ece9ec39c5cc",
            "8aafdfbd09394e74885fb1bdbdd3959a",
            "6af6530deb5643aa83e6e3c06cdd4628",
            "ace257272e2442dea2b1b8582d27dd7e",
            "7b2fb994200b470096df3ccabd0d854f",
            "513dc9d998824b83af539f5fb6cf6536",
            "e12c472e1acf44c0aa5a74fa9cb3c94a",
            "cdbd31a7712a4d13ab965dbca339afe1",
            "91ff051c98d24f2e8c5b616a62f7f91d",
            "4ff3928a04d44d719099eefef22d36ab",
            "bae5e33eb97d4bf9b43416051a1d7d66",
            "c606290d14474c5cb0c67cfe715a0e8d",
            "b0670e28ba104c098c4bbbe339c4f6eb"
          ]
        },
        "id": "IrExD3wDVKBM",
        "outputId": "38395edc-1080-4bf3-b6b6-914e7dbb4400",
        "trusted": true,
        "execution": {
          "iopub.status.busy": "2024-12-10T07:33:57.262141Z",
          "iopub.execute_input": "2024-12-10T07:33:57.262457Z",
          "iopub.status.idle": "2024-12-10T07:33:57.936816Z",
          "shell.execute_reply.started": "2024-12-10T07:33:57.262427Z",
          "shell.execute_reply": "2024-12-10T07:33:57.935850Z"
        }
      },
      "outputs": [
        {
          "output_type": "stream",
          "name": "stderr",
          "text": [
            "/usr/local/lib/python3.10/dist-packages/huggingface_hub/utils/_auth.py:94: UserWarning: \n",
            "The secret `HF_TOKEN` does not exist in your Colab secrets.\n",
            "To authenticate with the Hugging Face Hub, create a token in your settings tab (https://huggingface.co/settings/tokens), set it as secret in your Google Colab and restart your session.\n",
            "You will be able to reuse this secret in all of your notebooks.\n",
            "Please note that authentication is recommended but still optional to access public models or datasets.\n",
            "  warnings.warn(\n"
          ]
        },
        {
          "output_type": "display_data",
          "data": {
            "text/plain": [
              "tokenizer_config.json:   0%|          | 0.00/25.0 [00:00<?, ?B/s]"
            ],
            "application/vnd.jupyter.widget-view+json": {
              "version_major": 2,
              "version_minor": 0,
              "model_id": "55a750d9127f4b939b37a143218218ad"
            }
          },
          "metadata": {}
        },
        {
          "output_type": "display_data",
          "data": {
            "text/plain": [
              "config.json:   0%|          | 0.00/481 [00:00<?, ?B/s]"
            ],
            "application/vnd.jupyter.widget-view+json": {
              "version_major": 2,
              "version_minor": 0,
              "model_id": "4bf85cc3f1094ba9a6abf6a05e665e38"
            }
          },
          "metadata": {}
        },
        {
          "output_type": "display_data",
          "data": {
            "text/plain": [
              "vocab.json:   0%|          | 0.00/899k [00:00<?, ?B/s]"
            ],
            "application/vnd.jupyter.widget-view+json": {
              "version_major": 2,
              "version_minor": 0,
              "model_id": "2917d55207974523aaf00a96aaa3aaeb"
            }
          },
          "metadata": {}
        },
        {
          "output_type": "display_data",
          "data": {
            "text/plain": [
              "merges.txt:   0%|          | 0.00/456k [00:00<?, ?B/s]"
            ],
            "application/vnd.jupyter.widget-view+json": {
              "version_major": 2,
              "version_minor": 0,
              "model_id": "b7824400cc124413bb8000ca6ca869f0"
            }
          },
          "metadata": {}
        },
        {
          "output_type": "display_data",
          "data": {
            "text/plain": [
              "tokenizer.json:   0%|          | 0.00/1.36M [00:00<?, ?B/s]"
            ],
            "application/vnd.jupyter.widget-view+json": {
              "version_major": 2,
              "version_minor": 0,
              "model_id": "57ae65ce86d646bbaaaeb9cb9e7d35fe"
            }
          },
          "metadata": {}
        },
        {
          "output_type": "display_data",
          "data": {
            "text/plain": [
              "model.safetensors:   0%|          | 0.00/499M [00:00<?, ?B/s]"
            ],
            "application/vnd.jupyter.widget-view+json": {
              "version_major": 2,
              "version_minor": 0,
              "model_id": "6af6530deb5643aa83e6e3c06cdd4628"
            }
          },
          "metadata": {}
        },
        {
          "output_type": "stream",
          "name": "stderr",
          "text": [
            "Some weights of RobertaForSequenceClassification were not initialized from the model checkpoint at FacebookAI/roberta-base and are newly initialized: ['classifier.dense.bias', 'classifier.dense.weight', 'classifier.out_proj.bias', 'classifier.out_proj.weight']\n",
            "You should probably TRAIN this model on a down-stream task to be able to use it for predictions and inference.\n"
          ]
        },
        {
          "output_type": "execute_result",
          "data": {
            "text/plain": [
              "RobertaForSequenceClassification(\n",
              "  (roberta): RobertaModel(\n",
              "    (embeddings): RobertaEmbeddings(\n",
              "      (word_embeddings): Embedding(50265, 768, padding_idx=1)\n",
              "      (position_embeddings): Embedding(514, 768, padding_idx=1)\n",
              "      (token_type_embeddings): Embedding(1, 768)\n",
              "      (LayerNorm): LayerNorm((768,), eps=1e-05, elementwise_affine=True)\n",
              "      (dropout): Dropout(p=0.1, inplace=False)\n",
              "    )\n",
              "    (encoder): RobertaEncoder(\n",
              "      (layer): ModuleList(\n",
              "        (0-11): 12 x RobertaLayer(\n",
              "          (attention): RobertaAttention(\n",
              "            (self): RobertaSdpaSelfAttention(\n",
              "              (query): Linear(in_features=768, out_features=768, bias=True)\n",
              "              (key): Linear(in_features=768, out_features=768, bias=True)\n",
              "              (value): Linear(in_features=768, out_features=768, bias=True)\n",
              "              (dropout): Dropout(p=0.1, inplace=False)\n",
              "            )\n",
              "            (output): RobertaSelfOutput(\n",
              "              (dense): Linear(in_features=768, out_features=768, bias=True)\n",
              "              (LayerNorm): LayerNorm((768,), eps=1e-05, elementwise_affine=True)\n",
              "              (dropout): Dropout(p=0.1, inplace=False)\n",
              "            )\n",
              "          )\n",
              "          (intermediate): RobertaIntermediate(\n",
              "            (dense): Linear(in_features=768, out_features=3072, bias=True)\n",
              "            (intermediate_act_fn): GELUActivation()\n",
              "          )\n",
              "          (output): RobertaOutput(\n",
              "            (dense): Linear(in_features=3072, out_features=768, bias=True)\n",
              "            (LayerNorm): LayerNorm((768,), eps=1e-05, elementwise_affine=True)\n",
              "            (dropout): Dropout(p=0.1, inplace=False)\n",
              "          )\n",
              "        )\n",
              "      )\n",
              "    )\n",
              "  )\n",
              "  (classifier): RobertaClassificationHead(\n",
              "    (dense): Linear(in_features=768, out_features=768, bias=True)\n",
              "    (dropout): Dropout(p=0.1, inplace=False)\n",
              "    (out_proj): Linear(in_features=768, out_features=151, bias=True)\n",
              "  )\n",
              ")"
            ]
          },
          "metadata": {},
          "execution_count": 11
        }
      ],
      "execution_count": 11
    },
    {
      "cell_type": "code",
      "source": [
        "lens = [len(tokenizer(i)[\"input_ids\"]) for i in [*train_text, *val_text]]\n",
        "sum(lens) / len(lens)"
      ],
      "metadata": {
        "colab": {
          "base_uri": "https://localhost:8080/"
        },
        "id": "-cfc5XSCLjRK",
        "outputId": "c9bc603b-32c1-4dae-8443-246286aae811",
        "trusted": true,
        "execution": {
          "iopub.status.busy": "2024-12-10T07:33:57.941101Z",
          "iopub.execute_input": "2024-12-10T07:33:57.941393Z",
          "iopub.status.idle": "2024-12-10T07:33:59.063351Z",
          "shell.execute_reply.started": "2024-12-10T07:33:57.941366Z",
          "shell.execute_reply": "2024-12-10T07:33:59.062460Z"
        }
      },
      "outputs": [
        {
          "output_type": "execute_result",
          "data": {
            "text/plain": [
              "11.091648351648352"
            ]
          },
          "metadata": {},
          "execution_count": 12
        }
      ],
      "execution_count": 12
    },
    {
      "cell_type": "code",
      "source": [
        "max(lens)"
      ],
      "metadata": {
        "colab": {
          "base_uri": "https://localhost:8080/"
        },
        "id": "a2JR2l31MFv8",
        "outputId": "d4a94f53-c326-4193-b740-2c2f25fe974b",
        "trusted": true,
        "execution": {
          "iopub.status.busy": "2024-12-10T07:33:59.064118Z",
          "iopub.execute_input": "2024-12-10T07:33:59.064354Z",
          "iopub.status.idle": "2024-12-10T07:33:59.070669Z",
          "shell.execute_reply.started": "2024-12-10T07:33:59.064331Z",
          "shell.execute_reply": "2024-12-10T07:33:59.069634Z"
        }
      },
      "outputs": [
        {
          "output_type": "execute_result",
          "data": {
            "text/plain": [
              "37"
            ]
          },
          "metadata": {},
          "execution_count": 13
        }
      ],
      "execution_count": 13
    },
    {
      "cell_type": "code",
      "source": [
        "def preproc(text, tokenizer, max_length=64):\n",
        "    inputs = tokenizer(\n",
        "        text,\n",
        "        max_length=max_length,\n",
        "        add_special_tokens=True,\n",
        "        padding=\"max_length\",\n",
        "        truncation=True,\n",
        "        return_tensors=\"pt\"\n",
        "    )\n",
        "    return inputs[\"input_ids\"], inputs[\"attention_mask\"]\n",
        "\n",
        "preproc(train_text[0], tokenizer)"
      ],
      "metadata": {
        "colab": {
          "base_uri": "https://localhost:8080/"
        },
        "id": "B6Lqxq_zfaIa",
        "outputId": "2b9a6245-3a53-46b8-bf3d-021cea82eac4",
        "trusted": true,
        "execution": {
          "iopub.status.busy": "2024-12-10T07:33:59.071941Z",
          "iopub.execute_input": "2024-12-10T07:33:59.072311Z",
          "iopub.status.idle": "2024-12-10T07:33:59.088127Z",
          "shell.execute_reply.started": "2024-12-10T07:33:59.072272Z",
          "shell.execute_reply": "2024-12-10T07:33:59.087305Z"
        }
      },
      "outputs": [
        {
          "output_type": "execute_result",
          "data": {
            "text/plain": [
              "(tensor([[    0, 12196,  8151,    74,   939,   304,     7,   224,   939,   657,\n",
              "             47,   114,   939,    58,    41,    24, 21999,     2,     1,     1,\n",
              "              1,     1,     1,     1,     1,     1,     1,     1,     1,     1,\n",
              "              1,     1,     1,     1,     1,     1,     1,     1,     1,     1,\n",
              "              1,     1,     1,     1,     1,     1,     1,     1,     1,     1,\n",
              "              1,     1,     1,     1,     1,     1,     1,     1,     1,     1,\n",
              "              1,     1,     1,     1]]),\n",
              " tensor([[1, 1, 1, 1, 1, 1, 1, 1, 1, 1, 1, 1, 1, 1, 1, 1, 1, 1, 0, 0, 0, 0, 0, 0,\n",
              "          0, 0, 0, 0, 0, 0, 0, 0, 0, 0, 0, 0, 0, 0, 0, 0, 0, 0, 0, 0, 0, 0, 0, 0,\n",
              "          0, 0, 0, 0, 0, 0, 0, 0, 0, 0, 0, 0, 0, 0, 0, 0]]))"
            ]
          },
          "metadata": {},
          "execution_count": 14
        }
      ],
      "execution_count": 14
    },
    {
      "cell_type": "code",
      "source": [
        "train_input_ids, train_attention_mask = zip(*map(lambda x: preproc(x, tokenizer), train_text))\n",
        "train_input_ids, train_attention_mask = torch.cat(train_input_ids), torch.cat(train_attention_mask)\n",
        "\n",
        "val_input_ids, val_attention_mask = zip(*map(lambda x: preproc(x, tokenizer), val_text))\n",
        "val_input_ids, val_attention_mask = torch.cat(val_input_ids), torch.cat(val_attention_mask)\n",
        "train_input_ids[0]"
      ],
      "metadata": {
        "colab": {
          "base_uri": "https://localhost:8080/"
        },
        "id": "Dp2bBzNCmwX6",
        "outputId": "abd29527-1d1b-4e0c-d283-580e9071da69",
        "trusted": true,
        "execution": {
          "iopub.status.busy": "2024-12-10T07:33:59.089390Z",
          "iopub.execute_input": "2024-12-10T07:33:59.089754Z",
          "iopub.status.idle": "2024-12-10T07:34:01.731680Z",
          "shell.execute_reply.started": "2024-12-10T07:33:59.089717Z",
          "shell.execute_reply": "2024-12-10T07:34:01.730776Z"
        }
      },
      "outputs": [
        {
          "output_type": "execute_result",
          "data": {
            "text/plain": [
              "tensor([    0, 12196,  8151,    74,   939,   304,     7,   224,   939,   657,\n",
              "           47,   114,   939,    58,    41,    24, 21999,     2,     1,     1,\n",
              "            1,     1,     1,     1,     1,     1,     1,     1,     1,     1,\n",
              "            1,     1,     1,     1,     1,     1,     1,     1,     1,     1,\n",
              "            1,     1,     1,     1,     1,     1,     1,     1,     1,     1,\n",
              "            1,     1,     1,     1,     1,     1,     1,     1,     1,     1,\n",
              "            1,     1,     1,     1])"
            ]
          },
          "metadata": {},
          "execution_count": 15
        }
      ],
      "execution_count": 15
    },
    {
      "cell_type": "code",
      "source": [
        "label2id = {label: i for i, label in enumerate(classes)}\n",
        "id2label = {i: label for i, label in enumerate(classes)}\n",
        "label2id[\"yes\"]"
      ],
      "metadata": {
        "colab": {
          "base_uri": "https://localhost:8080/"
        },
        "id": "-aze6PVOrdzZ",
        "outputId": "51c796f4-e768-491f-91c1-9293412b5e26",
        "trusted": true,
        "execution": {
          "iopub.status.busy": "2024-12-10T07:34:01.732827Z",
          "iopub.execute_input": "2024-12-10T07:34:01.733099Z",
          "iopub.status.idle": "2024-12-10T07:34:01.739117Z",
          "shell.execute_reply.started": "2024-12-10T07:34:01.733074Z",
          "shell.execute_reply": "2024-12-10T07:34:01.738288Z"
        }
      },
      "outputs": [
        {
          "output_type": "execute_result",
          "data": {
            "text/plain": [
              "92"
            ]
          },
          "metadata": {},
          "execution_count": 16
        }
      ],
      "execution_count": 16
    },
    {
      "cell_type": "code",
      "source": [
        "train_targets = torch.cat(list(map(lambda x: torch.LongTensor([label2id[x]]), train_labels)))\n",
        "val_targets = torch.cat(list(map(lambda x: torch.LongTensor([label2id[x]]), val_labels)))\n",
        "train_targets[0]"
      ],
      "metadata": {
        "colab": {
          "base_uri": "https://localhost:8080/"
        },
        "id": "pgm6rqwFrtqK",
        "outputId": "66a337ca-9873-45a5-9115-7b327d097d82",
        "trusted": true,
        "execution": {
          "iopub.status.busy": "2024-12-10T07:34:01.740268Z",
          "iopub.execute_input": "2024-12-10T07:34:01.740577Z",
          "iopub.status.idle": "2024-12-10T07:34:01.844471Z",
          "shell.execute_reply.started": "2024-12-10T07:34:01.740534Z",
          "shell.execute_reply": "2024-12-10T07:34:01.843577Z"
        }
      },
      "outputs": [
        {
          "output_type": "execute_result",
          "data": {
            "text/plain": [
              "tensor(14)"
            ]
          },
          "metadata": {},
          "execution_count": 17
        }
      ],
      "execution_count": 17
    },
    {
      "cell_type": "code",
      "source": [
        "from torch.utils.data import TensorDataset, DataLoader\n",
        "\n",
        "train_ds = TensorDataset(train_input_ids, train_attention_mask, train_targets)\n",
        "val_ds = TensorDataset(val_input_ids, val_attention_mask, val_targets)\n",
        "batch_size = 100\n",
        "train_dl, val_dl = DataLoader(train_ds, batch_size=batch_size, shuffle=True, pin_memory=True), DataLoader(val_ds, batch_size=batch_size, shuffle=False, pin_memory=True)"
      ],
      "metadata": {
        "id": "TPAjIQgIesi7",
        "trusted": true,
        "execution": {
          "iopub.status.busy": "2024-12-10T07:34:01.845438Z",
          "iopub.execute_input": "2024-12-10T07:34:01.845713Z",
          "iopub.status.idle": "2024-12-10T07:34:01.851163Z",
          "shell.execute_reply.started": "2024-12-10T07:34:01.845688Z",
          "shell.execute_reply": "2024-12-10T07:34:01.850212Z"
        }
      },
      "outputs": [],
      "execution_count": 18
    },
    {
      "cell_type": "code",
      "source": [
        "train_ds[0]"
      ],
      "metadata": {
        "colab": {
          "base_uri": "https://localhost:8080/"
        },
        "id": "UWGkqIAc2fc8",
        "outputId": "5d1b1c6d-215c-4f4a-b26a-bfe776048bac",
        "trusted": true,
        "execution": {
          "iopub.status.busy": "2024-12-10T07:34:01.852314Z",
          "iopub.execute_input": "2024-12-10T07:34:01.852670Z",
          "iopub.status.idle": "2024-12-10T07:34:01.868836Z",
          "shell.execute_reply.started": "2024-12-10T07:34:01.852636Z",
          "shell.execute_reply": "2024-12-10T07:34:01.868004Z"
        }
      },
      "outputs": [
        {
          "output_type": "execute_result",
          "data": {
            "text/plain": [
              "(tensor([    0, 12196,  8151,    74,   939,   304,     7,   224,   939,   657,\n",
              "            47,   114,   939,    58,    41,    24, 21999,     2,     1,     1,\n",
              "             1,     1,     1,     1,     1,     1,     1,     1,     1,     1,\n",
              "             1,     1,     1,     1,     1,     1,     1,     1,     1,     1,\n",
              "             1,     1,     1,     1,     1,     1,     1,     1,     1,     1,\n",
              "             1,     1,     1,     1,     1,     1,     1,     1,     1,     1,\n",
              "             1,     1,     1,     1]),\n",
              " tensor([1, 1, 1, 1, 1, 1, 1, 1, 1, 1, 1, 1, 1, 1, 1, 1, 1, 1, 0, 0, 0, 0, 0, 0,\n",
              "         0, 0, 0, 0, 0, 0, 0, 0, 0, 0, 0, 0, 0, 0, 0, 0, 0, 0, 0, 0, 0, 0, 0, 0,\n",
              "         0, 0, 0, 0, 0, 0, 0, 0, 0, 0, 0, 0, 0, 0, 0, 0]),\n",
              " tensor(14))"
            ]
          },
          "metadata": {},
          "execution_count": 19
        }
      ],
      "execution_count": 19
    },
    {
      "cell_type": "code",
      "source": [
        "from transformers import get_linear_schedule_with_warmup\n",
        "\n",
        "epochs = 5\n",
        "\n",
        "no_decay = ['bias', 'LayerNorm.weight']\n",
        "\n",
        "optimizer_grouped_parameters = [\n",
        "    {'params': [p for n, p in model.named_parameters() if not any(nd in n for nd in no_decay)], 'weight_decay': 0.01},\n",
        "    {'params': [p for n, p in model.named_parameters() if any(nd in n for nd in no_decay)], 'weight_decay': 0.0}\n",
        "]\n",
        "\n",
        "optimizer = torch.optim.AdamW(optimizer_grouped_parameters, lr=3e-4)\n",
        "criterion = torch.nn.CrossEntropyLoss()\n",
        "\n",
        "num_training_steps = epochs * len(train_dl)\n",
        "\n",
        "scheduler = get_linear_schedule_with_warmup(optimizer, num_warmup_steps=len(train_dl) * 0.5, num_training_steps=num_training_steps)"
      ],
      "metadata": {
        "id": "CcJ_b48btXhN",
        "trusted": true,
        "execution": {
          "iopub.status.busy": "2024-12-10T07:34:01.869889Z",
          "iopub.execute_input": "2024-12-10T07:34:01.870160Z",
          "iopub.status.idle": "2024-12-10T07:34:01.894015Z",
          "shell.execute_reply.started": "2024-12-10T07:34:01.870136Z",
          "shell.execute_reply": "2024-12-10T07:34:01.893336Z"
        }
      },
      "outputs": [],
      "execution_count": 20
    },
    {
      "cell_type": "code",
      "source": [
        "from tqdm import tqdm\n",
        "import gc\n",
        "\n",
        "def train(model, train_dl, criterion, optimizer, scheduler=None):\n",
        "    model.train()\n",
        "    train_loss = 0\n",
        "    for x, atten_mask, y in train_dl:\n",
        "        optimizer.zero_grad()\n",
        "        x, y = x.to(device), y.to(device)\n",
        "        atten_mask = atten_mask.to(device)\n",
        "        out = model(x, attention_mask=atten_mask).logits\n",
        "        loss = criterion(out, y)\n",
        "        train_loss += loss.item()\n",
        "        # torch.nn.utils.clip_grad_norm_(model.parameters(), 1)\n",
        "        loss.backward()\n",
        "        optimizer.step()\n",
        "        if scheduler is not None:\n",
        "            scheduler.step()\n",
        "        gc.collect()\n",
        "        torch.cuda.empty_cache()\n",
        "    return train_loss / len(train_dl)"
      ],
      "metadata": {
        "id": "lqaQNrMUtTvU",
        "trusted": true,
        "execution": {
          "iopub.status.busy": "2024-12-10T07:34:01.894953Z",
          "iopub.execute_input": "2024-12-10T07:34:01.895208Z",
          "iopub.status.idle": "2024-12-10T07:34:01.901407Z",
          "shell.execute_reply.started": "2024-12-10T07:34:01.895184Z",
          "shell.execute_reply": "2024-12-10T07:34:01.900490Z"
        }
      },
      "outputs": [],
      "execution_count": 21
    },
    {
      "cell_type": "code",
      "source": [
        "from sklearn.metrics import *\n",
        "import numpy as np\n",
        "\n",
        "@torch.no_grad()\n",
        "def val(model, val_dl, criterion):\n",
        "    model.eval()\n",
        "    val_loss, val_acc = 0, 0\n",
        "    for x, atten_mask, y in val_dl:\n",
        "        x, y = x.to(device), y.to(device)\n",
        "        atten_mask = atten_mask.to(device)\n",
        "        out = model(x, attention_mask=atten_mask).logits\n",
        "        loss = criterion(out, y)\n",
        "        val_loss += loss.item()\n",
        "        pred = np.argmax(out.cpu().detach().numpy(), axis=1)\n",
        "        true = y.cpu().detach().numpy()\n",
        "        val_acc += accuracy_score(true, pred)\n",
        "    gc.collect()\n",
        "    torch.cuda.empty_cache()\n",
        "    return val_loss / len(val_dl), val_acc / len(val_dl)"
      ],
      "metadata": {
        "id": "rfqVAPCG4R1q",
        "trusted": true,
        "execution": {
          "iopub.status.busy": "2024-12-10T07:34:01.902388Z",
          "iopub.execute_input": "2024-12-10T07:34:01.902643Z",
          "iopub.status.idle": "2024-12-10T07:34:02.176838Z",
          "shell.execute_reply.started": "2024-12-10T07:34:01.902620Z",
          "shell.execute_reply": "2024-12-10T07:34:02.175848Z"
        }
      },
      "outputs": [],
      "execution_count": 22
    },
    {
      "cell_type": "code",
      "source": [
        "best_epoch, best_val_acc = 0, 0\n",
        "\n",
        "for epoch in tqdm(range(1, epochs + 1)):\n",
        "    print(\"\\n\" + \"=\" * 5 + f\"Epoch {epoch}/{epochs}\" +  \"=\" * 5)\n",
        "    train_loss = train(model, train_dl, criterion, optimizer, scheduler)\n",
        "    print(f\"Train loss {train_loss}\")\n",
        "    val_loss, val_acc = val(model, val_dl, criterion)\n",
        "    model.save_pretrained(f\"roberta/epoch_{epoch}\")\n",
        "    if val_acc > best_val_acc:\n",
        "        best_epoch, best_val_acc = epoch, val_acc\n",
        "    print(f\"Val loss {val_loss} acc {val_acc}\")"
      ],
      "metadata": {
        "colab": {
          "base_uri": "https://localhost:8080/"
        },
        "id": "cQ4wraQJwf-0",
        "outputId": "b1b61e6c-3c53-4d2b-8a4e-1dca03088be4",
        "trusted": true,
        "execution": {
          "iopub.status.busy": "2024-12-10T07:34:02.178117Z",
          "iopub.execute_input": "2024-12-10T07:34:02.179302Z"
        }
      },
      "outputs": [
        {
          "output_type": "stream",
          "name": "stderr",
          "text": [
            "\r  0%|          | 0/5 [00:00<?, ?it/s]"
          ]
        },
        {
          "output_type": "stream",
          "name": "stdout",
          "text": [
            "\n",
            "=====Epoch 1/5=====\n",
            "Train loss 2.660070184445539\n"
          ]
        },
        {
          "output_type": "stream",
          "name": "stderr",
          "text": [
            "\r 20%|██        | 1/5 [02:33<10:13, 153.38s/it]"
          ]
        },
        {
          "output_type": "stream",
          "name": "stdout",
          "text": [
            "Val loss 0.6522828475121529 acc 0.866774193548387\n",
            "\n",
            "=====Epoch 2/5=====\n",
            "Train loss 1.0860713499271317\n"
          ]
        },
        {
          "output_type": "stream",
          "name": "stderr",
          "text": [
            "\r 40%|████      | 2/5 [05:05<07:37, 152.44s/it]"
          ]
        },
        {
          "output_type": "stream",
          "name": "stdout",
          "text": [
            "Val loss 0.4487512909596966 acc 0.9151612903225806\n",
            "\n",
            "=====Epoch 3/5=====\n",
            "Train loss 0.8801697727465472\n"
          ]
        },
        {
          "output_type": "stream",
          "name": "stderr",
          "text": [
            "\r 60%|██████    | 3/5 [07:41<05:08, 154.16s/it]"
          ]
        },
        {
          "output_type": "stream",
          "name": "stdout",
          "text": [
            "Val loss 0.3899665801755844 acc 0.9283870967741935\n",
            "\n",
            "=====Epoch 4/5=====\n",
            "Train loss 0.7518942271242078\n"
          ]
        },
        {
          "output_type": "stream",
          "name": "stderr",
          "text": [
            "\r 80%|████████  | 4/5 [10:17<02:34, 154.88s/it]"
          ]
        },
        {
          "output_type": "stream",
          "name": "stdout",
          "text": [
            "Val loss 0.33670960703203756 acc 0.9358064516129033\n",
            "\n",
            "=====Epoch 5/5=====\n",
            "Train loss 0.6447298191241081\n"
          ]
        },
        {
          "output_type": "stream",
          "name": "stderr",
          "text": [
            "100%|██████████| 5/5 [12:52<00:00, 154.58s/it]"
          ]
        },
        {
          "output_type": "stream",
          "name": "stdout",
          "text": [
            "Val loss 0.3270492894995597 acc 0.9438709677419355\n"
          ]
        },
        {
          "output_type": "stream",
          "name": "stderr",
          "text": [
            "\n"
          ]
        }
      ],
      "execution_count": 23
    },
    {
      "cell_type": "code",
      "source": [
        "model.from_pretrained(f\"roberta/epoch_{best_epoch}\", local_files_only=True)\n",
        "model.to(device)\n",
        "model.eval()"
      ],
      "metadata": {
        "trusted": true,
        "id": "KghsRv-EPLmX",
        "colab": {
          "base_uri": "https://localhost:8080/"
        },
        "outputId": "f962b498-21dd-40bc-d950-82df9301121f"
      },
      "outputs": [
        {
          "output_type": "execute_result",
          "data": {
            "text/plain": [
              "RobertaForSequenceClassification(\n",
              "  (roberta): RobertaModel(\n",
              "    (embeddings): RobertaEmbeddings(\n",
              "      (word_embeddings): Embedding(50265, 768, padding_idx=1)\n",
              "      (position_embeddings): Embedding(514, 768, padding_idx=1)\n",
              "      (token_type_embeddings): Embedding(1, 768)\n",
              "      (LayerNorm): LayerNorm((768,), eps=1e-05, elementwise_affine=True)\n",
              "      (dropout): Dropout(p=0.1, inplace=False)\n",
              "    )\n",
              "    (encoder): RobertaEncoder(\n",
              "      (layer): ModuleList(\n",
              "        (0-11): 12 x RobertaLayer(\n",
              "          (attention): RobertaAttention(\n",
              "            (self): RobertaSdpaSelfAttention(\n",
              "              (query): Linear(in_features=768, out_features=768, bias=True)\n",
              "              (key): Linear(in_features=768, out_features=768, bias=True)\n",
              "              (value): Linear(in_features=768, out_features=768, bias=True)\n",
              "              (dropout): Dropout(p=0.1, inplace=False)\n",
              "            )\n",
              "            (output): RobertaSelfOutput(\n",
              "              (dense): Linear(in_features=768, out_features=768, bias=True)\n",
              "              (LayerNorm): LayerNorm((768,), eps=1e-05, elementwise_affine=True)\n",
              "              (dropout): Dropout(p=0.1, inplace=False)\n",
              "            )\n",
              "          )\n",
              "          (intermediate): RobertaIntermediate(\n",
              "            (dense): Linear(in_features=768, out_features=3072, bias=True)\n",
              "            (intermediate_act_fn): GELUActivation()\n",
              "          )\n",
              "          (output): RobertaOutput(\n",
              "            (dense): Linear(in_features=3072, out_features=768, bias=True)\n",
              "            (LayerNorm): LayerNorm((768,), eps=1e-05, elementwise_affine=True)\n",
              "            (dropout): Dropout(p=0.1, inplace=False)\n",
              "          )\n",
              "        )\n",
              "      )\n",
              "    )\n",
              "  )\n",
              "  (classifier): RobertaClassificationHead(\n",
              "    (dense): Linear(in_features=768, out_features=768, bias=True)\n",
              "    (dropout): Dropout(p=0.1, inplace=False)\n",
              "    (out_proj): Linear(in_features=768, out_features=151, bias=True)\n",
              "  )\n",
              ")"
            ]
          },
          "metadata": {},
          "execution_count": 27
        }
      ],
      "execution_count": 27
    },
    {
      "cell_type": "code",
      "source": [
        "gc.collect()\n",
        "torch.cuda.empty_cache()\n",
        "model.to(device)\n",
        "preds, trues = [], []\n",
        "for x, atten_mask, y in val_dl:\n",
        "    with torch.no_grad():\n",
        "        x, y = x.to(device), y.to(device)\n",
        "        atten_mask = atten_mask.to(device)\n",
        "        out = model(x, attention_mask=atten_mask).logits\n",
        "        loss = criterion(out, y)\n",
        "        pred = np.argmax(out.cpu().detach().numpy(), axis=1)\n",
        "        true = y.cpu().detach().numpy()\n",
        "        preds.extend(pred)\n",
        "        trues.extend(true)\n",
        "\n",
        "with open(\"/content/drive/MyDrive/Colab Notebooks/Sirius/project/dirty_classification_report.txt\", \"w\") as f:\n",
        "    f.write(classification_report(trues, preds))\n",
        "\n",
        "gc.collect()\n",
        "torch.cuda.empty_cache()"
      ],
      "metadata": {
        "id": "50iLzAkxoY_2",
        "trusted": true
      },
      "outputs": [],
      "execution_count": 48
    },
    {
      "cell_type": "code",
      "source": [
        "d = {}\n",
        "for i in range(len(preds)):\n",
        "    if preds[i] != trues[i]:\n",
        "        if id2label[preds[i]] not in d:\n",
        "            d[id2label[preds[i]]] = 1\n",
        "        else:\n",
        "            d[id2label[preds[i]]] += 1\n",
        "\n",
        "sorted(d.items(), key=lambda x: -x[1])[:10]"
      ],
      "metadata": {
        "id": "WsOXJY2TSHpu",
        "trusted": true,
        "colab": {
          "base_uri": "https://localhost:8080/"
        },
        "outputId": "f9b8b9b5-13ca-4f84-891c-e5995d6768b2"
      },
      "outputs": [
        {
          "output_type": "execute_result",
          "data": {
            "text/plain": [
              "[('oos', 10),\n",
              " ('what_can_i_ask_you', 5),\n",
              " ('freeze_account', 5),\n",
              " ('income', 4),\n",
              " ('transactions', 4),\n",
              " ('damaged_card', 4),\n",
              " ('definition', 4),\n",
              " ('weather', 3),\n",
              " ('spending_history', 3),\n",
              " ('user_name', 3)]"
            ]
          },
          "metadata": {},
          "execution_count": 49
        }
      ],
      "execution_count": 49
    },
    {
      "cell_type": "code",
      "source": [
        "from google.colab import drive\n",
        "\n",
        "drive.mount('/content/drive')"
      ],
      "metadata": {
        "colab": {
          "base_uri": "https://localhost:8080/"
        },
        "id": "0MV76U2eYsel",
        "outputId": "95fd10e9-49a7-45cf-f040-62bb4bbe4cd1"
      },
      "execution_count": 40,
      "outputs": [
        {
          "output_type": "stream",
          "name": "stdout",
          "text": [
            "Mounted at /content/drive\n"
          ]
        }
      ]
    },
    {
      "cell_type": "code",
      "source": [
        "model.save_pretrained(\"/content/drive/MyDrive/Colab Notebooks/Sirius/project/best\")\n",
        "tokenizer.save_pretrained(\"/content/drive/MyDrive/Colab Notebooks/Sirius/project/tokenizer\")\n",
        "\n",
        "with open(\"/content/drive/MyDrive/Colab Notebooks/Sirius/project/id2label.json\", \"w\") as f:\n",
        "    json.dump(id2label, f, indent=2)"
      ],
      "metadata": {
        "id": "LFlp4gCPR1cJ"
      },
      "execution_count": 50,
      "outputs": []
    },
    {
      "cell_type": "code",
      "source": [
        "!pip install onnx"
      ],
      "metadata": {
        "colab": {
          "base_uri": "https://localhost:8080/"
        },
        "id": "ixeIK8dMYEI8",
        "outputId": "87b8ba43-9276-485f-8e35-ad253579a58e"
      },
      "execution_count": 38,
      "outputs": [
        {
          "output_type": "stream",
          "name": "stdout",
          "text": [
            "Collecting onnx\n",
            "  Downloading onnx-1.17.0-cp310-cp310-manylinux_2_17_x86_64.manylinux2014_x86_64.whl.metadata (16 kB)\n",
            "Requirement already satisfied: numpy>=1.20 in /usr/local/lib/python3.10/dist-packages (from onnx) (1.26.4)\n",
            "Requirement already satisfied: protobuf>=3.20.2 in /usr/local/lib/python3.10/dist-packages (from onnx) (4.25.5)\n",
            "Downloading onnx-1.17.0-cp310-cp310-manylinux_2_17_x86_64.manylinux2014_x86_64.whl (16.0 MB)\n",
            "\u001b[2K   \u001b[90m━━━━━━━━━━━━━━━━━━━━━━━━━━━━━━━━━━━━━━━━\u001b[0m \u001b[32m16.0/16.0 MB\u001b[0m \u001b[31m40.7 MB/s\u001b[0m eta \u001b[36m0:00:00\u001b[0m\n",
            "\u001b[?25hInstalling collected packages: onnx\n",
            "Successfully installed onnx-1.17.0\n"
          ]
        }
      ]
    },
    {
      "cell_type": "code",
      "source": [
        "torch.onnx.export(\n",
        "    model.cpu(), (torch.rand(1, 5).long(), torch.rand(1, 5).long()),\n",
        "    f\"/content/drive/MyDrive/Colab Notebooks/Sirius/project/model.onnx\",\n",
        "    input_names=['input_ids', 'attention_masks'],\n",
        "    output_names=['outputs'],\n",
        "    opset_version=15,\n",
        "    dynamic_axes={\n",
        "        'input_ids': {\n",
        "            0: 'batch_size',\n",
        "            1: 'seq_len'\n",
        "        },\n",
        "        'attention_masks': {\n",
        "            0: 'batch_size',\n",
        "            1: 'seq_len'\n",
        "        },\n",
        "        'outputs': {\n",
        "            0: 'batch_size'\n",
        "        }\n",
        "    }\n",
        ")"
      ],
      "metadata": {
        "id": "CGq7794XTrTb"
      },
      "execution_count": 51,
      "outputs": []
    }
  ]
}