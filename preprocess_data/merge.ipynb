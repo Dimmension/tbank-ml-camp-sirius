{
 "cells": [
  {
   "cell_type": "code",
   "execution_count": 2,
   "metadata": {},
   "outputs": [],
   "source": [
    "import json\n",
    "import pandas as pd"
   ]
  },
  {
   "cell_type": "code",
   "execution_count": 98,
   "metadata": {},
   "outputs": [],
   "source": [
    "gemma = pd.DataFrame(json.load(open('/home/student/katya/tbank-ml-camp-sirius/data/validation_gemma.json')))\n",
    "llama = pd.DataFrame(json.load(open('/home/student/katya/tbank-ml-camp-sirius/data/validation_llama.json')))\n",
    "qwen = pd.DataFrame(json.load(open('/home/student/katya/tbank-ml-camp-sirius/data/validation_qwen.json')))"
   ]
  },
  {
   "cell_type": "code",
   "execution_count": 99,
   "metadata": {},
   "outputs": [
    {
     "data": {
      "text/plain": [
       "((3064, 3), (3064, 3), (3100, 3))"
      ]
     },
     "execution_count": 99,
     "metadata": {},
     "output_type": "execute_result"
    }
   ],
   "source": [
    "gemma.shape, llama.shape, qwen.shape # why"
   ]
  },
  {
   "cell_type": "code",
   "execution_count": 100,
   "metadata": {},
   "outputs": [],
   "source": [
    "def check(set_array_labels, array_labels):\n",
    "    for j, label in enumerate(set_array_labels):\n",
    "        count = array_labels.count(label)\n",
    "        if count >= 2:\n",
    "            return label\n",
    "        if  j == 2:\n",
    "            return \"oos\""
   ]
  },
  {
   "cell_type": "code",
   "execution_count": 101,
   "metadata": {},
   "outputs": [],
   "source": [
    "new_results = []\n",
    "for i, row_qwen in qwen.iterrows():\n",
    "    query_qwen = row_qwen['query']\n",
    "    row_llama, row_gemma = llama[llama['query'] == query_qwen], gemma[gemma['query'] == query_qwen]\n",
    "    label_llama, label_gemma, label_qwen = row_llama['predicted'].values, row_gemma['predicted'].values, row_qwen['predicted label']\n",
    "    if len(label_llama) != 0:\n",
    "        label_llama, label_gemma = label_llama[0], label_gemma[0]\n",
    "        array_labels = [label_llama, label_gemma, label_qwen]\n",
    "        set_array_labels = list(set(array_labels))\n",
    "        label_ens = check(set_array_labels, array_labels)\n",
    "    else:\n",
    "        label_ens = label_qwen\n",
    "            \n",
    "    new_results.append({'query': query_qwen, 'initial': row_qwen['initial label'], 'predicted': label_ens})"
   ]
  },
  {
   "cell_type": "code",
   "execution_count": 102,
   "metadata": {},
   "outputs": [],
   "source": [
    "with open('/home/student/katya/tbank-ml-camp-sirius/data/merged_results_validation.json', \"w\") as f:\n",
    "    json.dump(new_results, f, indent=4)"
   ]
  },
  {
   "cell_type": "code",
   "execution_count": 103,
   "metadata": {},
   "outputs": [
    {
     "data": {
      "text/plain": [
       "3100"
      ]
     },
     "execution_count": 103,
     "metadata": {},
     "output_type": "execute_result"
    }
   ],
   "source": [
    "len(new_results)"
   ]
  },
  {
   "cell_type": "code",
   "execution_count": 104,
   "metadata": {},
   "outputs": [
    {
     "data": {
      "text/plain": [
       "predicted\n",
       "oos                      143\n",
       "shopping_list_update      31\n",
       "restaurant_suggestion     27\n",
       "todo_list_update          27\n",
       "oil_change_when           26\n",
       "                        ... \n",
       "schedule_maintenance      14\n",
       "how_old_are_you           14\n",
       "bill_balance              13\n",
       "todo_list                 12\n",
       "shopping_list             11\n",
       "Name: count, Length: 151, dtype: int64"
      ]
     },
     "execution_count": 104,
     "metadata": {},
     "output_type": "execute_result"
    }
   ],
   "source": [
    "df = pd.DataFrame(new_results)\n",
    "df['predicted'].value_counts()"
   ]
  },
  {
   "cell_type": "code",
   "execution_count": 106,
   "metadata": {},
   "outputs": [
    {
     "data": {
      "text/plain": [
       "predicted\n",
       "oos                      500\n",
       "restaurant_suggestion    128\n",
       "update_playlist          127\n",
       "who_made_you             125\n",
       "shopping_list_update     125\n",
       "                        ... \n",
       "sync_device               64\n",
       "order                     64\n",
       "play_music                62\n",
       "next_holiday              61\n",
       "where_are_you_from        60\n",
       "Name: count, Length: 151, dtype: int64"
      ]
     },
     "execution_count": 106,
     "metadata": {},
     "output_type": "execute_result"
    }
   ],
   "source": [
    "full_train = pd.DataFrame(json.load(open('/home/student/katya/tbank-ml-camp-sirius/data/merged_results_train.json')))\n",
    "full_train['predicted'].value_counts()"
   ]
  },
  {
   "cell_type": "code",
   "execution_count": 111,
   "metadata": {},
   "outputs": [],
   "source": [
    "for i in full_train['predicted'].unique():\n",
    "    if i not in df['predicted'].unique():\n",
    "        print(i)"
   ]
  },
  {
   "cell_type": "code",
   "execution_count": null,
   "metadata": {},
   "outputs": [],
   "source": []
  }
 ],
 "metadata": {
  "kernelspec": {
   "display_name": "aboba",
   "language": "python",
   "name": "python3"
  },
  "language_info": {
   "codemirror_mode": {
    "name": "ipython",
    "version": 3
   },
   "file_extension": ".py",
   "mimetype": "text/x-python",
   "name": "python",
   "nbconvert_exporter": "python",
   "pygments_lexer": "ipython3",
   "version": "3.10.12"
  }
 },
 "nbformat": 4,
 "nbformat_minor": 2
}
