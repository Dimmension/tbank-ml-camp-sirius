{
 "cells": [
  {
   "cell_type": "code",
   "execution_count": 2,
   "metadata": {},
   "outputs": [],
   "source": [
    "import json\n",
    "import pandas as pd"
   ]
  },
  {
   "cell_type": "code",
   "execution_count": 20,
   "metadata": {},
   "outputs": [
    {
     "data": {
      "text/plain": [
       "['train', 'val', 'oos_train', 'oos_val']"
      ]
     },
     "execution_count": 20,
     "metadata": {},
     "output_type": "execute_result"
    }
   ],
   "source": [
    "df = json.load(open('/home/student/katya/tbank-ml-camp-sirius/data/data_full_spoiled.json'))\n",
    "subs = list(df)\n",
    "subs"
   ]
  },
  {
   "cell_type": "code",
   "execution_count": 32,
   "metadata": {},
   "outputs": [],
   "source": [
    "val = pd.DataFrame(df['val'], columns=['query', 'intent'])\n",
    "oos_val = pd.DataFrame(df['oos_val'], columns=['query', 'intent'])"
   ]
  },
  {
   "cell_type": "code",
   "execution_count": 33,
   "metadata": {},
   "outputs": [],
   "source": [
    "val = val.groupby('intent').agg(list).reset_index()\n",
    "oos_val = oos_val.groupby('intent').agg(list).reset_index()\n",
    "\n",
    "data = {row['intent']: row['query'] for i, row in val.iterrows()}\n",
    "oos_data = {row['intent']: row['query'] for i, row in oos_val.iterrows()}"
   ]
  },
  {
   "cell_type": "code",
   "execution_count": 34,
   "metadata": {},
   "outputs": [],
   "source": [
    "with open('/home/student/katya/tbank-ml-camp-sirius/data/data_testing.json', \"w\") as f:\n",
    "    json.dump(data, f, indent=4)\n",
    "    \n",
    "with open('/home/student/katya/tbank-ml-camp-sirius/data/data_testing_oos.json', \"w\") as f:\n",
    "    json.dump(oos_data, f, indent=4)"
   ]
  },
  {
   "cell_type": "code",
   "execution_count": 17,
   "metadata": {},
   "outputs": [],
   "source": [
    "data = json.load(open('/home/student/katya/tbank-ml-camp-sirius/data/data_testing.json'))\n",
    "oos_data = json.load(open('/home/student/katya/tbank-ml-camp-sirius/data/data_testing_oos.json'))\n",
    "data['oos'] = oos_data['oos']"
   ]
  },
  {
   "cell_type": "code",
   "execution_count": 18,
   "metadata": {},
   "outputs": [],
   "source": [
    "with open('/home/student/katya/tbank-ml-camp-sirius/data/data_testing_full.json', \"w\") as f:\n",
    "    json.dump(data, f, indent=4)"
   ]
  },
  {
   "cell_type": "code",
   "execution_count": null,
   "metadata": {},
   "outputs": [],
   "source": []
  },
  {
   "cell_type": "code",
   "execution_count": 4,
   "metadata": {},
   "outputs": [],
   "source": [
    "data = json.load(open('/home/student/katya/tbank-ml-camp-sirius/data/result.json'))"
   ]
  },
  {
   "cell_type": "code",
   "execution_count": 6,
   "metadata": {},
   "outputs": [],
   "source": [
    "with open('/home/student/katya/tbank-ml-camp-sirius/data/result1.json', \"w\") as f:\n",
    "    json.dump(data, f, indent=4)"
   ]
  },
  {
   "cell_type": "code",
   "execution_count": null,
   "metadata": {},
   "outputs": [],
   "source": []
  }
 ],
 "metadata": {
  "kernelspec": {
   "display_name": "aboba",
   "language": "python",
   "name": "python3"
  },
  "language_info": {
   "codemirror_mode": {
    "name": "ipython",
    "version": 3
   },
   "file_extension": ".py",
   "mimetype": "text/x-python",
   "name": "python",
   "nbconvert_exporter": "python",
   "pygments_lexer": "ipython3",
   "version": "3.10.12"
  }
 },
 "nbformat": 4,
 "nbformat_minor": 2
}
