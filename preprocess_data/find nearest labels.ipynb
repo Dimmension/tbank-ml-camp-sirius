{
 "cells": [
  {
   "cell_type": "code",
   "execution_count": 2,
   "metadata": {
    "execution": {
     "iopub.execute_input": "2024-12-11T12:31:23.634849Z",
     "iopub.status.busy": "2024-12-11T12:31:23.634538Z",
     "iopub.status.idle": "2024-12-11T12:31:24.084899Z",
     "shell.execute_reply": "2024-12-11T12:31:24.083836Z",
     "shell.execute_reply.started": "2024-12-11T12:31:23.634812Z"
    },
    "trusted": true
   },
   "outputs": [
    {
     "name": "stderr",
     "output_type": "stream",
     "text": [
      "/home/student/aboba/lib/python3.10/site-packages/tqdm/auto.py:21: TqdmWarning: IProgress not found. Please update jupyter and ipywidgets. See https://ipywidgets.readthedocs.io/en/stable/user_install.html\n",
      "  from .autonotebook import tqdm as notebook_tqdm\n"
     ]
    }
   ],
   "source": [
    "import json\n",
    "import pandas as pd\n",
    "import numpy as np\n",
    "from FlagEmbedding import BGEM3FlagModel\n",
    "from tqdm.auto import tqdm"
   ]
  },
  {
   "cell_type": "code",
   "execution_count": 3,
   "metadata": {
    "execution": {
     "iopub.execute_input": "2024-12-11T12:31:24.087924Z",
     "iopub.status.busy": "2024-12-11T12:31:24.087401Z",
     "iopub.status.idle": "2024-12-11T12:31:24.092985Z",
     "shell.execute_reply": "2024-12-11T12:31:24.091865Z",
     "shell.execute_reply.started": "2024-12-11T12:31:24.087878Z"
    },
    "trusted": true
   },
   "outputs": [],
   "source": [
    "descriptions = json.load(open('/home/student/katya/tbank-ml-camp-sirius/data/labels_with_description.json'))\n",
    "descriptions = {' '.join(label.split('_')): descriptions[label] for label in list(descriptions)}\n",
    "labels = list(descriptions)"
   ]
  },
  {
   "cell_type": "code",
   "execution_count": 4,
   "metadata": {
    "execution": {
     "iopub.execute_input": "2024-12-11T12:15:10.814766Z",
     "iopub.status.busy": "2024-12-11T12:15:10.814230Z",
     "iopub.status.idle": "2024-12-11T12:15:10.818444Z",
     "shell.execute_reply": "2024-12-11T12:15:10.817454Z",
     "shell.execute_reply.started": "2024-12-11T12:15:10.814732Z"
    },
    "trusted": true
   },
   "outputs": [
    {
     "name": "stderr",
     "output_type": "stream",
     "text": [
      "Fetching 30 files: 100%|██████████| 30/30 [00:00<00:00, 150693.56it/s]\n"
     ]
    }
   ],
   "source": [
    "model = BGEM3FlagModel('BAAI/bge-m3', use_bfp16=True) "
   ]
  },
  {
   "cell_type": "code",
   "execution_count": 5,
   "metadata": {
    "execution": {
     "iopub.execute_input": "2024-12-11T12:15:15.778117Z",
     "iopub.status.busy": "2024-12-11T12:15:15.777826Z",
     "iopub.status.idle": "2024-12-11T12:15:15.782127Z",
     "shell.execute_reply": "2024-12-11T12:15:15.781201Z",
     "shell.execute_reply.started": "2024-12-11T12:15:15.778093Z"
    },
    "trusted": true
   },
   "outputs": [
    {
     "name": "stderr",
     "output_type": "stream",
     "text": [
      "  0%|          | 0/150 [00:00<?, ?it/s]You're using a XLMRobertaTokenizerFast tokenizer. Please note that with a fast tokenizer, using the `__call__` method is faster than using a method to encode the text followed by a call to the `pad` method to get a padded encoding.\n",
      "100%|██████████| 150/150 [16:25<00:00,  6.57s/it]\n"
     ]
    }
   ],
   "source": [
    "n = len(descriptions)\n",
    "pairs = []\n",
    "nearest_labels = {}\n",
    "\n",
    "for i in tqdm(range(n)):\n",
    "    embeddings_1 = model.encode(descriptions[labels[i]])['dense_vecs']\n",
    "    cur_nearest = []\n",
    "    max_similarity = 0\n",
    "    for j in range(n):\n",
    "        if i != j:\n",
    "            embeddings_2 = model.encode(descriptions[labels[j]])['dense_vecs']\n",
    "            similarity = embeddings_1 @ embeddings_2.T\n",
    "            if similarity >= max_similarity:\n",
    "                cur_nearest.append(labels[j])\n",
    "                max_similarity = similarity\n",
    "                if len(cur_nearest) > 3:\n",
    "                    cur_nearest.pop(0)\n",
    "                \n",
    "    nearest_labels[labels[i]] = cur_nearest"
   ]
  },
  {
   "cell_type": "code",
   "execution_count": 6,
   "metadata": {},
   "outputs": [
    {
     "data": {
      "text/plain": [
       "{'translate': ['transfer', 'timer', 'definition'],\n",
       " 'transfer': ['payday', 'application status', 'balance'],\n",
       " 'timer': ['time', 'reminder update', 'alarm'],\n",
       " 'definition': ['translate'],\n",
       " 'meaning of life': ['fun fact', 'application status', 'shopping list update'],\n",
       " 'insurance change': ['travel alert', 'oil change how', 'rollover 401k'],\n",
       " 'find phone': ['definition', 'sync device', 'report lost card'],\n",
       " 'travel alert': ['insurance change', 'fun fact', 'distance'],\n",
       " 'pto request': ['timer', 'pto request status', 'pto balance'],\n",
       " 'improve credit score': ['application status',\n",
       "  'credit score',\n",
       "  'credit limit change'],\n",
       " 'fun fact': ['translate'],\n",
       " 'change language': ['translate', 'change user name'],\n",
       " 'payday': ['pto request', 'application status', 'balance'],\n",
       " 'replacement card duration': ['credit limit change',\n",
       "  'redeem rewards',\n",
       "  'expiration date'],\n",
       " 'time': ['translate', 'distance', 'timezone'],\n",
       " 'application status': ['transfer', 'shopping list update', 'balance'],\n",
       " 'flight status': ['travel alert', 'distance', 'order status'],\n",
       " 'flip coin': ['spending history', 'sync device', 'roll dice'],\n",
       " 'change user name': ['change language', 'user name', 'change ai name'],\n",
       " 'where are you from': ['travel alert', 'fun fact', 'who made you'],\n",
       " 'shopping list update': ['translate', 'transfer', 'application status'],\n",
       " 'what can i ask you': ['where are you from',\n",
       "  'who made you',\n",
       "  'what is your name'],\n",
       " 'maybe': ['freeze account', 'yes', 'no'],\n",
       " 'oil change how': ['definition', 'insurance change', 'gas type'],\n",
       " 'restaurant reservation': ['confirm reservation',\n",
       "  'restaurant suggestion',\n",
       "  'how busy'],\n",
       " 'balance': ['translate', 'transfer'],\n",
       " 'confirm reservation': ['translate', 'definition', 'travel alert'],\n",
       " 'freeze account': ['spending history', 'travel notification', 'cancel'],\n",
       " 'rollover 401k': ['translate', 'insurance change'],\n",
       " 'who made you': ['definition', 'fun fact', 'where are you from'],\n",
       " 'distance': ['translate', 'travel alert', 'time'],\n",
       " 'user name': ['insurance change', 'fun fact', 'change user name'],\n",
       " 'timezone': ['translate', 'time'],\n",
       " 'next song': ['todo list update', 'what song', 'update playlist'],\n",
       " 'transactions': ['rewards balance', 'spending history', 'shopping list'],\n",
       " 'restaurant suggestion': ['travel alert',\n",
       "  'restaurant reservation',\n",
       "  'travel suggestion'],\n",
       " 'rewards balance': ['application status', 'balance', 'credit limit'],\n",
       " 'pay bill': ['calculator', 'bill due', 'min payment'],\n",
       " 'spending history': ['fun fact', 'balance', 'transactions'],\n",
       " 'pto request status': ['insurance change', 'pto request', 'pto balance'],\n",
       " 'credit score': ['improve credit score', 'balance', 'rewards balance'],\n",
       " 'new card': ['restaurant suggestion', 'expiration date', 'card declined'],\n",
       " 'lost luggage': ['insurance change', 'find phone', 'travel alert'],\n",
       " 'repeat': ['spending history', 'reminder', 'todo list'],\n",
       " 'mpg': ['oil change how', 'distance', 'gas type'],\n",
       " 'oil change when': ['replacement card duration',\n",
       "  'oil change how',\n",
       "  'tire change'],\n",
       " 'yes': ['maybe', 'no', 'thank you'],\n",
       " 'travel suggestion': ['insurance change',\n",
       "  'travel alert',\n",
       "  'restaurant suggestion'],\n",
       " 'insurance': ['translate', 'definition', 'insurance change'],\n",
       " 'todo list update': ['insurance change', 'reminder', 'todo list'],\n",
       " 'reminder': ['todo list update', 'reminder update', 'todo list'],\n",
       " 'change speed': ['change user name', 'change accent', 'change volume'],\n",
       " 'tire pressure': ['travel alert', 'gas type', 'tire change'],\n",
       " 'no': ['find phone', 'flip coin', 'maybe'],\n",
       " 'apr': ['international fees', 'taxes', 'interest rate'],\n",
       " 'nutrition info': ['fun fact', 'cook time', 'ingredients list'],\n",
       " 'calendar': ['restaurant suggestion', 'date', 'meeting schedule'],\n",
       " 'uber': ['travel alert', 'restaurant reservation', 'schedule meeting'],\n",
       " 'calculator': ['fun fact', 'restaurant suggestion', 'pay bill'],\n",
       " 'date': ['pto request', 'time', 'timezone'],\n",
       " 'carry on': ['travel alert', 'flight status', 'lost luggage'],\n",
       " 'pto used': ['pto request', 'pto request status', 'pto balance'],\n",
       " 'schedule maintenance': ['date', 'schedule meeting', 'last maintenance'],\n",
       " 'travel notification': ['travel alert', 'freeze account', 'report fraud'],\n",
       " 'sync device': ['translate', 'find phone', 'reminder update'],\n",
       " 'thank you': ['find phone', 'yes', 'greeting'],\n",
       " 'roll dice': ['travel alert', 'fun fact', 'flip coin'],\n",
       " 'food last': ['travel alert', 'oil change when', 'insurance'],\n",
       " 'cook time': ['restaurant suggestion', 'nutrition info', 'ingredients list'],\n",
       " 'reminder update': ['translate', 'timer', 'reminder'],\n",
       " 'report lost card': ['insurance change', 'find phone', 'damaged card'],\n",
       " 'ingredient substitution': ['fun fact', 'restaurant suggestion', 'recipe'],\n",
       " 'make call': ['sync device', 'reminder update', 'routing'],\n",
       " 'alarm': ['translate', 'timer'],\n",
       " 'todo list': ['spending history', 'repeat', 'reminder'],\n",
       " 'change accent': ['change language', 'change user name', 'change speed'],\n",
       " 'w2': ['insurance change', 'pto request', 'replacement card duration'],\n",
       " 'bill due': ['payday', 'pay bill', 'bill balance'],\n",
       " 'calories': ['rewards balance', 'nutrition info', 'ingredient substitution'],\n",
       " 'damaged card': ['insurance change', 'pay bill', 'report lost card'],\n",
       " 'restaurant reviews': ['travel alert',\n",
       "  'restaurant reservation',\n",
       "  'restaurant suggestion'],\n",
       " 'routing': ['balance', 'make call', 'pin change'],\n",
       " 'do you have pets': ['change user name',\n",
       "  'where are you from',\n",
       "  'who do you work for'],\n",
       " 'schedule meeting': ['calendar', 'uber', 'date'],\n",
       " 'gas type': ['insurance change', 'oil change how', 'mpg'],\n",
       " 'plug type': ['time', 'measurement conversion', 'weather'],\n",
       " 'tire change': ['insurance change', 'oil change when', 'tire pressure'],\n",
       " 'exchange rate': ['time', 'flip coin', 'spending history'],\n",
       " 'next holiday': ['travel alert', 'restaurant suggestion', 'calendar'],\n",
       " 'change volume': ['flip coin', 'change user name', 'change speed'],\n",
       " 'who do you work for': ['fun fact', 'change user name', 'where are you from'],\n",
       " 'credit limit': ['replacement card duration', 'balance', 'rewards balance'],\n",
       " 'how busy': ['translate', 'timer', 'time'],\n",
       " 'accept reservations': ['replacement card duration',\n",
       "  'restaurant reservation',\n",
       "  'restaurant reviews'],\n",
       " 'order status': ['travel alert', 'time', 'flight status'],\n",
       " 'pin change': ['rollover 401k', 'direct deposit', 'credit limit change'],\n",
       " 'goodbye': ['yes', 'no', 'thank you'],\n",
       " 'account blocked': ['report lost card', 'report fraud', 'card declined'],\n",
       " 'what song': ['user name', 'what is your name', 'play music'],\n",
       " 'international fees': ['report fraud', 'expiration date', 'card declined'],\n",
       " 'last maintenance': ['spending history', 'date', 'schedule maintenance'],\n",
       " 'meeting schedule': ['fun fact', 'restaurant suggestion', 'calendar'],\n",
       " 'ingredients list': ['reminder', 'nutrition info', 'cook time'],\n",
       " 'report fraud': ['pay bill', 'travel notification', 'report lost card'],\n",
       " 'measurement conversion': ['flip coin', 'credit score', 'weather'],\n",
       " 'smart home': ['travel alert', 'fun fact', 'current location'],\n",
       " 'book hotel': ['how busy', 'book flight', 'car rental'],\n",
       " 'current location': ['insurance change', 'travel alert', 'time'],\n",
       " 'weather': ['travel alert', 'time', 'timezone'],\n",
       " 'taxes': ['calculator', 'bill due', 'interest rate'],\n",
       " 'min payment': ['fun fact', 'restaurant suggestion', 'pay bill'],\n",
       " 'whisper mode': ['change user name', 'change speed', 'change volume'],\n",
       " 'cancel': ['change user name', 'freeze account', 'change volume'],\n",
       " 'international visa': ['carry on', 'weather', 'vaccines'],\n",
       " 'vaccines': ['insurance change', 'travel alert', 'international visa'],\n",
       " 'pto balance': ['insurance change', 'pto request', 'pto used'],\n",
       " 'directions': ['travel alert', 'restaurant suggestion', 'current location'],\n",
       " 'spelling': ['update playlist', 'meal suggestion', 'order'],\n",
       " 'greeting': ['thank you', 'what are your hobbies', 'tell joke'],\n",
       " 'reset settings': ['translate', 'insurance change', 'change language'],\n",
       " 'what is your name': ['insurance change', 'change user name', 'user name'],\n",
       " 'direct deposit': ['pin change', 'interest rate', 'credit limit change'],\n",
       " 'interest rate': ['insurance change', 'balance', 'apr'],\n",
       " 'credit limit change': ['transfer', 'insurance change', 'pin change'],\n",
       " 'what are your hobbies': ['who do you work for',\n",
       "  'greeting',\n",
       "  'how old are you'],\n",
       " 'book flight': ['restaurant reservation', 'distance', 'uber'],\n",
       " 'shopping list': ['transactions', 'todo list update', 'reminder'],\n",
       " 'text': ['restaurant suggestion', 'calendar', 'make call'],\n",
       " 'bill balance': ['balance', 'pay bill', 'bill due'],\n",
       " 'share location': ['time', 'timezone', 'current location'],\n",
       " 'redeem rewards': ['transfer',\n",
       "  'replacement card duration',\n",
       "  'rewards balance'],\n",
       " 'play music': ['user name', 'change accent', 'what song'],\n",
       " 'calendar update': ['repeat', 'todo list update', 'reminder update'],\n",
       " 'are you a bot': ['change user name',\n",
       "  'where are you from',\n",
       "  'who do you work for'],\n",
       " 'gas': ['mpg', 'tire pressure', 'gas type'],\n",
       " 'expiration date': ['insurance change',\n",
       "  'replacement card duration',\n",
       "  'bill due'],\n",
       " 'update playlist': ['repeat', 'spelling', 'calendar update'],\n",
       " 'cancel reservation': ['time',\n",
       "  'restaurant reservation',\n",
       "  'restaurant suggestion'],\n",
       " 'tell joke': ['thank you', 'change volume', 'greeting'],\n",
       " 'change ai name': ['insurance change', 'change language', 'change user name'],\n",
       " 'how old are you': ['who do you work for',\n",
       "  'greeting',\n",
       "  'what are your hobbies'],\n",
       " 'car rental': ['timezone', 'date', 'schedule maintenance'],\n",
       " 'jump start': ['travel alert', 'oil change how', 'calculator'],\n",
       " 'meal suggestion': ['fun fact',\n",
       "  'restaurant reservation',\n",
       "  'restaurant suggestion'],\n",
       " 'recipe': ['travel alert', 'fun fact', 'restaurant suggestion'],\n",
       " 'income': ['fun fact', 'payday', 'balance'],\n",
       " 'order': ['nutrition info', 'ingredients list', 'spelling'],\n",
       " 'traffic': ['travel alert', 'distance', 'current location'],\n",
       " 'order checks': ['account blocked', 'credit limit change', 'order'],\n",
       " 'card declined': ['pay bill', 'report lost card', 'account blocked']}"
      ]
     },
     "execution_count": 6,
     "metadata": {},
     "output_type": "execute_result"
    }
   ],
   "source": [
    "nearest_labels"
   ]
  },
  {
   "cell_type": "code",
   "execution_count": 7,
   "metadata": {
    "execution": {
     "iopub.execute_input": "2024-12-11T11:36:14.498695Z",
     "iopub.status.busy": "2024-12-11T11:36:14.498369Z",
     "iopub.status.idle": "2024-12-11T11:36:14.515972Z",
     "shell.execute_reply": "2024-12-11T11:36:14.515262Z",
     "shell.execute_reply.started": "2024-12-11T11:36:14.498659Z"
    },
    "trusted": true
   },
   "outputs": [],
   "source": [
    "with open('/home/student/katya/tbank-ml-camp-sirius/data/labels_with_description.json', \"w\") as f:\n",
    "    json.dump(descriptions, f, indent=4)\n",
    "with open('/home/student/katya/tbank-ml-camp-sirius/data/nearest_labels.json', \"w\") as f:\n",
    "    json.dump(nearest_labels, f, indent=4)"
   ]
  },
  {
   "cell_type": "code",
   "execution_count": null,
   "metadata": {
    "trusted": true
   },
   "outputs": [],
   "source": []
  }
 ],
 "metadata": {
  "colab": {
   "collapsed_sections": [
    "IsJpIuv31d-_",
    "8dxw_cUx1d_A",
    "0uozwoRw1d_B"
   ],
   "provenance": []
  },
  "kaggle": {
   "accelerator": "gpu",
   "dataSources": [
    {
     "datasetId": 6264491,
     "sourceId": 10148109,
     "sourceType": "datasetVersion"
    },
    {
     "datasetId": 6270634,
     "sourceId": 10156229,
     "sourceType": "datasetVersion"
    },
    {
     "datasetId": 6271781,
     "sourceId": 10157699,
     "sourceType": "datasetVersion"
    },
    {
     "datasetId": 6274670,
     "sourceId": 10161451,
     "sourceType": "datasetVersion"
    }
   ],
   "dockerImageVersionId": 30804,
   "isGpuEnabled": true,
   "isInternetEnabled": true,
   "language": "python",
   "sourceType": "notebook"
  },
  "kernelspec": {
   "display_name": "aboba",
   "language": "python",
   "name": "python3"
  },
  "language_info": {
   "codemirror_mode": {
    "name": "ipython",
    "version": 3
   },
   "file_extension": ".py",
   "mimetype": "text/x-python",
   "name": "python",
   "nbconvert_exporter": "python",
   "pygments_lexer": "ipython3",
   "version": "3.10.12"
  }
 },
 "nbformat": 4,
 "nbformat_minor": 4
}
