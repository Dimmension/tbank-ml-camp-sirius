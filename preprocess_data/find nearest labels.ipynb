{
 "cells": [
  {
   "cell_type": "code",
   "execution_count": 1,
   "metadata": {
    "execution": {
     "iopub.execute_input": "2024-12-11T12:31:23.634849Z",
     "iopub.status.busy": "2024-12-11T12:31:23.634538Z",
     "iopub.status.idle": "2024-12-11T12:31:24.084899Z",
     "shell.execute_reply": "2024-12-11T12:31:24.083836Z",
     "shell.execute_reply.started": "2024-12-11T12:31:23.634812Z"
    },
    "trusted": true
   },
   "outputs": [
    {
     "name": "stderr",
     "output_type": "stream",
     "text": [
      "/home/student/aboba/lib/python3.10/site-packages/tqdm/auto.py:21: TqdmWarning: IProgress not found. Please update jupyter and ipywidgets. See https://ipywidgets.readthedocs.io/en/stable/user_install.html\n",
      "  from .autonotebook import tqdm as notebook_tqdm\n"
     ]
    }
   ],
   "source": [
    "import json\n",
    "import pandas as pd\n",
    "import numpy as np\n",
    "from FlagEmbedding import BGEM3FlagModel\n",
    "from tqdm.auto import tqdm"
   ]
  },
  {
   "cell_type": "code",
   "execution_count": 3,
   "metadata": {
    "execution": {
     "iopub.execute_input": "2024-12-11T12:31:24.087924Z",
     "iopub.status.busy": "2024-12-11T12:31:24.087401Z",
     "iopub.status.idle": "2024-12-11T12:31:24.092985Z",
     "shell.execute_reply": "2024-12-11T12:31:24.091865Z",
     "shell.execute_reply.started": "2024-12-11T12:31:24.087878Z"
    },
    "trusted": true
   },
   "outputs": [],
   "source": [
    "descriptions = json.load(open('/home/student/katya/tbank-ml-camp-sirius/data/labels_with_description.json'))\n",
    "descriptions = {' '.join(label.split('_')): descriptions[label] for label in list(descriptions)}\n",
    "labels = list(descriptions)"
   ]
  },
  {
   "cell_type": "code",
   "execution_count": 4,
   "metadata": {
    "execution": {
     "iopub.execute_input": "2024-12-11T12:15:10.814766Z",
     "iopub.status.busy": "2024-12-11T12:15:10.814230Z",
     "iopub.status.idle": "2024-12-11T12:15:10.818444Z",
     "shell.execute_reply": "2024-12-11T12:15:10.817454Z",
     "shell.execute_reply.started": "2024-12-11T12:15:10.814732Z"
    },
    "trusted": true
   },
   "outputs": [
    {
     "name": "stderr",
     "output_type": "stream",
     "text": [
      "Fetching 30 files: 100%|██████████| 30/30 [00:00<00:00, 150693.56it/s]\n"
     ]
    }
   ],
   "source": [
    "model = BGEM3FlagModel('BAAI/bge-m3', use_bfp16=True) "
   ]
  },
  {
   "cell_type": "code",
   "execution_count": 5,
   "metadata": {
    "execution": {
     "iopub.execute_input": "2024-12-11T12:15:15.778117Z",
     "iopub.status.busy": "2024-12-11T12:15:15.777826Z",
     "iopub.status.idle": "2024-12-11T12:15:15.782127Z",
     "shell.execute_reply": "2024-12-11T12:15:15.781201Z",
     "shell.execute_reply.started": "2024-12-11T12:15:15.778093Z"
    },
    "trusted": true
   },
   "outputs": [
    {
     "name": "stderr",
     "output_type": "stream",
     "text": [
      "  0%|          | 0/150 [00:00<?, ?it/s]You're using a XLMRobertaTokenizerFast tokenizer. Please note that with a fast tokenizer, using the `__call__` method is faster than using a method to encode the text followed by a call to the `pad` method to get a padded encoding.\n",
      "100%|██████████| 150/150 [16:25<00:00,  6.57s/it]\n"
     ]
    }
   ],
   "source": [
    "n = len(descriptions)\n",
    "pairs = []\n",
    "nearest_labels = {}\n",
    "\n",
    "for i in tqdm(range(n)):\n",
    "    embeddings_1 = model.encode(descriptions[labels[i]])['dense_vecs']\n",
    "    cur_nearest = []\n",
    "    max_similarity = 0\n",
    "    for j in range(n):\n",
    "        if i != j:\n",
    "            embeddings_2 = model.encode(descriptions[labels[j]])['dense_vecs']\n",
    "            similarity = embeddings_1 @ embeddings_2.T\n",
    "            if similarity >= max_similarity:\n",
    "                cur_nearest.append(labels[j])\n",
    "                max_similarity = similarity\n",
    "                if len(cur_nearest) > 3:\n",
    "                    cur_nearest.pop(0)\n",
    "                \n",
    "    nearest_labels[labels[i]] = cur_nearest"
   ]
  },
  {
   "cell_type": "code",
   "execution_count": null,
   "metadata": {},
   "outputs": [],
   "source": [
    "nearest_labels"
   ]
  },
  {
   "cell_type": "code",
   "execution_count": 7,
   "metadata": {
    "execution": {
     "iopub.execute_input": "2024-12-11T11:36:14.498695Z",
     "iopub.status.busy": "2024-12-11T11:36:14.498369Z",
     "iopub.status.idle": "2024-12-11T11:36:14.515972Z",
     "shell.execute_reply": "2024-12-11T11:36:14.515262Z",
     "shell.execute_reply.started": "2024-12-11T11:36:14.498659Z"
    },
    "trusted": true
   },
   "outputs": [],
   "source": [
    "with open('/home/student/katya/tbank-ml-camp-sirius/data/labels_with_description.json', \"w\") as f:\n",
    "    json.dump(descriptions, f, indent=4)\n",
    "with open('/home/student/katya/tbank-ml-camp-sirius/data/nearest_labels.json', \"w\") as f:\n",
    "    json.dump(nearest_labels, f, indent=4)"
   ]
  },
  {
   "cell_type": "code",
   "execution_count": 3,
   "metadata": {
    "trusted": true
   },
   "outputs": [],
   "source": [
    "descriptions = json.load(open('/home/student/katya/tbank-ml-camp-sirius/data/labels_with_description.json'))\n",
    "descriptions = {'_'.join(label.split()): descriptions[label]  for label in list(descriptions)}"
   ]
  },
  {
   "cell_type": "code",
   "execution_count": 9,
   "metadata": {},
   "outputs": [],
   "source": [
    "nearest_labels = json.load(open('/home/student/katya/tbank-ml-camp-sirius/data/nearest_labels.json'))\n",
    "new_nearest_labels = {}\n",
    "for label in list(nearest_labels):\n",
    "    nearest = nearest_labels[label]\n",
    "    new_nearest_labels['_'.join(label.split())] = ['_'.join(l.split()) for l in nearest]"
   ]
  },
  {
   "cell_type": "code",
   "execution_count": 6,
   "metadata": {},
   "outputs": [],
   "source": [
    "new_nearest_labels = {}\n",
    "for label in list(nearest_labels):\n",
    "    nearest = nearest_labels[label]\n",
    "    new_nearest_labels['_'.join(label.split())] = ['_'.join(l.split()) for l in nearest]"
   ]
  },
  {
   "cell_type": "code",
   "execution_count": 10,
   "metadata": {},
   "outputs": [],
   "source": [
    "with open('/home/student/katya/tbank-ml-camp-sirius/data/labels_with_description.json', \"w\") as f:\n",
    "    json.dump(descriptions, f, indent=4)\n",
    "with open('/home/student/katya/tbank-ml-camp-sirius/data/nearest_labels.json', \"w\") as f:\n",
    "    json.dump(new_nearest_labels, f, indent=4)"
   ]
  },
  {
   "cell_type": "code",
   "execution_count": null,
   "metadata": {},
   "outputs": [],
   "source": []
  }
 ],
 "metadata": {
  "colab": {
   "collapsed_sections": [
    "IsJpIuv31d-_",
    "8dxw_cUx1d_A",
    "0uozwoRw1d_B"
   ],
   "provenance": []
  },
  "kaggle": {
   "accelerator": "gpu",
   "dataSources": [
    {
     "datasetId": 6264491,
     "sourceId": 10148109,
     "sourceType": "datasetVersion"
    },
    {
     "datasetId": 6270634,
     "sourceId": 10156229,
     "sourceType": "datasetVersion"
    },
    {
     "datasetId": 6271781,
     "sourceId": 10157699,
     "sourceType": "datasetVersion"
    },
    {
     "datasetId": 6274670,
     "sourceId": 10161451,
     "sourceType": "datasetVersion"
    }
   ],
   "dockerImageVersionId": 30804,
   "isGpuEnabled": true,
   "isInternetEnabled": true,
   "language": "python",
   "sourceType": "notebook"
  },
  "kernelspec": {
   "display_name": "aboba",
   "language": "python",
   "name": "python3"
  },
  "language_info": {
   "codemirror_mode": {
    "name": "ipython",
    "version": 3
   },
   "file_extension": ".py",
   "mimetype": "text/x-python",
   "name": "python",
   "nbconvert_exporter": "python",
   "pygments_lexer": "ipython3",
   "version": "3.10.12"
  }
 },
 "nbformat": 4,
 "nbformat_minor": 4
}
