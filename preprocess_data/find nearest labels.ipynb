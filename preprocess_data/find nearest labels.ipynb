{
 "cells": [
  {
   "cell_type": "code",
   "execution_count": 1,
   "metadata": {
    "execution": {
     "iopub.execute_input": "2024-12-11T12:31:23.634849Z",
     "iopub.status.busy": "2024-12-11T12:31:23.634538Z",
     "iopub.status.idle": "2024-12-11T12:31:24.084899Z",
     "shell.execute_reply": "2024-12-11T12:31:24.083836Z",
     "shell.execute_reply.started": "2024-12-11T12:31:23.634812Z"
    }
   },
   "outputs": [
    {
     "name": "stderr",
     "output_type": "stream",
     "text": [
      "/home/student/aboba/lib/python3.10/site-packages/tqdm/auto.py:21: TqdmWarning: IProgress not found. Please update jupyter and ipywidgets. See https://ipywidgets.readthedocs.io/en/stable/user_install.html\n",
      "  from .autonotebook import tqdm as notebook_tqdm\n"
     ]
    }
   ],
   "source": [
    "import json\n",
    "import pandas as pd\n",
    "import numpy as np\n",
    "from FlagEmbedding import BGEM3FlagModel\n",
    "from tqdm.auto import tqdm"
   ]
  },
  {
   "cell_type": "code",
   "execution_count": 3,
   "metadata": {
    "execution": {
     "iopub.execute_input": "2024-12-11T12:31:24.087924Z",
     "iopub.status.busy": "2024-12-11T12:31:24.087401Z",
     "iopub.status.idle": "2024-12-11T12:31:24.092985Z",
     "shell.execute_reply": "2024-12-11T12:31:24.091865Z",
     "shell.execute_reply.started": "2024-12-11T12:31:24.087878Z"
    }
   },
   "outputs": [],
   "source": [
    "descriptions = json.load(open('/home/student/katya/tbank-ml-camp-sirius/data/labels_with_description.json'))\n",
    "descriptions = {' '.join(label.split('_')): descriptions[label] for label in list(descriptions)}\n",
    "labels = list(descriptions)"
   ]
  },
  {
   "cell_type": "code",
   "execution_count": 4,
   "metadata": {
    "execution": {
     "iopub.execute_input": "2024-12-11T12:15:10.814766Z",
     "iopub.status.busy": "2024-12-11T12:15:10.814230Z",
     "iopub.status.idle": "2024-12-11T12:15:10.818444Z",
     "shell.execute_reply": "2024-12-11T12:15:10.817454Z",
     "shell.execute_reply.started": "2024-12-11T12:15:10.814732Z"
    }
   },
   "outputs": [
    {
     "name": "stderr",
     "output_type": "stream",
     "text": [
      "Fetching 30 files: 100%|██████████| 30/30 [00:00<00:00, 150693.56it/s]\n"
     ]
    }
   ],
   "source": [
    "model = BGEM3FlagModel('BAAI/bge-m3', use_bfp16=True) "
   ]
  },
  {
   "cell_type": "code",
   "execution_count": 5,
   "metadata": {
    "execution": {
     "iopub.execute_input": "2024-12-11T12:15:15.778117Z",
     "iopub.status.busy": "2024-12-11T12:15:15.777826Z",
     "iopub.status.idle": "2024-12-11T12:15:15.782127Z",
     "shell.execute_reply": "2024-12-11T12:15:15.781201Z",
     "shell.execute_reply.started": "2024-12-11T12:15:15.778093Z"
    }
   },
   "outputs": [
    {
     "name": "stderr",
     "output_type": "stream",
     "text": [
      "  0%|          | 0/150 [00:00<?, ?it/s]You're using a XLMRobertaTokenizerFast tokenizer. Please note that with a fast tokenizer, using the `__call__` method is faster than using a method to encode the text followed by a call to the `pad` method to get a padded encoding.\n",
      "100%|██████████| 150/150 [16:25<00:00,  6.57s/it]\n"
     ]
    }
   ],
   "source": [
    "n = len(descriptions)\n",
    "pairs = []\n",
    "nearest_labels = {}\n",
    "\n",
    "for i in tqdm(range(n)):\n",
    "    embeddings_1 = model.encode(descriptions[labels[i]])['dense_vecs']\n",
    "    cur_nearest = []\n",
    "    max_similarity = 0\n",
    "    for j in range(n):\n",
    "        if i != j:\n",
    "            embeddings_2 = model.encode(descriptions[labels[j]])['dense_vecs']\n",
    "            similarity = embeddings_1 @ embeddings_2.T\n",
    "            if similarity >= max_similarity:\n",
    "                cur_nearest.append(labels[j])\n",
    "                max_similarity = similarity\n",
    "                if len(cur_nearest) > 3:\n",
    "                    cur_nearest.pop(0)\n",
    "                \n",
    "    nearest_labels[labels[i]] = cur_nearest"
   ]
  },
  {
   "cell_type": "code",
   "execution_count": null,
   "metadata": {},
   "outputs": [],
   "source": [
    "nearest_labels"
   ]
  },
  {
   "cell_type": "code",
   "execution_count": 7,
   "metadata": {
    "execution": {
     "iopub.execute_input": "2024-12-11T11:36:14.498695Z",
     "iopub.status.busy": "2024-12-11T11:36:14.498369Z",
     "iopub.status.idle": "2024-12-11T11:36:14.515972Z",
     "shell.execute_reply": "2024-12-11T11:36:14.515262Z",
     "shell.execute_reply.started": "2024-12-11T11:36:14.498659Z"
    }
   },
   "outputs": [],
   "source": [
    "with open('/home/student/katya/tbank-ml-camp-sirius/data/labels_with_description.json', \"w\") as f:\n",
    "    json.dump(descriptions, f, indent=4)\n",
    "with open('/home/student/katya/tbank-ml-camp-sirius/data/nearest_labels.json', \"w\") as f:\n",
    "    json.dump(nearest_labels, f, indent=4)"
   ]
  },
  {
   "cell_type": "code",
   "execution_count": 3,
   "metadata": {},
   "outputs": [],
   "source": [
    "descriptions = json.load(open('/home/student/katya/tbank-ml-camp-sirius/data/labels_with_description.json'))\n",
    "descriptions = {'_'.join(label.split()): descriptions[label]  for label in list(descriptions)}"
   ]
  },
  {
   "cell_type": "code",
   "execution_count": 9,
   "metadata": {},
   "outputs": [],
   "source": [
    "nearest_labels = json.load(open('/home/student/katya/tbank-ml-camp-sirius/data/nearest_labels.json'))\n",
    "new_nearest_labels = {}\n",
    "for label in list(nearest_labels):\n",
    "    nearest = nearest_labels[label]\n",
    "    new_nearest_labels['_'.join(label.split())] = ['_'.join(l.split()) for l in nearest]"
   ]
  },
  {
   "cell_type": "code",
   "execution_count": 6,
   "metadata": {},
   "outputs": [],
   "source": [
    "new_nearest_labels = {}\n",
    "for label in list(nearest_labels):\n",
    "    nearest = nearest_labels[label]\n",
    "    new_nearest_labels['_'.join(label.split())] = ['_'.join(l.split()) for l in nearest]"
   ]
  },
  {
   "cell_type": "code",
   "execution_count": 10,
   "metadata": {},
   "outputs": [],
   "source": [
    "with open('/home/student/katya/tbank-ml-camp-sirius/data/labels_with_description.json', \"w\") as f:\n",
    "    json.dump(descriptions, f, indent=4)\n",
    "with open('/home/student/katya/tbank-ml-camp-sirius/data/nearest_labels.json', \"w\") as f:\n",
    "    json.dump(new_nearest_labels, f, indent=4)"
   ]
  },
  {
   "cell_type": "code",
   "execution_count": 2,
   "metadata": {},
   "outputs": [
    {
     "data": {
      "text/html": [
       "<div>\n",
       "<style scoped>\n",
       "    .dataframe tbody tr th:only-of-type {\n",
       "        vertical-align: middle;\n",
       "    }\n",
       "\n",
       "    .dataframe tbody tr th {\n",
       "        vertical-align: top;\n",
       "    }\n",
       "\n",
       "    .dataframe thead th {\n",
       "        text-align: right;\n",
       "    }\n",
       "</style>\n",
       "<table border=\"1\" class=\"dataframe\">\n",
       "  <thead>\n",
       "    <tr style=\"text-align: right;\">\n",
       "      <th></th>\n",
       "      <th>text</th>\n",
       "      <th>intent</th>\n",
       "    </tr>\n",
       "  </thead>\n",
       "  <tbody>\n",
       "    <tr>\n",
       "      <th>9301</th>\n",
       "      <td>can you make reservations at hodak's</td>\n",
       "      <td>accept_reservations</td>\n",
       "    </tr>\n",
       "    <tr>\n",
       "      <th>9302</th>\n",
       "      <td>tell me if per se in nyc takes reservations</td>\n",
       "      <td>accept_reservations</td>\n",
       "    </tr>\n",
       "    <tr>\n",
       "      <th>9303</th>\n",
       "      <td>tell me if the cheshire takes reservations</td>\n",
       "      <td>accept_reservations</td>\n",
       "    </tr>\n",
       "    <tr>\n",
       "      <th>9304</th>\n",
       "      <td>will qdoba take reservations</td>\n",
       "      <td>accept_reservations</td>\n",
       "    </tr>\n",
       "    <tr>\n",
       "      <th>9305</th>\n",
       "      <td>does burger king accept reservations</td>\n",
       "      <td>accept_reservations</td>\n",
       "    </tr>\n",
       "    <tr>\n",
       "      <th>...</th>\n",
       "      <td>...</td>\n",
       "      <td>...</td>\n",
       "    </tr>\n",
       "    <tr>\n",
       "      <th>15095</th>\n",
       "      <td>how can i become an aerospace engineer</td>\n",
       "      <td>oos</td>\n",
       "    </tr>\n",
       "    <tr>\n",
       "      <th>15096</th>\n",
       "      <td>what percentage of species display cold bloode...</td>\n",
       "      <td>oos</td>\n",
       "    </tr>\n",
       "    <tr>\n",
       "      <th>15097</th>\n",
       "      <td>what does it mean to be an alpha male</td>\n",
       "      <td>oos</td>\n",
       "    </tr>\n",
       "    <tr>\n",
       "      <th>15098</th>\n",
       "      <td>why do males want to be alpha</td>\n",
       "      <td>oos</td>\n",
       "    </tr>\n",
       "    <tr>\n",
       "      <th>15099</th>\n",
       "      <td>what's the average battery life of an android ...</td>\n",
       "      <td>oos</td>\n",
       "    </tr>\n",
       "  </tbody>\n",
       "</table>\n",
       "<p>5799 rows × 2 columns</p>\n",
       "</div>"
      ],
      "text/plain": [
       "                                                    text               intent\n",
       "9301                can you make reservations at hodak's  accept_reservations\n",
       "9302         tell me if per se in nyc takes reservations  accept_reservations\n",
       "9303          tell me if the cheshire takes reservations  accept_reservations\n",
       "9304                        will qdoba take reservations  accept_reservations\n",
       "9305                does burger king accept reservations  accept_reservations\n",
       "...                                                  ...                  ...\n",
       "15095             how can i become an aerospace engineer                  oos\n",
       "15096  what percentage of species display cold bloode...                  oos\n",
       "15097              what does it mean to be an alpha male                  oos\n",
       "15098                      why do males want to be alpha                  oos\n",
       "15099  what's the average battery life of an android ...                  oos\n",
       "\n",
       "[5799 rows x 2 columns]"
      ]
     },
     "execution_count": 2,
     "metadata": {},
     "output_type": "execute_result"
    }
   ],
   "source": [
    "import pandas as pd\n",
    "pd.read_csv('/home/student/katya/tbank-ml-camp-sirius/data/llm_train_dataset.csv')[9301:]"
   ]
  },
  {
   "cell_type": "code",
   "execution_count": null,
   "metadata": {},
   "outputs": [],
   "source": [
    "6401+"
   ]
  }
 ],
 "metadata": {
  "colab": {
   "collapsed_sections": [
    "IsJpIuv31d-_",
    "8dxw_cUx1d_A",
    "0uozwoRw1d_B"
   ],
   "provenance": []
  },
  "kaggle": {
   "accelerator": "gpu",
   "dataSources": [
    {
     "datasetId": 6264491,
     "sourceId": 10148109,
     "sourceType": "datasetVersion"
    },
    {
     "datasetId": 6270634,
     "sourceId": 10156229,
     "sourceType": "datasetVersion"
    },
    {
     "datasetId": 6271781,
     "sourceId": 10157699,
     "sourceType": "datasetVersion"
    },
    {
     "datasetId": 6274670,
     "sourceId": 10161451,
     "sourceType": "datasetVersion"
    }
   ],
   "dockerImageVersionId": 30804,
   "isGpuEnabled": true,
   "isInternetEnabled": true,
   "language": "python",
   "sourceType": "notebook"
  },
  "kernelspec": {
   "display_name": "Python 3 (ipykernel)",
   "language": "python",
   "name": "python3"
  },
  "language_info": {
   "codemirror_mode": {
    "name": "ipython",
    "version": 3
   },
   "file_extension": ".py",
   "mimetype": "text/x-python",
   "name": "python",
   "nbconvert_exporter": "python",
   "pygments_lexer": "ipython3",
   "version": "3.10.12"
  }
 },
 "nbformat": 4,
 "nbformat_minor": 4
}
